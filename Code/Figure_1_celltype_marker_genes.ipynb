{
 "cells": [
  {
   "cell_type": "code",
   "execution_count": 2,
   "id": "95f429a9",
   "metadata": {
    "scrolled": true,
    "vscode": {
     "languageId": "r"
    }
   },
   "outputs": [],
   "source": [
    "###Differential expression analysis of PFC\n",
    "## Andi Liu\n",
    "# 1/9/2024\n",
    "\n",
    "## loading\n",
    "suppressPackageStartupMessages({\n",
    "library(Seurat)\n",
    "library(Signac)\n",
    "library(dplyr)\n",
    "library(patchwork)\n",
    "library(future)\n",
    "library(stringr)\n",
    "library(tidydr)\n",
    "library(tidyverse)\n",
    "library(viridis)\n",
    "library(qs)\n",
    "library(ggplot2)\n",
    "library(readxl)\n",
    "\n",
    "library(RColorBrewer)\n",
    "library(ComplexHeatmap)\n",
    "library(circlize)\n",
    "\n",
    "library(GenomicRanges)\n",
    "library(GenomicFeatures)\n",
    "library(EnsDb.Hsapiens.v86)\n",
    "library(BSgenome.Hsapiens.UCSC.hg38)\n",
    "})\n",
    "setwd(\"/data2/aliu8/2023_AD_multiome/Analysis/\")"
   ]
  },
  {
   "cell_type": "code",
   "execution_count": null,
   "id": "de15112a",
   "metadata": {
    "vscode": {
     "languageId": "r"
    }
   },
   "outputs": [],
   "source": [
    "### loading object\n",
    "clean <- readRDS(\"03.clean_object_rmOutlier.rds\")\n",
    "ls()\n",
    "#clean\n",
    "meta <- clean@meta.data\n",
    "head(meta)"
   ]
  },
  {
   "cell_type": "code",
   "execution_count": 40,
   "id": "348506ed",
   "metadata": {
    "vscode": {
     "languageId": "r"
    }
   },
   "outputs": [],
   "source": [
    "#######################################################\n",
    "## region umap ########################################\n",
    "#######################################################\n",
    "col1=c('#F06719','#33A65C','#23767C','#E03426','#1BA3C6',\"#A26DC2\",\"#FCB905\",\"#EB73B3\")\n",
    "names(col1)=c('Astrocyte','Excitatory','Inhibitory','Microglia','Oligodendrocyte',\"OPC\",\"Endothelial\",\"VLMC/Per\")\n",
    "cols=c(unname(col1),'grey90')\n",
    "names(cols)=c(names(col1),'other')"
   ]
  },
  {
   "cell_type": "code",
   "execution_count": null,
   "id": "6e6ab927",
   "metadata": {
    "vscode": {
     "languageId": "r"
    }
   },
   "outputs": [],
   "source": [
    "### Figure 1 panel b ###\n",
    "umap_theme <- theme_dr()+theme(panel.grid.major = element_blank(), \n",
    "                                            panel.grid.minor = element_blank(),\n",
    "                                            panel.background = element_blank(), \n",
    "                                            axis.line = element_line(colour = \"black\"))\n",
    "\n",
    "pdf(file='./Figures/UMAP/Regions/BrainRegion_UMAP_modality.pdf',width = 5,height = 5)\n",
    "print(DimPlot(clean,reduction = 'wnn.umap',label = F,group.by = 'cluster_celltype',cols=cols,pt.size = 0.2)+umap_theme+NoLegend()+ggtitle(\"ALL\"))\n",
    "print(DimPlot(clean,reduction = 'harmony.rna.umap',label = F,group.by = 'cluster_celltype',cols=cols,pt.size = 0.2)+umap_theme+NoLegend()+ggtitle(\"RNA\"))\n",
    "print(DimPlot(clean,reduction = 'harmony.peaks.umap',label = F,group.by = 'cluster_celltype',cols=cols,pt.size = 0.2)+umap_theme+NoLegend()+ggtitle(\"ATAC\"))\n",
    "dev.off()"
   ]
  },
  {
   "cell_type": "code",
   "execution_count": 8,
   "id": "2755a064",
   "metadata": {
    "scrolled": true,
    "vscode": {
     "languageId": "r"
    }
   },
   "outputs": [],
   "source": [
    "################################################################################\n",
    "############################# clean the metadata ###############################\n",
    "################################################################################\n",
    "# pull out metadata\n",
    "biospecimen_meta <- read.csv(\"./Analysis/EOAD_biospecimen_metadata.csv\")\n",
    "meta <- clean@meta.data\n",
    "\n",
    "# add phenotype information\n",
    "id <- match(clean\\$individual_ID,biospecimen_meta\\$Simple_ID)\n",
    "\n",
    "meta\\$sex <- as.factor(biospecimen_meta[id,]\\$Sex)\n",
    "meta\\$age <- biospecimen_meta[id,]\\$Age\n",
    "meta\\$race <- as.factor(biospecimen_meta[id,]\\$Race)\n",
    "meta\\$ethinicity <- as.factor(biospecimen_meta[id,]\\$Ethinicity)\n",
    "meta\\$PMI <- biospecimen_meta[id,]\\$PMI.Hours.\n",
    "meta\\$RIN <- biospecimen_meta[id,]\\$New_RIN\n",
    "meta\\$batch <- as.factor(meta\\$batch)\n",
    "#meta\\$batch <- biospecimen_meta[id,]\\$Batch\n",
    "\n",
    "#meta\n",
    "\n",
    "## assign back\n",
    "clean@meta.data <- meta"
   ]
  },
  {
   "cell_type": "code",
   "execution_count": null,
   "id": "19789945-c2bd-4b4d-b010-7b2a9bd20f73",
   "metadata": {
    "vscode": {
     "languageId": "r"
    }
   },
   "outputs": [],
   "source": [
    "### Figure 1 panel c\n",
    "######################################################################\n",
    "###########-- check cell type marker genes on each cluster --#########\n",
    "######################################################################\n",
    "Idents(clean) <- \"cluster_celltype\"\n",
    "Idents(clean) <- factor(clean@active.ident, sort(levels(clean@active.ident),decreasing = T))\n",
    "\n",
    "DefaultAssay(clean) <- \"PC\"\n",
    "\n",
    "p1 <-  DotPlot(clean,cols = viridis(3, option = \"plasma\"),\n",
    "             features = c(\"AQP4\",\"GFAP\",\"GJA1\", # astrocytes\n",
    "                          \"FLT1\",\"CLDN5\",\"ITM2A\",# endotheial\n",
    "                                 #\"SYT1\",#neuron in general\n",
    "                          \"SLC17A7\",\"NRGN\",\"CAMK2A\",# excitatory neurons\n",
    "                          \"GAD2\",\"GAD1\", # inhibitory neurons\n",
    "                          \"CSF1R\",\"CD74\",\"C3\",# microglia\n",
    "                          \"MOBP\",\"MOG\",\"PLP1\",# oligodendrocyte\n",
    "                          \"PDGFRA\",\"VCAN\",\"OLIG2\", # OPCs\n",
    "                          \"PDGFRB\",\"PDE5A\" # VLMC/Pericyte\n",
    "                                )) + RotatedAxis() +\n",
    "                                    theme(axis.title = element_blank(),legend.position = \"top\")\n",
    "ggsave(filename = \"./Figures/Fig1/CT_features_dotplot.pdf\",\n",
    "    patchwork::wrap_plots(p1, ncol = 1),\n",
    "      scale = 1, width = 9, height = 4)"
   ]
  },
  {
   "cell_type": "code",
   "execution_count": 18,
   "id": "3853e47c",
   "metadata": {
    "vscode": {
     "languageId": "r"
    }
   },
   "outputs": [],
   "source": [
    "### Figure 1 panel d\n",
    "## marker_coverage_plot\n",
    "DefaultAssay(clean)<-\"ATAC\"\n",
    "Annotation(clean) <- annot\n",
    "a<-FindRegion(clean, \"AQP4\"  ,extend.downstream=800,extend.upstream=100)\n",
    "b<-FindRegion(clean, \"SLC17A7\" ,extend.downstream=500,extend.upstream=100)\n",
    "c<-FindRegion(clean, \"GAD2\"  ,extend.downstream=100,extend.upstream=1000)\n",
    "d<-FindRegion(clean, \"CSF1R\",extend.downstream=400,extend.upstream=100)\n",
    "e<-FindRegion(clean, \"MOBP\"  ,extend.downstream=100,extend.upstream=1000)\n",
    "f<-FindRegion(clean, \"PDGFRA\"  ,extend.downstream=100,extend.upstream=1000) "
   ]
  },
  {
   "cell_type": "code",
   "execution_count": null,
   "id": "323452d5-9986-4628-b008-792b1352867b",
   "metadata": {
    "scrolled": true,
    "vscode": {
     "languageId": "r"
    }
   },
   "outputs": [],
   "source": [
    "DefaultAssay(clean)<-\"ATAC\"\n",
    "\n",
    "Annotation(clean)<-annot[which(annot$gene_name==\"AQP4\"),]\n",
    "p1<-CoveragePlot(clean,window=400,idents=c(\"Astrocyte\",\"Excitatory\",\"Inhibitory\",\"Microglia\",\"Oligodendrocyte\",\"OPC\"),\n",
    "                 group.by=\"cluster_celltype\",annotation=F,peaks=F, region =a)+\n",
    "    scale_fill_manual(values=c(\"#F06719\",\"#33A65C\",\"#23767C\",\"#E03426\",\"#EB73B3\",\"#A26DC2\"))+ \n",
    "    theme(strip.text.y.left = element_blank(),axis.ticks.y = element_blank(),\n",
    "          #axis.line.y = element_blank(),\n",
    "          strip.background = element_blank(),plot.title = element_text(hjust = 0.5), axis.title.y=element_blank())+ggtitle(\"AQP4\")\n",
    "\n",
    "anPlot<-AnnotationPlot(clean, region=a)+ scale_color_manual(values=\"darkgreen\")+\n",
    "        theme(strip.text.y.left = element_blank(),strip.background = element_blank(),axis.ticks.x = element_blank(), \n",
    "              axis.text.x=element_blank(),axis.title.y=element_blank(),plot.title = element_text(hjust = 0.5))\n",
    "\n",
    "p1<-CombineTracks(list(p1,anPlot),heights=c(7,1))\n",
    "\n",
    "Annotation(clean)<-annot[which(annot$gene_name==\"SLC17A7\"),]\n",
    "p2<-CoveragePlot(clean,window=400,idents=c(\"Astrocyte\",\"Excitatory\",\"Inhibitory\",\"Microglia\",\"Oligodendrocyte\",\"OPC\"),\n",
    "                 group.by=\"cluster_celltype\",annotation=F,peaks=F, region =b)+\n",
    "    scale_fill_manual(values=c(\"#F06719\",\"#33A65C\",\"#23767C\",\"#E03426\",\"#EB73B3\",\"#A26DC2\"))+ \n",
    "    theme(strip.text.y.left = element_blank(),axis.ticks.y = element_blank(),\n",
    "          axis.line.y = element_blank(),strip.background = element_blank(),plot.title = element_text(hjust = 0.5), axis.title.y=element_blank())+ggtitle(\"SLC17A7\")\n",
    "\n",
    "anPlot<-AnnotationPlot(clean, region=b)+ scale_color_manual(values=\"darkgreen\")+\n",
    "        theme(strip.text.y.left = element_blank(),strip.background = element_blank(), axis.line.y = element_blank(),axis.ticks.x = element_blank(),\n",
    "              axis.text.x=element_blank(),axis.title.y=element_blank(),plot.title = element_text(hjust = 0.5))\n",
    "\n",
    "p2<-CombineTracks(list(p2,anPlot),heights=c(7,1))\n",
    "\n",
    "Annotation(clean)<-annot[which(annot$gene_name==\"GAD2\"),]\n",
    "p3<-CoveragePlot(clean,window=500,idents=c(\"Astrocyte\",\"Excitatory\",\"Inhibitory\",\"Microglia\",\"Oligodendrocyte\",\"OPC\"),\n",
    "                 group.by=\"cluster_celltype\",annotation=F,peaks=F, region =c)+\n",
    "    scale_fill_manual(values=c(\"#F06719\",\"#33A65C\",\"#23767C\",\"#E03426\",\"#EB73B3\",\"#A26DC2\"))+ \n",
    "    theme(strip.text.y.left = element_blank(),axis.ticks.y = element_blank(),\n",
    "          axis.line.y = element_blank(),strip.background = element_blank(),plot.title = element_text(hjust = 0.5), axis.title.y=element_blank())+ggtitle(\"GAD2\")\n",
    "\n",
    "anPlot<-AnnotationPlot(clean, region=c)+\n",
    "        theme(strip.text.y.left = element_blank(),strip.background = element_blank(), axis.line.y = element_blank(),axis.ticks.x = element_blank(),\n",
    "              axis.text.x=element_blank(),axis.title.y=element_blank(),plot.title = element_text(hjust = 0.5))\n",
    "\n",
    "p3<-CombineTracks(list(p3,anPlot),heights=c(7,1))\n",
    "\n",
    "Annotation(clean)<-annot[which(annot$gene_name==\"CSF1R\"),]\n",
    "p4<-CoveragePlot(clean,window=500,idents=c(\"Astrocyte\",\"Excitatory\",\"Inhibitory\",\"Microglia\",\"Oligodendrocyte\",\"OPC\"),\n",
    "                 group.by=\"cluster_celltype\",annotation=F,peaks=F, region =d)+\n",
    "    scale_fill_manual(values=c(\"#F06719\",\"#33A65C\",\"#23767C\",\"#E03426\",\"#EB73B3\",\"#A26DC2\"))+ \n",
    "    theme(strip.text.y.left = element_blank(),axis.ticks.y = element_blank(),\n",
    "          axis.line.y = element_blank(),strip.background = element_blank(),plot.title = element_text(hjust = 0.5), axis.title.y=element_blank())+ggtitle(\"CSF1R\")\n",
    "\n",
    "anPlot<-AnnotationPlot(clean, region=d)+scale_color_manual(values=\"darkgreen\")+\n",
    "        theme(strip.text.y.left = element_blank(),strip.background = element_blank(), axis.line.y = element_blank(),axis.ticks.x = element_blank(),\n",
    "              axis.text.x=element_blank(),axis.title.y=element_blank(),plot.title = element_text(hjust = 0.5))\n",
    "\n",
    "p4<-CombineTracks(list(p4,anPlot),heights=c(7,1))\n",
    "\n",
    "Annotation(clean)<-annot[which(annot$gene_name==\"MOBP\"),]\n",
    "p5<-CoveragePlot(clean,window=600,idents=c(\"Astrocyte\",\"Excitatory\",\"Inhibitory\",\"Microglia\",\"Oligodendrocyte\",\"OPC\"),\n",
    "                 group.by=\"cluster_celltype\",annotation=F,peaks=F, region =e)+\n",
    "    scale_fill_manual(values=c(\"#F06719\",\"#33A65C\",\"#23767C\",\"#E03426\",\"#EB73B3\",\"#A26DC2\"))+ \n",
    "    theme(strip.text.y.left = element_blank(),axis.ticks.y = element_blank(),\n",
    "          axis.line.y = element_blank(),strip.background = element_blank(),plot.title = element_text(hjust = 0.5), axis.title.y=element_blank())+ggtitle(\"MOBP\")\n",
    "\n",
    "anPlot<-AnnotationPlot(clean, region=e)+\n",
    "        theme(strip.text.y.left = element_blank(),strip.background = element_blank(), axis.line.y = element_blank(),axis.ticks.x = element_blank(),\n",
    "              axis.text.x=element_blank(),axis.title.y=element_blank(),plot.title = element_text(hjust = 0.5))\n",
    "\n",
    "p5<-CombineTracks(list(p5,anPlot),heights=c(7,1))\n",
    "\n",
    "Annotation(clean)<-annot[which(annot$gene_name==\"PDGFRA\"),]\n",
    "p6<-CoveragePlot(clean,window=800,idents=c(\"Astrocyte\",\"Excitatory\",\"Inhibitory\",\"Microglia\",\"Oligodendrocyte\",\"OPC\"),\n",
    "                 group.by=\"cluster_celltype\",annotation=F,peaks=F, region =f)+\n",
    "    scale_fill_manual(values=c(\"#F06719\",\"#33A65C\",\"#23767C\",\"#E03426\",\"#EB73B3\",\"#A26DC2\"))+ \n",
    "    theme(strip.text.y.left = element_blank(),axis.ticks.y = element_blank(),\n",
    "          axis.line.y = element_blank(),strip.background = element_blank(),plot.title = element_text(hjust = 0.5), axis.title.y=element_blank())+ggtitle(\"PDGFRA\")\n",
    "\n",
    "anPlot<-AnnotationPlot(clean, region=f)+\n",
    "        theme(strip.text.y.left = element_blank(),strip.background = element_blank(), axis.line.y = element_blank(),axis.ticks.x = element_blank(),\n",
    "              axis.text.x=element_blank(),axis.title.y=element_blank(),plot.title = element_text(hjust = 0.5))\n",
    "\n",
    "p6<-CombineTracks(list(p6,anPlot),heights=c(7,1))"
   ]
  },
  {
   "cell_type": "code",
   "execution_count": null,
   "id": "41a07513-a599-4706-b077-5b10b8d6d296",
   "metadata": {
    "vscode": {
     "languageId": "r"
    }
   },
   "outputs": [],
   "source": [
    "library(cowplot)\n",
    "pdf(\"./Figures/marker_coverage_plot.pdf\", width=12, height=7)\n",
    "patchwork::wrap_plots(p1,p2,p3,p4,p5,p6,ncol = 6)\n",
    "dev.off()"
   ]
  },
  {
   "cell_type": "code",
   "execution_count": null,
   "id": "3cbb1cb5",
   "metadata": {
    "vscode": {
     "languageId": "r"
    }
   },
   "outputs": [],
   "source": [
    "### Figure 1 panel e\n",
    "### proportional analysis \n",
    "library(speckle)\n",
    "meta <- clean@meta.data\n",
    "\n",
    "## PFC\n",
    "p1 <- plotCellTypeProps(clusters = meta[meta$regions == \"PFC\",]$cluster_celltype,\n",
    "                        sample = meta[meta$regions == \"PFC\",]$individual_ID,)+ \n",
    "  theme(axis.text.x = element_text(angle = 45))+ ggtitle(\"Cell type proportions by PFC samples by cluster\") + \n",
    "  theme(plot.title = element_text(size = 18, hjust = 0))\n",
    "p1 <- p1 + theme_bw() + theme(panel.grid.major = element_blank(),\n",
    "                        panel.grid.minor = element_blank()) + theme(axis.text.x = element_text(angle = 90))\n",
    "\n",
    "## EC\n",
    "p2 <- plotCellTypeProps(clusters = meta[meta$regions == \"EC\",]$major.cell.type.prediction.mathy,\n",
    "                        sample = meta[meta$regions == \"EC\",]$individual_ID,)+ \n",
    "  theme(axis.text.x = element_text(angle = 45))+ ggtitle(\"Cell type proportions by EC samples by cluster\") + \n",
    "  theme(plot.title = element_text(size = 18, hjust = 0))\n",
    "p2 <- p2 + theme_bw() + theme(panel.grid.major = element_blank(),\n",
    "                        panel.grid.minor = element_blank()) + theme(axis.text.x = element_text(angle = 90))\n",
    "## HIP\n",
    "p3 <- plotCellTypeProps(clusters = meta[meta$regions == \"HIP\",]$major.cell.type.prediction.mathy,\n",
    "                        sample = meta[meta$regions == \"HIP\",]$individual_ID,)+ \n",
    "  theme(axis.text.x = element_text(angle = 45))+ ggtitle(\"Cell type proportions by HIP samples by cluster\") + \n",
    "  theme(plot.title = element_text(size = 18, hjust = 0))\n",
    "p3 <- p3 + theme_bw() + theme(panel.grid.major = element_blank(),\n",
    "                        panel.grid.minor = element_blank()) + theme(axis.text.x = element_text(angle = 90))\n",
    "\n",
    "\n",
    "## saving cell type proportional figure\n",
    "library(cowplot)\n",
    "pdf(\"./Figures/Cell_type_proportion_by_individual_new.pdf\", width=12, height=5)\n",
    "plot_grid(p1,p2,p3, ncol=3)\n",
    "dev.off()\n"
   ]
  }
 ],
 "metadata": {
  "kernelspec": {
   "display_name": "R",
   "language": "R",
   "name": "ir"
  },
  "language_info": {
   "codemirror_mode": "r",
   "file_extension": ".r",
   "mimetype": "text/x-r-source",
   "name": "R",
   "pygments_lexer": "r",
   "version": "4.3.2"
  }
 },
 "nbformat": 4,
 "nbformat_minor": 5
}
