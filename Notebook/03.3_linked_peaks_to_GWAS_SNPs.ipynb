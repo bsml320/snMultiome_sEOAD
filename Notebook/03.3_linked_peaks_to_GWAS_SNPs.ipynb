{
 "cells": [
  {
   "cell_type": "code",
   "execution_count": null,
   "id": "52301eb7-3318-4f0c-a255-8255a67c5b8b",
   "metadata": {
    "scrolled": true,
    "vscode": {
     "languageId": "r"
    }
   },
   "outputs": [],
   "source": [
    "# overlap linked peaks to GWAS\n",
    "suppressPackageStartupMessages({\n",
    "library(stringr)\n",
    "library(GenomicRanges)\n",
    "library(GenomicFeatures)\n",
    "library(LDlinkR)\n",
    "\n",
    "## Loading\n",
    "library(Seurat)\n",
    "library(Signac)\n",
    "library(dplyr)\n",
    "library(patchwork)\n",
    "library(future)\n",
    "library(stringr)\n",
    "library(tidydr)\n",
    "library(tidyverse)\n",
    "library(viridis)\n",
    "library(ggplot2)\n",
    "library(EnsDb.Hsapiens.v86)\n",
    "library(BSgenome.Hsapiens.UCSC.hg38)\n",
    "\n",
    "# For motif analysis\n",
    "library(JASPAR2020)\n",
    "library(TFBSTools)\n",
    "library(rtracklayer)\n",
    "library(ComplexHeatmap)\n",
    "library(circlize)\n",
    "})"
   ]
  },
  {
   "cell_type": "code",
   "execution_count": null,
   "id": "c9d11a95",
   "metadata": {
    "vscode": {
     "languageId": "r"
    }
   },
   "outputs": [],
   "source": [
    "## read in lead SNPs from four AD GWAS\n",
    "Bellenguez_rsid <- read.csv(\"./Data/AD_GWAS_Bellenguez.csv\")\n",
    "Jansen_rsid <- read.csv(\"./Data/AD_GWAS_Jansen.csv\")\n",
    "Wightman_rsid <- read.csv(\"./Data/AD_GWAS_Wightman.csv\")\n",
    "Kunkle_rsid <- read.csv(\"./AD_GWAS/Kunkle_index_rsid.csv\")\n",
    "\n",
    "Bellenguez_rsid <- Bellenguez_rsid$Variant\n",
    "length(Bellenguez_rsid)\n",
    "Jansen_rsid <- Jansen_rsid$SNP\n",
    "length(Jansen_rsid)\n",
    "Wightman_rsid <- Wightman_rsid$Lead.variant\n",
    "length(Wightman_rsid)\n",
    "Kunkle_rsid <- Kunkle_rsid$RSID\n",
    "length(Kunkle_rsid)\n",
    "\n",
    "rsid_list <- unique(c(Bellenguez_rsid,Jansen_rsid,Wightman_rsid,Kunkle_rsid))\n",
    "length(rsid_list)\n",
    "\n",
    "#list_pop()"
   ]
  },
  {
   "cell_type": "code",
   "execution_count": null,
   "id": "d584d4ef",
   "metadata": {
    "vscode": {
     "languageId": "r"
    }
   },
   "outputs": [],
   "source": [
    "# rsid_list for EOAD based on the abstract https://alz-journals.onlinelibrary.wiley.com/doi/full/10.1002/alz.064268\n",
    "rsid_list <- c(\"rs9268852\",\"rs73199790\",\"rs2075895\",\"rs7108663\",\"rs6656401\") "
   ]
  },
  {
   "cell_type": "code",
   "execution_count": null,
   "id": "2c5dd2c0",
   "metadata": {
    "vscode": {
     "languageId": "r"
    }
   },
   "outputs": [],
   "source": [
    "#setwd(\"./Results/AD_GWAS_SNP/batch/\")\n",
    "LDproxy_batch(\n",
    "    snp = rsid_list,\n",
    "    pop = \"CEU\",\n",
    "    r2d = \"r2\",\n",
    "    token = \"764d73fdebf7\",\n",
    "    genome_build = \"grch38\"\n",
    ")"
   ]
  },
  {
   "cell_type": "code",
   "execution_count": null,
   "id": "472a3caf",
   "metadata": {
    "vscode": {
     "languageId": "r"
    }
   },
   "outputs": [],
   "source": [
    "snp_file <- list.files(\"./Results/AD_GWAS_SNP/batch/\")\n",
    "final = data.frame()\n",
    "for (i in snp_file){\n",
    "    inpath <- paste(\"./Results/AD_GWAS_SNP/batch/\",i,sep = \"\")\n",
    "    df <- read.table(inpath)\n",
    "    df <- df[df$R2 > 0.8,]\n",
    "\n",
    "    final <- rbind(final, df)\n",
    "}"
   ]
  },
  {
   "cell_type": "code",
   "execution_count": null,
   "id": "bd04dcf5",
   "metadata": {
    "vscode": {
     "languageId": "r"
    }
   },
   "outputs": [],
   "source": [
    "#final\n",
    "length(unique(final$RS_Number))##\n",
    "eur_list <- final"
   ]
  },
  {
   "cell_type": "code",
   "execution_count": null,
   "id": "75efa266",
   "metadata": {
    "vscode": {
     "languageId": "r"
    }
   },
   "outputs": [],
   "source": [
    "# Identification of SNPs of index SNP with R2 > 0.8\n",
    "# only one variant each time\n",
    "final <- data.frame()\n",
    "for (i in rsid_list){\n",
    "    tmp <- LDproxy(snp = i, \n",
    "                      pop = \"CEU\", \n",
    "                      r2d = \"r2\", \n",
    "                      token = \"764d73fdebf7\",\n",
    "                      genome_build = \"grch38\")\n",
    "    tmp <- as.data.frame(tmp)\n",
    "    tmp <- tmp[tmp$R2 >= 0.8,]\n",
    "    final <- rbind(final, tmp)   \n",
    "}\n",
    "final #with 148 index snp from four AD GWAS, expanded to xx snps, r2>0.8\n",
    "#final #with 23 index snp, expanded to 736 snps with R2>0.8"
   ]
  },
  {
   "cell_type": "code",
   "execution_count": null,
   "id": "91fa3a0b",
   "metadata": {
    "vscode": {
     "languageId": "r"
    }
   },
   "outputs": [],
   "source": [
    "## get all snps expanded from AD gwas\n",
    "final <- read.csv(\"./Results/AD_GWAS_SNP/EOAD_GWAS_SNP.csv\",row.names = 1)\n",
    "final <- unique(final)\n",
    "dim(final)\n",
    "head(final)\n",
    "length(unique(final$RS_Number))\n",
    "\n",
    "#out <- final[final$RS_Number %in% rsid_list,]\n",
    "#write.csv(out, file = \"./Results/AD_GWAS_SNP/rsid_list.csv\")\n",
    "\n",
    "#rsid_list <- read.csv(\"./Results/AD_GWAS_SNP/rsid_list.csv\")"
   ]
  },
  {
   "cell_type": "code",
   "execution_count": null,
   "id": "5ddeae36-80a4-4335-aa87-64d268083eb4",
   "metadata": {
    "scrolled": true,
    "vscode": {
     "languageId": "r"
    }
   },
   "outputs": [],
   "source": [
    "# from expanded snps list, generate a GRanges format file\n",
    "snp_coords <- as.data.frame(str_split_fixed(final$Coord,pattern = \":\",n=2))\n",
    "snp_coords$V3 = snp_coords$V2\n",
    "snp_coords$RSID <- final$RS_Number\n",
    "snp_coords$Alleles <- final$Alleles\n",
    "#snp_coords$MAF <- final$MAF\n",
    "#snp_coords$Distance <- final$Distance\n",
    "#snp_coords$R2 <- final$R2\n",
    "\n",
    "\n",
    "colnames(snp_coords) <- c(\"chr\",\"start\",\"end\",\"RSID\",\"Alleles\")\n",
    "snp_coords <- GRanges(snp_coords)\n",
    "snp_coords <- unique(snp_coords)\n",
    "snp_coords"
   ]
  },
  {
   "cell_type": "code",
   "execution_count": null,
   "id": "7b4cab68-b06e-4041-a299-39c438d09a5b",
   "metadata": {
    "scrolled": true,
    "vscode": {
     "languageId": "r"
    }
   },
   "outputs": [],
   "source": [
    "library(TxDb.Hsapiens.UCSC.hg38.knownGene)\n",
    "txdb <- TxDb.Hsapiens.UCSC.hg38.knownGene\n",
    "# downloaded hg38 known gene annotation from UCSC: https://hgdownload.soe.ucsc.edu/goldenPath/hg38/bigZips/genes/\n",
    "\n",
    "# extract coding regions\n",
    "cdsByGene <- cdsBy(txdb, by=\"gene\")\n",
    "txdb\n",
    "cdsByGene <- unlist(cdsByGene)"
   ]
  },
  {
   "cell_type": "code",
   "execution_count": null,
   "id": "275ccbc5-bc7c-4ad1-963c-fec38026de91",
   "metadata": {
    "vscode": {
     "languageId": "r"
    }
   },
   "outputs": [],
   "source": [
    "## find snps located in coding regions. \n",
    "cg_hit <- findOverlaps(snp_coords, cdsByGene)\n",
    "cg_hit # find numbers of snps locaded in the coding regions. \n",
    "\n",
    "## keep only non-coding expaned hits\n",
    "noncoding_snp_coords <- snp_coords[-queryHits(cg_hit)]\n",
    "noncoding_snp_coords"
   ]
  },
  {
   "cell_type": "code",
   "execution_count": null,
   "id": "9e45f756",
   "metadata": {
    "vscode": {
     "languageId": "r"
    }
   },
   "outputs": [],
   "source": [
    "getwd()"
   ]
  },
  {
   "cell_type": "markdown",
   "id": "e7e8ca90",
   "metadata": {
    "vscode": {
     "languageId": "r"
    }
   },
   "source": [
    "### Overlaping linked cCRE with GWAS signals; Figure 6a"
   ]
  },
  {
   "cell_type": "code",
   "execution_count": null,
   "id": "1c41e2a7",
   "metadata": {
    "vscode": {
     "languageId": "r"
    }
   },
   "outputs": [],
   "source": [
    "linked_peaks <- read.csv(\"./Results/LINK/PFC_linkpeaks_all_annotated_1.23.csv\")\n",
    "# linked_peaks <- read.csv(\"./Results/LINK/EC_linkpeaks_all_annotated_1.23.csv\")\n",
    "# linked_peaks <- read.csv(\"./Results/LINK/HIP_linkpeaks_all_annotated_1.23.csv\")\n",
    "\n",
    "#linked_peaks <- linked_peaks[linked_peaks$score > 0.1,]\n",
    "linked_peaks <- unique(linked_peaks)\n",
    "dim(linked_peaks)"
   ]
  },
  {
   "cell_type": "code",
   "execution_count": null,
   "id": "dfe4e288",
   "metadata": {
    "vscode": {
     "languageId": "r"
    }
   },
   "outputs": [],
   "source": [
    "atac_peaks <- linked_peaks[,c(\"seqnames\",\"peak.start\",\"peak.end\")] \n",
    "atac_peaks <- GRanges(atac_peaks)\n",
    "atac_peaks"
   ]
  },
  {
   "cell_type": "code",
   "execution_count": null,
   "id": "62df842d",
   "metadata": {
    "vscode": {
     "languageId": "r"
    }
   },
   "outputs": [],
   "source": [
    "# Find overlaps\n",
    "#overlaps <- findOverlaps(snp_coords,atac_peaks)\n",
    "overlaps <- findOverlaps(noncoding_snp_coords,atac_peaks)\n",
    "overlaps\n",
    "\n",
    "# SNPs within ATAC-seq peaks\n",
    "#snps_within_peaks <- snp_coords[queryHits(overlaps)]\n",
    "snps_within_peaks <- noncoding_snp_coords[queryHits(overlaps)]\n",
    "snps_within_peaks\n",
    "\n",
    "# ATAC-seq peaks contain SNPs\n",
    "peaks_contain_snps <- linked_peaks[subjectHits(overlaps),]\n",
    "#peaks_contain_snps <- unique(peaks_contain_snps)\n",
    "dim(peaks_contain_snps)\n",
    "\n",
    "\n",
    "#unique(peaks_contain_snps$comb)\n",
    "table(peaks_contain_snps$celltype)\n",
    "length(unique(peaks_contain_snps$comb))\n",
    "length(unique(peaks_contain_snps$gene))"
   ]
  },
  {
   "cell_type": "code",
   "execution_count": null,
   "id": "fad54be7",
   "metadata": {
    "vscode": {
     "languageId": "r"
    }
   },
   "outputs": [],
   "source": [
    "## cleaning and writting\n",
    "out <- cbind(peaks_contain_snps,as.data.frame(snps_within_peaks))\n",
    "out <- unique(out)\n",
    "table(out$celltype)\n",
    "table(out$cluster)\n",
    "dim(out)\n",
    "\n",
    "write.csv(out,file = \"./Results/LINK/AD_GWAS_overlap_HIP_1.23.csv\",row.names = F)\n",
    "#write.csv(out,file = \"./Results/LINK/AD_GWAS_overlap_DAR_CT_2.9.csv\",row.names = F)"
   ]
  },
  {
   "cell_type": "markdown",
   "id": "a02d91f3",
   "metadata": {
    "vscode": {
     "languageId": "r"
    }
   },
   "source": [
    "### Organizing all the GWAS overlap results"
   ]
  },
  {
   "cell_type": "code",
   "execution_count": null,
   "id": "18566d04",
   "metadata": {
    "vscode": {
     "languageId": "r"
    }
   },
   "outputs": [],
   "source": [
    "pfc_out <- read.csv(\"./Results/LINK/AD_GWAS_overlap_PFC_1.23.csv\")\n",
    "ec_out <- read.csv(\"./Results/LINK/AD_GWAS_overlap_EC_1.23.csv\")\n",
    "hip_out <- read.csv(\"./Results/LINK/AD_GWAS_overlap_HIP_1.23.csv\")\n",
    "\n",
    "dim(pfc_out)\n",
    "dim(ec_out)\n",
    "dim(hip_out)\n",
    "\n",
    "pfc_out$comb <-paste(pfc_out$peak,pfc_out$gene,pfc_out$celltype,sep =\"_\")\n",
    "ec_out$comb <-paste(ec_out$peak,ec_out$gene,ec_out$celltype,sep =\"_\")\n",
    "hip_out$comb <-paste(hip_out$peak,hip_out$gene,hip_out$celltype,sep =\"_\")\n",
    "\n",
    "l1 <- pfc_out$comb\n",
    "l2 <- ec_out$comb\n",
    "l3 <- hip_out$comb\n",
    "\n",
    "#unique(l1)\n",
    "#unique(l2)\n",
    "#unique(l3)\n",
    "unique(c(l1,l2,l3))\n",
    "length(unique(c(l1,l2,l3)))\n",
    "\n",
    "length(unique(pfc_out$peak))\n",
    "length(unique(ec_out$peak))\n",
    "length(unique(hip_out$peak))\n",
    "\n",
    "length(unique(pfc_out$RSID))\n",
    "length(unique(ec_out$RSID))\n",
    "length(unique(hip_out$RSID))\n",
    "\n",
    "## unique rsid that overlap with peaks linked to DEGs\n",
    "length(unique(c(pfc_out$RSID,ec_out$RSID,hip_out$RSID)))"
   ]
  },
  {
   "cell_type": "code",
   "execution_count": null,
   "id": "6c5dd161",
   "metadata": {
    "vscode": {
     "languageId": "r"
    }
   },
   "outputs": [],
   "source": [
    "length(unique(c(pfc_out$peak,ec_out$peak,hip_out$peak)))\n",
    "length(unique(c(pfc_out$gene,ec_out$gene,hip_out$gene)))"
   ]
  },
  {
   "cell_type": "markdown",
   "id": "4ee932e1",
   "metadata": {
    "vscode": {
     "languageId": "r"
    }
   },
   "source": [
    "### Figure 6b: lolipop plot"
   ]
  },
  {
   "cell_type": "code",
   "execution_count": null,
   "id": "b261896a",
   "metadata": {
    "vscode": {
     "languageId": "r"
    }
   },
   "outputs": [],
   "source": [
    "## in house CT peaks bed\n",
    "ctpeaks <- read.csv(\"./Results/CTpeaks_annotated.csv\",row.names = 1)\n",
    "#head(ctpeaks)\n",
    "colnames(ctpeaks) <- c(\"chr\",\"start\",\"end\",\"width\",\"strand\",\"peak_called_in\")\n",
    "ctpeaks <- GRanges(ctpeaks)\n",
    "ctpeaks\n",
    "# empty df\n",
    "final <- data.frame()"
   ]
  },
  {
   "cell_type": "code",
   "execution_count": null,
   "id": "d8151ce1",
   "metadata": {
    "vscode": {
     "languageId": "r"
    }
   },
   "outputs": [],
   "source": [
    "# linked_peaks <- read.csv(\"./Results/LINK/PFC_linkpeaks_all_annotated_1.23.csv\")\n",
    "#linked_peaks <- read.csv(\"./Results/LINK/EC_linkpeaks_all_annotated_1.23.csv\")\n",
    "linked_peaks <- read.csv(\"./Results/LINK/HIP_linkpeaks_all_annotated_1.23.csv\")\n",
    "\n",
    "# table(linked_peaks$pvalue<0.05)\n",
    "linked_peaks$p.adj = p.adjust(linked_peaks$pvalue,method = \"BH\")\n",
    "table(linked_peaks$p.adj<0.05)"
   ]
  },
  {
   "cell_type": "code",
   "execution_count": null,
   "id": "50d0b11f",
   "metadata": {
    "vscode": {
     "languageId": "r"
    }
   },
   "outputs": [],
   "source": [
    "res <- data.frame(\n",
    "    celltype = unique(linked_peaks$celltype),\n",
    "    region = \"HIP\",\n",
    "    N_EOAD_DEG_linked_peaks = NA,\n",
    "    N_peaks_contain_LOAD_SNPs = NA,\n",
    "    N_interactions = NA,\n",
    "    N_non_EOAD_DEG_ctpeaks = NA,\n",
    "    N_other_ctpeaks_contain_SNPs = NA, \n",
    "    Fishers_p = NA\n",
    ")"
   ]
  },
  {
   "cell_type": "code",
   "execution_count": null,
   "id": "453c8bde",
   "metadata": {
    "vscode": {
     "languageId": "r"
    }
   },
   "outputs": [],
   "source": [
    "## performing overlapping and Fisher's exact test.\n",
    "for (i in unique(linked_peaks$celltype)){\n",
    "    print(i)\n",
    "\n",
    "    temp <- linked_peaks[linked_peaks$score >=0.05 & linked_peaks$p.adj < 0.05 & linked_peaks$celltype == i,]\n",
    "    # convert linked_peaks to GRanges format\n",
    "    message(\"Number of significantly correlated peaks to DEGs\")\n",
    "    print(dim(temp))\n",
    "    atac_peaks <- temp[,c(\"seqnames\",\"peak.start\",\"peak.end\")] \n",
    "    atac_peaks <- GRanges(atac_peaks)\n",
    "    #atac_peaks\n",
    "    \n",
    "    ## ct peaks that are not cell type AD-DEG linked peaks\n",
    "    ctpeaks_ct <- ctpeaks[grep(i, ctpeaks$peak_called_in)]\n",
    "    temp2 <- ctpeaks_ct[!ctpeaks_ct %in% atac_peaks]\n",
    "    #temp2\n",
    "\n",
    "    res[res$celltype == i,]$N_EOAD_DEG_linked_peaks <- length(atac_peaks)\n",
    "    res[res$celltype == i,]$N_non_EOAD_DEG_ctpeaks <- length(temp2)\n",
    "\n",
    "    overlaps_ct <- findOverlaps(noncoding_snp_coords,atac_peaks)\n",
    "    overlaps_all <- findOverlaps(noncoding_snp_coords,temp2)\n",
    "\n",
    "    ## performing Fisher test\n",
    "   a <- length(unique(subjectHits(overlaps_ct)))\n",
    "   b <- length(atac_peaks) - a\n",
    "   c <- length(unique(subjectHits(overlaps_all)))\n",
    "   d <- length(temp2) - c\n",
    "\n",
    "   ## fisher exact test\n",
    "    df <- data.frame(\"AD_DEG_linked_peaks\" = c(a,b),\"other_peaks\" = c(c,d),row.names = c(\"contain_LOAD_GWAS_SNPs\",\"not_contrain_LOAD_GWAS_SNPs\"))\n",
    "    #df\n",
    "    temp3 <- fisher.test(df,alternative = \"greater\")\n",
    "\n",
    "    ## write in value\n",
    "    res[res$celltype == i,]$Fishers_p <- temp3$p.value\n",
    "    res[res$celltype == i,]$N_interactions <- length(overlaps_ct)\n",
    "    res[res$celltype == i,]$N_other_ctpeaks_contain_SNPs <- length(overlaps_all)\n",
    "    res[res$celltype == i,]$N_peaks_contain_LOAD_SNPs <- length(unique(subjectHits(overlaps_ct)))\n",
    "}\n",
    "final <- rbind(final,res)\n",
    "final"
   ]
  },
  {
   "cell_type": "code",
   "execution_count": null,
   "id": "50ff9985",
   "metadata": {
    "vscode": {
     "languageId": "r"
    }
   },
   "outputs": [],
   "source": [
    "# saving results\n",
    "final$adj.p <- p.adjust(final$Fishers_p)\n",
    "# final\n",
    "write.csv(final, file = \"./Results/LINK/overlapping_with_LOAD_GWAS.csv\",row.names = F)"
   ]
  },
  {
   "cell_type": "code",
   "execution_count": null,
   "id": "6c8cb4a9",
   "metadata": {
    "vscode": {
     "languageId": "r"
    }
   },
   "outputs": [],
   "source": [
    "### plotting\n",
    "final <- final[order(final$celltype),]\n",
    "final$color <- NA\n",
    "\n",
    "final[final$region == \"PFC\",]$color <- \"#825ca6ff\"\n",
    "final[final$region == \"EC\",]$color <- \"#3f78c199\"\n",
    "final[final$region == \"HIP\",]$color <- \"#c25757ff\"\n",
    "final$ct_rg <- paste(final$celltype, final$region, sep = \"_\")\n",
    "\n",
    "final$order <- factor(final$ct_rg, levels = c(final$ct_rg))\n",
    "#final\n",
    "\n",
    "pdf(file = \"./Figures/LINK/GWAS_hits_Fisher.pdf\",width = 8,height = 4.5)\n",
    "ggplot(final, aes(y = order, x = -log10(adj.p), label = -log10(adj.p))) +\n",
    "    geom_segment(aes(x = -1, xend = -log10(adj.p), yend = order, colour = region), size = 1) +\n",
    "    geom_point(aes(size = final$N_peaks_contain_LOAD_SNPs,color = region)) +\n",
    "    scale_size_continuous(range = c(1,6)) +\n",
    "    geom_vline(xintercept = -log10(0.05),linetype=\"dashed\",color =\"gray50\") +\n",
    "    scale_color_manual(values = final$color)+theme_classic()+\n",
    "    scale_y_discrete(limits=rev)\n",
    "dev.off()"
   ]
  },
  {
   "cell_type": "code",
   "execution_count": null,
   "id": "a89d1c94",
   "metadata": {
    "vscode": {
     "languageId": "r"
    }
   },
   "outputs": [],
   "source": [
    "temp <- temp[order(temp$celltype),]\n",
    "\n",
    "temp$color <- NA\n",
    "temp[temp$region == \"PFC\",]$color <- \"#825ca6ff\"\n",
    "temp[temp$region == \"EC\",]$color <- \"#3f78c199\"\n",
    "temp[temp$region == \"HIP\",]$color <- \"#c25757ff\"\n",
    "\n",
    "temp$order <- factor(temp$ct_rg, levels = c(temp$ct_rg))\n",
    "# temp"
   ]
  },
  {
   "cell_type": "markdown",
   "id": "b0c4c304",
   "metadata": {
    "vscode": {
     "languageId": "r"
    }
   },
   "source": [
    "### Supplementary Figure 9a"
   ]
  },
  {
   "cell_type": "code",
   "execution_count": null,
   "id": "acbe307f",
   "metadata": {
    "vscode": {
     "languageId": "r"
    }
   },
   "outputs": [],
   "source": [
    "out_pfc <- read.csv(\"./Results/LINK/AD_GWAS_overlap_PFC_1.23.csv\")\n",
    "out_ec <- read.csv(\"./Results/LINK/AD_GWAS_overlap_EC_1.23.csv\")\n",
    "out_hip <- read.csv(\"./Results/LINK/AD_GWAS_overlap_HIP_1.23.csv\")"
   ]
  },
  {
   "cell_type": "code",
   "execution_count": null,
   "id": "e474cce5",
   "metadata": {
    "vscode": {
     "languageId": "r"
    }
   },
   "outputs": [],
   "source": [
    "out_pfc <- read.csv(\"./Results/LINK/AD_GWAS_overlap_PFC_1.23.csv\")\n",
    "out_ec <- read.csv(\"./Results/LINK/AD_GWAS_overlap_EC_1.23.csv\")\n",
    "out_hip <- read.csv(\"./Results/LINK/AD_GWAS_overlap_HIP_1.23.csv\")\n",
    "\n",
    "out_pfc <- out_pfc[out_pfc$score >= 0.05 & out_pfc$pvalue < 0.05,]\n",
    "out_ec <- out_ec[out_ec$score >= 0.05 & out_ec$pvalue < 0.05,]\n",
    "out_hip <- out_hip[out_hip$score >= 0.05 & out_hip$pvalue < 0.05,]\n",
    "\n",
    "out_pfc$ct_rg <- paste(out_pfc$celltype,\"_PFC\",sep = \"\")\n",
    "out_ec$ct_rg <- paste(out_ec$celltype,\"_EC\",sep = \"\")\n",
    "out_hip$ct_rg <- paste(out_hip$celltype,\"_HIP\",sep = \"\")\n",
    "\n",
    "temp <- rbind(out_pfc,out_ec,out_hip)\n",
    "#temp <- unique(temp[,c(\"gene\",\"RSID\",\"ct_rg\")])\n",
    "mat <- table(temp$ct_rg, temp$gene)\n",
    "#pfc_mat <- table(out_pfc$celltype, out_pfc$gene)\n",
    "#ec_mat <- table(out_ec$celltype, out_ec$gene)\n",
    "#hip_mat <- table(out_hip$celltype, out_hip$gene)\n",
    "# mat\n"
   ]
  },
  {
   "cell_type": "code",
   "execution_count": null,
   "id": "1f97ec50",
   "metadata": {
    "vscode": {
     "languageId": "r"
    }
   },
   "outputs": [],
   "source": [
    "#temp[temp$RSID %in% rsid_list,]\n",
    "df <- temp %>% group_by(gene) %>%  top_n(n = 1, wt = -score)\n",
    "# df"
   ]
  },
  {
   "cell_type": "code",
   "execution_count": null,
   "id": "74d3304f",
   "metadata": {
    "vscode": {
     "languageId": "r"
    }
   },
   "outputs": [],
   "source": [
    "# cap\n",
    "mat[mat>10] <- 10\n",
    "#rownames(mat)<-substr(rownames(mat),start=1,stop=3)\n",
    "mat <- t(mat)\n",
    "# mat <- mat[,c(9:11,1:8,12:15)]\n",
    "# mat\n",
    "dim(mat)"
   ]
  },
  {
   "cell_type": "code",
   "execution_count": null,
   "id": "c92f3c85",
   "metadata": {
    "vscode": {
     "languageId": "r"
    }
   },
   "outputs": [],
   "source": [
    "ha<-HeatmapAnnotation(Region=colnames(mat)\n",
    "                       , col= list(Region=c(\"Astrocyte_EC\"=\"#825ca6ff\",\"Astrocyte_HIP\"=\"#3f78c1ff\",\"Astrocyte_PFC\"=\"#c25757ff\",\n",
    "                                            \"Excitatory_EC\"=\"#825ca6ff\",\"Excitatory_HIP\"=\"#3f78c1ff\",\"Excitatory_PFC\"=\"#3f78c1ff\",\n",
    "                                            \"Inhibitory_PFC\"=\"#c25757ff\",\"Inhibitory_EC\"=\"#825ca6ff\",\"Inhibitory_HIP\"=\"#3f78c1ff\",\n",
    "                                            \"Microglia_EC\"=\"#825ca6ff\",\"Microglia_HIP\"=\"#3f78c1ff\",\"Microglia_PFC\"=\"#c25757ff\",\n",
    "                                            \"Oligodendrocyte_PFC\"=\"#c25757ff\",\"Oligodendrocyte_EC\"=\"#825ca6ff\",\"Oligodendrocyte_PFC\"=\"#c25757ff\",\n",
    "                                            \"OPC_EC\"=\"#825ca6ff\",\"OPC_HIP\"=\"#3f78c1ff\",\"OPC_PFC\"=\"#c25757ff\")), show_legend=F,annotation_label=\"Brain region\")\n",
    "ha2<-HeatmapAnnotation(Celltype=colnames(mat)\n",
    "                       , col= list(Celltype=c(\"Astrocyte_EC\"=\"#F06719\",\"Astrocyte_HIP\"=\"#F06719\",\"Astrocyte_PFC\"=\"#F06719\",\n",
    "                                            \"Excitatory_EC\"=\"#33A65C\",\"Excitatory_HIP\"=\"#33A65C\",\"Excitatory_PFC\"=\"#33A65C\",\n",
    "                                            \"Inhibitory_PFC\"=\"#23767C\",\"Inhibitory_EC\"=\"#23767C\",\"Inhibitory_HIP\"=\"#23767C\",\n",
    "                                            \"Microglia_EC\"=\"#E03426\",\"Microglia_HIP\"=\"#E03426\",\"Microglia_PFC\"=\"#E03426\",\n",
    "                                            \"Oligodendrocyte_PFC\"=\"#1ba3c6ff\",\"Oligodendrocyte_EC\"=\"#1ba3c6ff\",\"Oligodendrocyte_PFC\"=\"#1ba3c6ff\",\n",
    "                                            \"OPC_EC\"=\"#A26DC2\",\"OPC_HIP\"=\"#A26DC2\",\"OPC_PFC\"=\"#A26DC2\")), show_legend=F,annotation_label=\"Cell type\")\n",
    "ha <- c(ha2,ha)\n",
    "ht <- Heatmap(mat,\n",
    "    cluster_rows = T,\n",
    "    cluster_columns = F,\n",
    "    col = colorRamp2(c(0,5,10),c(\"grey99\",\"red\",\"red4\")),\n",
    "    row_names_side = \"left\",row_names_gp = gpar(fontface=\"italic\"),\n",
    "    top_annotation=ha,show_column_names=F,show_row_dend = F,\n",
    "    )\n",
    "\n",
    "pdf(file = \"./Figures/LINK/GWAS_heatmap.pdf\",height = 6,width = 4.5)   \n",
    "ht\n",
    "dev.off()"
   ]
  },
  {
   "cell_type": "code",
   "execution_count": null,
   "id": "3b2a80e2",
   "metadata": {
    "vscode": {
     "languageId": "r"
    }
   },
   "outputs": [],
   "source": [
    "unique(out_ec[out_ec$gene == \"HLA-DRB1\",]$peak)\n",
    "table(out_ec[out_ec$gene == \"HLA-DRB1\",]$peak)\n",
    "#out_hip[out_hip$RSID==\"rs9271058\",]"
   ]
  },
  {
   "cell_type": "code",
   "execution_count": null,
   "id": "c6f34679",
   "metadata": {
    "vscode": {
     "languageId": "r"
    }
   },
   "outputs": [],
   "source": [
    "library(Seurat)\n",
    "library(Signac)\n",
    "## plot the violin/box plot for the gene of interest\n",
    "ec <- readRDS(\"./cellbender_EC_object_10.31.rds\")\n",
    "#pfc <- readRDS(\"./cellbender_PFC_object_10.31.rds\")\n",
    "#hip <- readRDS(\"./cellbender_HIP_object_10.31.rds\")"
   ]
  },
  {
   "cell_type": "code",
   "execution_count": null,
   "id": "0771793b",
   "metadata": {
    "vscode": {
     "languageId": "r"
    }
   },
   "outputs": [],
   "source": [
    "pfc_linked_peaks_annotated <- read.csv(\"./Results/LINK/PFC_linkpeaks_all_annotated_1.23.csv\")\n",
    "ec_linked_peaks_annotated <- read.csv(\"./Results/LINK/EC_linkpeaks_all_annotated_1.23.csv\")\n",
    "hip_linked_peaks_annotated <- read.csv(\"./Results/LINK/HIP_linkpeaks_all_annotated_1.23.csv\")\n",
    "\n",
    "# pfc_linked_peaks_annotated[pfc_linked_peaks_annotated$in_brain_sc_eqlt == T,]\n",
    "# pfc_linked_peaks_annotated[pfc_linked_peaks_annotated$in_brain_sc_eqlt == T,]$celltype\n",
    "# ec_linked_peaks_annotated[ec_linked_peaks_annotated$in_brain_sc_eqlt == T,]\n",
    "# ec_linked_peaks_annotated[ec_linked_peaks_annotated$in_brain_sc_eqlt == T,]$celltype\n",
    "# hip_linked_peaks_annotated[hip_linked_peaks_annotated$in_brain_sc_eqlt == T,]\n",
    "# hip_linked_peaks_annotated[hip_linked_peaks_annotated$in_brain_sc_eqlt == T,]$celltype"
   ]
  },
  {
   "cell_type": "code",
   "execution_count": null,
   "id": "b50c6fd7",
   "metadata": {
    "vscode": {
     "languageId": "r"
    }
   },
   "outputs": [],
   "source": [
    "### draw a histgram for gene of interest\n",
    "# working on EC/HIP/PFC\n",
    "object <- ec\n",
    "# retrive metadata\n",
    "meta <- object@meta.data\n",
    "table(meta$cluster_celltype)\n",
    "meta <- meta[meta$cluster_celltype == \"Microglia\",]\n",
    "\n",
    "# creating dataframe for plotting\n",
    "temp <- as.data.frame(LayerData(object,layer = \"data\",assay = \"PC\",features = \"HLA-DRB1\",cells = rownames(meta)))\n",
    "temp <- as.data.frame(t(temp))\n",
    "\n",
    "# adding variable \n",
    "colnames(temp)[1] <- \"expression\"\n",
    "temp$diagnosis <- meta[rownames(temp),]$diagnosis\n",
    "temp$individual_ID <- meta[rownames(temp),]$individual_ID\n",
    "temp$individual_ID <- factor(temp$individual_ID,levels = c(\"NIH02\",\"NIH05\",\"NIH29\",\"NIH11\",\"NIH14\",\"NIH17\"))\n",
    "\n",
    "#temp$individual_ID <- with(temp,reorder(individual_ID,diagnosis))\n",
    "p2 <- ggplot(temp, aes(x = diagnosis, y = expression)) + geom_boxplot(aes(fill = diagnosis), trim=F, scale = \"width\")+theme_classic()+scale_fill_manual(values=c(\"#d40000ff\", \"#005980ff\"))+theme(legend.position = \"none\")\n",
    "\n",
    "#pdf(\"./Figures/DEG/SupF2/EC_Mic_HLADRB1_boxplot.pdf\",width = 2,height = 4)\n",
    "p2\n",
    "#dev.off()"
   ]
  },
  {
   "cell_type": "code",
   "execution_count": null,
   "id": "cb56c0e9",
   "metadata": {
    "vscode": {
     "languageId": "r"
    }
   },
   "outputs": [],
   "source": [
    "gene_oi = \"CLU\"\n",
    "celltype = \"Astrocyte\"\n",
    "\n",
    "links <- ec_linked_peaks_annotated\n",
    "obj <- ec\n",
    "obj$cell_diag <- paste(obj$cluster_celltype, obj$diagnosis, sep = \"_\")\n",
    "Idents(obj) <- obj$cell_diag\n",
    "#Idents(obj) <- obj$cluster_celltype\n",
    "table(Idents(obj))\n",
    "\n",
    "#Idents(object) <- object$cluster_celltype\n",
    "#table(Idents(object))\n",
    "#idents.plot <- c(\n",
    "#  \"Microglia_EOAD\",\"Microglia_NCI\",\"Astrocyte_EOAD\",\"Astrocyte_NCI\",\n",
    "#  \"Excitatory_EOAD\",\"Excitatory_NCI\",\"Oligodendrocyte_EOAD\",\"Oligodendrocyte_NCI\",\n",
    "#  \"OPC_EOAD\",\"OPC_NCI\",\"Inhibitory_NCI\",\"Inhibitory_EOAD\")\n",
    "#idents.plot <- c(\"Astrocyte\",\"Excitatory\",\"Microglia\")\n",
    "#idents.plot <- c(\"Microglia_EOAD\",\"Microglia_NCI\")\n",
    "#idents.plot <- c(\"Inhibitory_EOAD\",\"Inhibitory_NCI\")\n",
    "#idents.plot <- c(\"Excitatory_EOAD\",\"Excitatory_NCI\")\n",
    "idents.plot <- c(\"Astrocyte_EOAD\",\"Astrocyte_NCI\")\n",
    "#idents.plot <- c(\"Oligodendrocyte_EOAD\",\"Oligodendrocyte_NCI\")\n",
    "\n",
    "## common\n",
    "df_gr <- links[links$celltype == celltype & links$gene == gene_oi,]\n",
    "#df_gr <- links[links$gene == gene_oi,]\n",
    "df_gr <- GRanges(df_gr)\n",
    "Links(obj) <- df_gr\n",
    "\n",
    "p1 <- CoveragePlot(\n",
    "  object = obj,\n",
    "  window = 600,  \n",
    "  region = gene_oi,\n",
    "  features = gene_oi,\n",
    "  expression.assay =\"SCT\",\n",
    "  idents = idents.plot,\n",
    "  extend.upstream = 2000,\n",
    "  extend.downstream = 5000,\n",
    "  region.highlight= GRanges(c(\"chr8:27608514-27609305\",\"chr8:27610292-27612312\")),\n",
    "  annotation = T,#,heights = 2\n",
    "  peaks = T,\n",
    "  links = T\n",
    ")\n",
    "p1\n"
   ]
  }
 ],
 "metadata": {
  "kernelspec": {
   "display_name": "R",
   "language": "R",
   "name": "ir"
  },
  "language_info": {
   "codemirror_mode": "r",
   "file_extension": ".r",
   "mimetype": "text/x-r-source",
   "name": "R",
   "pygments_lexer": "r",
   "version": "4.3.2"
  }
 },
 "nbformat": 4,
 "nbformat_minor": 5
}
