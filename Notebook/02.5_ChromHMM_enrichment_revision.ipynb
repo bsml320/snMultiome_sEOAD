{
 "cells": [
  {
   "cell_type": "code",
   "execution_count": null,
   "metadata": {
    "vscode": {
     "languageId": "r"
    }
   },
   "outputs": [],
   "source": [
    "### Extract the cell barcodes of interest, and generate 40 (customized n) barcodes in a text file to accelerate the speed of step 2\n",
    "# packages\n",
    "library(utils)\n",
    "library(stats)\n",
    "library(Seurat)\n",
    "library(Signac)\n",
    "library(tidyr)\n",
    "library(dplyr)\n",
    "library(TxDb.Hsapiens.UCSC.hg38.knownGene)\n",
    "# library(parallel)\n",
    "library(future.apply)\n",
    "\n",
    "## parameters for multicores\n",
    "options(future.globals.maxSize = 13 * 1024^3)\n",
    "plan(multisession, workers = 20) \n",
    "\n",
    "rm(list =ls())\n",
    "gc()"
   ]
  },
  {
   "cell_type": "code",
   "execution_count": null,
   "metadata": {
    "vscode": {
     "languageId": "r"
    }
   },
   "outputs": [],
   "source": [
    "## load general files\n",
    "clean <- readRDS(\"03.clean_object_10.31.rds\")\n",
    "ls()"
   ]
  },
  {
   "cell_type": "code",
   "execution_count": null,
   "metadata": {
    "vscode": {
     "languageId": "r"
    }
   },
   "outputs": [],
   "source": [
    "clean\n",
    "DimPlot(clean,reduction = \"harmony.atac.umap\" )\n",
    "meta <- clean@meta.data\n",
    "colnames(meta)"
   ]
  },
  {
   "cell_type": "code",
   "execution_count": null,
   "metadata": {
    "vscode": {
     "languageId": "r"
    }
   },
   "outputs": [],
   "source": [
    "## load in metadata for each dataset\n",
    "sample.meta <- read.csv(\"./Merge_multi_b2345.csv\")\n",
    "sample.meta"
   ]
  },
  {
   "cell_type": "code",
   "execution_count": null,
   "metadata": {
    "vscode": {
     "languageId": "r"
    }
   },
   "outputs": [],
   "source": [
    "## working on three lists of samples based on the brain regions\n",
    "PFC_samp <- c(\"UT04\",\"UT09\",\"UT2105\",\"NIH01\",\"NIH04\",\"NIH10\",\"NIH13\",\"NIH16\",\"NIH28\")\n",
    "EC_samp <- c(\"NIH02\",\"NIH05\",\"NIH11\",\"NIH14\",\"NIH17\",\"NIH29\")\n",
    "HIP_samp <- c(\"NIH03\",\"NIH06\",\"NIH12\",\"NIH15\",\"NIH18\",\"NIH30\")"
   ]
  },
  {
   "cell_type": "code",
   "execution_count": null,
   "metadata": {
    "vscode": {
     "languageId": "r"
    }
   },
   "outputs": [],
   "source": [
    "get_ChromHMM_ref <- function(tissue.code){\n",
    "    tissue.code = tissue.code\n",
    "    # prepare 18-state granges\n",
    "    ## specify the epigenome\n",
    "    state18 <- read.table(paste(\"./Data/peak.ref/\",tissue.code,\"_18_core_K27ac_hg38lift_mnemonics.bed\",sep = \"\"), stringsAsFactors = F)\n",
    "    state18 <- state18[state18$V1 != \"chrM\", ]\n",
    "    #message(dim(state18))\n",
    "    print(head(state18))\n",
    "\n",
    "    # convert 18 state model (in peaks) into list of granges\n",
    "    state <- unique(sort(state18[, 4]))\n",
    "    state18.gr.list <- list()\n",
    "    for (i in seq_along(state)) {\n",
    "    tmp <- state18[state18[, 4] == state[i], ]\n",
    "    state18.gr.list[[i]] <- GRanges(tmp[, 1], IRanges(tmp[, 2], tmp[, 3]))\n",
    "    }\n",
    "    names(state18.gr.list) <- state\n",
    "\n",
    "    #returning the gr.list\n",
    "    return(state18.gr.list)\n",
    "\n",
    "}\n",
    "get_fragments <- function(object, sample_id, sample.meta){\n",
    "    ### read in fragments for each sample\n",
    "    message(paste(\"Loading fragments file for \",sample_id,\".\",sep = \"\"))\n",
    "    frag_dir <- sample.meta[sample.meta$sample_id == sample_id,]$fragments\n",
    "    fragments <- read.table(frag_dir)\n",
    "    \n",
    "    # show how many fragments here\n",
    "    message(dim(fragments))\n",
    "    colnames(fragments) <- c(\"chr\", \"start\", \"end\", \"barcode\", \"duplicates\")\n",
    "    message(head(fragments))\n",
    "    \n",
    "    # returning the fragments file\n",
    "    return(fragments)\n",
    "}\n",
    "get_barcode <- function(object,sample_id){\n",
    "    # output barcode\n",
    "    barcode <- data.frame(rownames(object@meta.data), stringsAsFactors = F)\n",
    "    colnames(barcode) <- NULL\n",
    "    # show how many cells in total\n",
    "    message(dim(barcode))  \n",
    "\n",
    "    # get cell barcode for the sample\n",
    "    id <- grep(sample_id,barcode[,1]) \n",
    "    samp <- barcode[id,]\n",
    "    # keep only the individual of interested. \n",
    "    keep <- gsub(paste(sample_id,\"_\",sep = \"\"),\"\",samp[,1])\n",
    "    # show how many fragments left for analysis belong to cells passed QC\n",
    "    message(length(keep))\n",
    "    message(Sys.time())\n",
    "\n",
    "    # returning   \n",
    "    return(keep)\n",
    "}\n",
    "\n",
    "ChromHMM_enrich <- function(barcode){\n",
    "    #message(Sys.time())\n",
    "    #message(paste(\"Running enrichment ChromHMM analysis.\"))\n",
    "    res <- matrix(0, nrow = 18, ncol =1)\n",
    "    df <- fragments[fragments$barcode %in% barcode,]\n",
    "    head(df)\n",
    "    dim(df)\n",
    "    # prepare cut site granges\n",
    "    fragments.long <- pivot_longer(df, cols = c(\"start\", \"end\"), names_to = \"cutsite\", values_to = \"position\")\n",
    "    cutsite.gr <- GRanges(fragments.long$chr, IRanges(fragments.long$position, fragments.long$position))\n",
    "\n",
    "    # count cutsite for each state\n",
    "    res[,1] <- sapply(state18.gr.list, function(x) GenomicRanges::intersect(cutsite.gr, x) %>% length())\n",
    "    message(Sys.time())\n",
    "    return(res)\n",
    "}  \n"
   ]
  },
  {
   "cell_type": "code",
   "execution_count": null,
   "metadata": {
    "vscode": {
     "languageId": "r"
    }
   },
   "outputs": [],
   "source": [
    "## running loop for PFC samples first\n",
    "tissue.code = \"E073\"\n",
    "state18.gr.list <- get_ChromHMM_ref(tissue.code = tissue.code)\n",
    "for (i in PFC_samp){\n",
    "    t1 <- Sys.time()\n",
    "    message(t1)\n",
    "    message(paste(\"Working on \",i,\".\",sep = \"\"))\n",
    "\n",
    "    # sample id\n",
    "    sample_id = i\n",
    "\n",
    "    #prepare\n",
    "    fragments <- get_fragments(object = clean, sample_id = sample_id,sample.meta = sample.meta)\n",
    "    barcode <- get_barcode(object = clean, sample_id = sample_id)\n",
    "\n",
    "    dim(barcode)\n",
    "    final_barcode <- paste(paste(sample_id,\"_\",sep = \"\"),barcode,sep = \"\")\n",
    "    #head(final_barcode)\n",
    "\n",
    "    # real analysis on paralell\n",
    "    message(\"Running analysis...\")\n",
    "    # res <- mclapply(barcode,ChromHMM_enrich,mc.cores = 12)\n",
    "    res <- future_lapply(barcode, suppressWarnings(ChromHMM_enrich))\n",
    "    final <- do.call(cbind, res)\n",
    "\n",
    "    # adding col and row names\n",
    "    message(\"Cleaning the data...\")\n",
    "    print(dim(final))\n",
    "    rownames(final) <- names(state18.gr.list)\n",
    "    colnames(final) <- final_barcode\n",
    "    head(final)\n",
    "    dim(final)\n",
    "\n",
    "    # saving\n",
    "    out_dir <- paste(\"./Results/ChromHMM/\",i,\".txt\",sep = \"\")\n",
    "    write.table(final, out_dir, quote = F, sep = \"\\t\")\n",
    "\n",
    "    t2 <- Sys.time()\n",
    "    print(paste(\"Time used for \",i,\": \", round(t2-t1,digits = 2),\" mins.\",sep = \"\"))\n",
    "}\n"
   ]
  },
  {
   "cell_type": "code",
   "execution_count": null,
   "metadata": {
    "vscode": {
     "languageId": "r"
    }
   },
   "outputs": [],
   "source": [
    "## running loop for EC samples first\n",
    "tissue.code = \"E072\"\n",
    "for (i in EC_samp){\n",
    "t1 <- Sys.time()\n",
    "message(t1)\n",
    "message(paste(\"Working on \",i,\".\",sep = \"\"))\n",
    "\n",
    "# sample id\n",
    "sample_id = i\n",
    "\n",
    "#prepare\n",
    "state18.gr.list <- get_ChromHMM_ref(tissue.code = tissue.code)\n",
    "fragments <- get_fragments(object = clean, sample_id = sample_id,sample.meta = sample.meta)\n",
    "barcode <- get_barcode(object = clean, sample_id = sample_id)\n",
    "\n",
    "dim(barcode)\n",
    "final_barcode <- paste(paste(sample_id,\"_\",sep = \"\"),barcode,sep = \"\")\n",
    "#head(final_barcode)\n",
    "\n",
    "# real analysis on paralell\n",
    "message(\"Running analysis...\")\n",
    "res <- future_lapply(barcode, suppressWarnings(ChromHMM_enrich))\n",
    "final <- do.call(cbind, res)\n",
    "\n",
    "# adding col and row names\n",
    "message(\"Cleaning the data...\")\n",
    "rownames(final) <- names(state18.gr.list)\n",
    "colnames(final) <- final_barcode\n",
    "head(final)\n",
    "dim(final)\n",
    "\n",
    "# saving\n",
    "out_dir <- paste(\"./Analysis/Results/ChromHMM/\",i,\".txt\",sep = \"\")\n",
    "write.table(final, out_dir, quote = F, sep = \"\\t\")\n",
    "\n",
    "t2 <- Sys.time()\n",
    "print(paste(\"Time used for \",i,\": \", round(t2-t1,digits = 2),\" mins.\",sep = \"\"))\n",
    "}"
   ]
  },
  {
   "cell_type": "code",
   "execution_count": null,
   "metadata": {
    "vscode": {
     "languageId": "r"
    }
   },
   "outputs": [],
   "source": [
    "## running loop for HIP samples last\n",
    "tissue.code = \"E071\"\n",
    "for (i in HIP_samp){\n",
    "t1 <- Sys.time()\n",
    "message(t1)\n",
    "message(paste(\"Working on \",i,\".\",sep = \"\"))\n",
    "\n",
    "# sample id\n",
    "sample_id = i\n",
    "\n",
    "#prepare\n",
    "state18.gr.list <- get_ChromHMM_ref(tissue.code = tissue.code)\n",
    "fragments <- get_fragments(object = clean, sample_id = sample_id,sample.meta = sample.meta)\n",
    "barcode <- get_barcode(object = clean, sample_id = sample_id)\n",
    "\n",
    "dim(barcode)\n",
    "final_barcode <- paste(paste(sample_id,\"_\",sep = \"\"),barcode,sep = \"\")\n",
    "#head(final_barcode)\n",
    "\n",
    "# real analysis on paralell\n",
    "message(\"Running analysis...\")\n",
    "res <- future_lapply(barcode, suppressWarnings(ChromHMM_enrich))\n",
    "final <- do.call(cbind, res)\n",
    "\n",
    "# adding col and row names\n",
    "message(\"Cleaning the data...\")\n",
    "rownames(final) <- names(state18.gr.list)\n",
    "colnames(final) <- final_barcode\n",
    "head(final)\n",
    "dim(final)\n",
    "\n",
    "# saving\n",
    "out_dir <- paste(\"./Results/ChromHMM/\",i,\".txt\",sep = \"\")\n",
    "write.table(final, out_dir, quote = F, sep = \"\\t\")\n",
    "\n",
    "t2 <- Sys.time()\n",
    "print(paste(\"Time used for \",i,\": \", round(t2-t1,digits = 2),\" mins.\",sep = \"\"))\n",
    "}"
   ]
  },
  {
   "cell_type": "code",
   "execution_count": null,
   "metadata": {
    "vscode": {
     "languageId": "r"
    }
   },
   "outputs": [],
   "source": [
    "## read and combine all results\n",
    "filenames <- list.files(\"./Analysis/Results/ChromHMM/\", pattern=\"*.txt\", full.names=TRUE)\n",
    "ldf <- lapply(filenames, read.delim)\n",
    "final <- do.call(cbind, ldf)\n",
    "dim(final)\n"
   ]
  },
  {
   "cell_type": "code",
   "execution_count": null,
   "metadata": {
    "vscode": {
     "languageId": "r"
    }
   },
   "outputs": [],
   "source": [
    "## change name format\n",
    "library(stringr)\n",
    "check <- str_split_fixed(colnames(final),\"_\",2)[,1]\n",
    "table(check)\n",
    "\n",
    "colnames(final) <- gsub(\"\\\\.\",\"-\",colnames(final))\n",
    "\n",
    "# check if overlap\n",
    "meta <- clean@meta.data\n",
    "table(rownames(meta) %in% colnames(final))"
   ]
  },
  {
   "cell_type": "code",
   "execution_count": null,
   "metadata": {
    "vscode": {
     "languageId": "r"
    }
   },
   "outputs": [],
   "source": [
    "# transpose and check\n",
    "final <- t(final)\n",
    "head(final)"
   ]
  },
  {
   "cell_type": "code",
   "execution_count": null,
   "metadata": {
    "vscode": {
     "languageId": "r"
    }
   },
   "outputs": [],
   "source": [
    "## calculating proportion of each cell per column\n",
    "final2 <- final/rowSums(final)\n",
    "\n",
    "# got the porportion of each category for each cell\n",
    "head(final2)"
   ]
  },
  {
   "cell_type": "code",
   "execution_count": null,
   "metadata": {
    "vscode": {
     "languageId": "r"
    }
   },
   "outputs": [],
   "source": [
    "## performing the clr normalization\n",
    "library(compositions)\n",
    "final3 <- as.data.frame(clr(final2)) # perform clr normalization on each column(across cell)\n",
    "dim(final3)\n",
    "head(final3)"
   ]
  },
  {
   "cell_type": "code",
   "execution_count": null,
   "metadata": {
    "vscode": {
     "languageId": "r"
    }
   },
   "outputs": [],
   "source": [
    "# calculating deviation of each value to ChromHMM state mean\n",
    "colMeans(final3)\n",
    "final4 <- final3 - colMeans(final3)\n",
    "head(final4)"
   ]
  },
  {
   "cell_type": "code",
   "execution_count": null,
   "metadata": {
    "vscode": {
     "languageId": "r"
    }
   },
   "outputs": [],
   "source": [
    "## calculating the errosion score defined by Xiong et al. 2023\n",
    "#colnames(final4)\n",
    "\n",
    "active <- c(\"14_TssBiv\",\"11_EnhWk\",\"15_EnhBiv\",\"4_TssFlnkD\",\"7_EnhG1\",\"10_EnhA2\",\"2_TssFlnk\",\"3_TssFlnkU\",\"1_TssA\",\"9_EnhA1\",\"8_EnhG2\")\n",
    "repressive <- c(\"13_Het\",\"18_Quies\",\"12_ZNF/Rpts\",\"17_ReprPCWk\",\"16_ReprPC\")\n",
    "\n",
    "final4$errosion_score <- rowSums(final4[,repressive]) - rowSums(final4[,active])\n",
    "\n",
    "hist(final4$errosion_score)\n",
    "summary(final4$errosion_score)"
   ]
  },
  {
   "cell_type": "code",
   "execution_count": null,
   "metadata": {
    "vscode": {
     "languageId": "r"
    }
   },
   "outputs": [],
   "source": [
    "## assign the errosion score back to object and ploting\n",
    "id <- match(rownames(meta),rownames(final4))\n",
    "meta$erosion_score <- final4[id,]$errosion_score\n",
    "\n",
    "## cap the TSS enrichment\n",
    "meta$TSS_cap <- ifelse(meta$TSS.enrichment >10, 10,meta$TSS.enrichment)\n",
    "hist(meta$TSS_cap)\n",
    "clean@meta.data <- meta"
   ]
  },
  {
   "cell_type": "code",
   "execution_count": null,
   "metadata": {
    "vscode": {
     "languageId": "r"
    }
   },
   "outputs": [],
   "source": [
    "colnames(clean@meta.data)"
   ]
  },
  {
   "cell_type": "code",
   "execution_count": null,
   "metadata": {
    "vscode": {
     "languageId": "r"
    }
   },
   "outputs": [],
   "source": [
    "library(RColorBrewer)\n",
    "library(ggplot2)\n",
    "library(tidydr)\n",
    "umap_theme <- theme_dr()+theme(panel.grid.major = element_blank(), \n",
    "                                            panel.grid.minor = element_blank(),\n",
    "                                            panel.background = element_blank(), \n",
    "                                            axis.line = element_line(colour = \"black\",linewidth = 3))\n",
    "\n",
    "#######################################################\n",
    "## region umap ########################################\n",
    "#######################################################\n",
    "col1=c('#F06719','#33A65C','#23767C','#E03426','#1BA3C6',\"#A26DC2\",\"#FCB905\",\"#EB73B3\")\n",
    "names(col1)=c('Astrocyte','Excitatory','Inhibitory','Microglia','Oligodendrocyte',\"OPC\",\"Endothelial\",\"VLMC/Per\")\n",
    "cols=c(unname(col1),'grey90')\n",
    "names(cols)=c(names(col1),'other')\n",
    "\n",
    "p1 <- DimPlot(clean,reduction = 'harmony.atac.umap',label = T,group.by = 'cluster_celltype',cols=cols,pt.size = 0.2)+umap_theme+ggtitle(\"ALL\")\n",
    "# p2 <- DimPlot(clean, group.by = \"diagnosis\",reduction = \"harmony.atac.umap\",pt.size = 0.2)+ scale_colour_gradientn(colours = rev(brewer.pal(n = 20, name = \"RdBu\")))+umap_theme+ggtitle(\"TSS enrichment\")\n",
    "p3 <- FeaturePlot(clean, features = \"erosion_score\",reduction = \"harmony.atac.umap\",pt.size = 0.2) + scale_colour_gradientn(colours = rev(brewer.pal(n = 20, name = \"RdBu\")))+umap_theme+ggtitle(\"Erosion score\")\n",
    "\n"
   ]
  },
  {
   "cell_type": "code",
   "execution_count": null,
   "metadata": {
    "vscode": {
     "languageId": "r"
    }
   },
   "outputs": [],
   "source": [
    "# plotting\n",
    "pdf(\"./Figures/UMAP/TSS_enrichment.pdf\",width = 11,height = 5)\n",
    "patchwork::wrap_plots(p1,p3,ncol = 2)\n",
    "dev.off()"
   ]
  },
  {
   "cell_type": "code",
   "execution_count": null,
   "metadata": {
    "vscode": {
     "languageId": "r"
    }
   },
   "outputs": [],
   "source": [
    "meta <- clean@meta.data\n",
    "colnames(meta)"
   ]
  },
  {
   "cell_type": "code",
   "execution_count": null,
   "metadata": {
    "vscode": {
     "languageId": "r"
    }
   },
   "outputs": [],
   "source": [
    "################################################################################\n",
    "############################# modify the metadata ##############################\n",
    "################################################################################\n",
    "# pull out metadata\n",
    "biospecimen_meta <- read.csv(\"./EOAD_biospecimen_metadata.csv\")\n",
    "meta <- clean@meta.data\n",
    "\n",
    "# add phenotype information\n",
    "id <- match(clean$individual_ID,biospecimen_meta$Simple_ID)\n",
    "\n",
    "meta$sex <- as.factor(biospecimen_meta[id,]$Sex)\n",
    "meta$age <- biospecimen_meta[id,]$Age\n",
    "meta$race <- as.factor(biospecimen_meta[id,]$Race)\n",
    "meta$ethinicity <- as.factor(biospecimen_meta[id,]$Ethinicity)\n",
    "meta$PMI <- biospecimen_meta[id,]$PMI.Hours.\n",
    "meta$RIN <- biospecimen_meta[id,]$New_RIN\n",
    "meta$batch <- as.factor(meta$batch)\n",
    "\n",
    "meta$Abeta_plaque_score <-  biospecimen_meta[id,]$Abeta_plaque_score\n",
    "meta$NFT_stage <-  biospecimen_meta[id,]$NFT_stage\n",
    "meta$Neuritic_plaque_score_CERAD <-  biospecimen_meta[id,]$Neuritic_plaque_score_CERAD\n",
    "meta$Braak <-  biospecimen_meta[id,]$Braak\n",
    "#meta$batch <- biospecimen_meta[id,]$Batch\n",
    "\n",
    "#meta\n",
    "colnames(meta)\n",
    "head(meta)\n",
    "## assign back\n",
    "clean@meta.data <- meta"
   ]
  },
  {
   "cell_type": "code",
   "execution_count": null,
   "metadata": {
    "vscode": {
     "languageId": "r"
    }
   },
   "outputs": [],
   "source": [
    "saveRDS(clean, file = \"./03.clean_object_10.31.rds\")"
   ]
  },
  {
   "cell_type": "code",
   "execution_count": null,
   "metadata": {
    "vscode": {
     "languageId": "r"
    }
   },
   "outputs": [],
   "source": [
    "### focus on PFC first\n",
    "PFC_object <- subset(clean, subset = regions == \"PFC\")\n",
    "DefaultAssay(PFC_object) <- \"PC\"\n",
    "################################################################################\n",
    "############################## log normalization ###############################\n",
    "################################################################################\n",
    "PFC_object <- NormalizeData(PFC_object, normalization.method = \"LogNormalize\", scale.factor = 10000)\n",
    "all.genes <- rownames(PFC_object)\n",
    "PFC_object <- ScaleData(PFC_object, features = all.genes)\n",
    "\n",
    "## find variable features \n",
    "PFC_object <- FindVariableFeatures(PFC_object, selection.method = \"vst\", nfeatures = 2000)\n",
    "\n",
    "PFC_object\n",
    "\n",
    "saveRDS(PFC_object, file = \"cellbender_PFC_object_10.31.rds\")"
   ]
  },
  {
   "cell_type": "code",
   "execution_count": null,
   "metadata": {
    "vscode": {
     "languageId": "r"
    }
   },
   "outputs": [],
   "source": [
    "### focus on PFC first\n",
    "HIP_object <- subset(clean, subset = regions == \"HIP\")\n",
    "DefaultAssay(HIP_object) <- \"PC\"\n",
    "################################################################################\n",
    "############################## log normalization ###############################\n",
    "################################################################################\n",
    "HIP_object <- NormalizeData(HIP_object, normalization.method = \"LogNormalize\", scale.factor = 10000)\n",
    "all.genes <- rownames(HIP_object)\n",
    "HIP_object <- ScaleData(HIP_object, features = all.genes)\n",
    "\n",
    "## find variable features \n",
    "HIP_object <- FindVariableFeatures(HIP_object, selection.method = \"vst\", nfeatures = 2000)\n",
    "\n",
    "HIP_object\n",
    "\n",
    "saveRDS(HIP_object, file = \"cellbender_HIP_object_1.9.rds\")"
   ]
  },
  {
   "cell_type": "code",
   "execution_count": null,
   "metadata": {
    "vscode": {
     "languageId": "r"
    }
   },
   "outputs": [],
   "source": [
    "### focus on PFC first\n",
    "EC_object <- subset(clean, subset = regions == \"EC\")\n",
    "DefaultAssay(EC_object) <- \"PC\"\n",
    "################################################################################\n",
    "############################## log normalization ###############################\n",
    "################################################################################\n",
    "EC_object <- NormalizeData(EC_object, normalization.method = \"LogNormalize\", scale.factor = 10000)\n",
    "all.genes <- rownames(EC_object)\n",
    "EC_object <- ScaleData(EC_object, features = all.genes)\n",
    "\n",
    "## find variable features \n",
    "EC_object <- FindVariableFeatures(EC_object, selection.method = \"vst\", nfeatures = 2000)\n",
    "\n",
    "EC_object\n",
    "\n",
    "saveRDS(EC_object, file = \"cellbender_EC_object_1.9.rds\")"
   ]
  },
  {
   "cell_type": "code",
   "execution_count": null,
   "metadata": {
    "vscode": {
     "languageId": "r"
    }
   },
   "outputs": [],
   "source": [
    "head(final)\n",
    "dim(final)\n",
    "\n",
    "write.csv(final, file = \"./Results/ChromHMM/Merged_result.csv\")"
   ]
  }
 ],
 "metadata": {
  "kernelspec": {
   "display_name": "R",
   "language": "R",
   "name": "ir"
  },
  "language_info": {
   "codemirror_mode": "r",
   "file_extension": ".r",
   "mimetype": "text/x-r-source",
   "name": "R",
   "pygments_lexer": "r",
   "version": "4.3.2"
  }
 },
 "nbformat": 4,
 "nbformat_minor": 2
}
