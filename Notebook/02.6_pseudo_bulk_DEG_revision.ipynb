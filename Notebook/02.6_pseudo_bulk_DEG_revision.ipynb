{
 "cells": [
  {
   "cell_type": "code",
   "execution_count": null,
   "id": "cfd1b3d9",
   "metadata": {
    "scrolled": true,
    "vscode": {
     "languageId": "r"
    }
   },
   "outputs": [],
   "source": [
    "## Pseudo-bulk DE analysis of multiome subjects\n",
    "## Andi Liu\n",
    "# 5/26/2025\n",
    "\n",
    "library(Libra)\n",
    "library(Seurat)\n",
    "library(pbmcapply)\n",
    "\n",
    "library(dplyr)# for dataframe processing\n",
    "library(tidyr)#\n",
    "library(tidydr)\n",
    "library(magrittr) # for %<>%\n",
    "\n",
    "library(ggplot2)\n",
    "library(pheatmap)"
   ]
  },
  {
   "cell_type": "code",
   "execution_count": null,
   "id": "c11cb7d4",
   "metadata": {
    "vscode": {
     "languageId": "r"
    }
   },
   "outputs": [],
   "source": [
    "## load previouse object\n",
    "rm(list = ls())\n",
    "gc()\n",
    "object <- readRDS(\"cellbender_HIP_object_10.31.rds\")\n",
    "object"
   ]
  },
  {
   "cell_type": "markdown",
   "id": "547d865a",
   "metadata": {
    "vscode": {
     "languageId": "r"
    }
   },
   "source": [
    "## Run Pseudo-bulk DE analysis on selected cell type"
   ]
  },
  {
   "cell_type": "code",
   "execution_count": null,
   "id": "fb480e57",
   "metadata": {
    "vscode": {
     "languageId": "r"
    }
   },
   "outputs": [],
   "source": [
    "## Create a wrapper function for pseudo-bulk DE analysis\n",
    "pseudo_bulk_DE <- function(object, celltype, min_features_pct) {\n",
    "    # Filter the object for the specified cell type\n",
    "    obj <- subset(object,subset = cluster_celltype == celltype)\n",
    "    print(celltype)\n",
    "\n",
    "    ## get the list of genes for analysis\n",
    "    expr <- LayerData(obj,assay = \"PC\",layer = \"counts\")\n",
    "    meta <- obj@meta.data\n",
    "    # check minimum features\n",
    "    genes.percent.expression <- rowMeans(expr>0)\n",
    "    keep <- names(genes.percent.expression[genes.percent.expression>min_features_pct])\n",
    "    print(length(keep))\n",
    "\n",
    "    # pseudobulk the counts based on donor-condition-celltype\n",
    "    pseudo_object <- AggregateExpression(obj, assays = \"PC\", return.seurat = T, group.by = c(\"individual_ID\",\"diagnosis\"))\n",
    "    pseudo_object\n",
    "\n",
    "    ## Running DESeq2\n",
    "    Idents(pseudo_object) <- \"diagnosis\"\n",
    "\n",
    "    bulk_de <- FindMarkers(object = pseudo_object, \n",
    "                            ident.1 = \"EOAD\", \n",
    "                            ident.2 = \"NCI\",\n",
    "                            test.use = \"DESeq2\",\n",
    "                            features = keep\n",
    "                            )\n",
    "\n",
    "    ## Add gene names and cell type\n",
    "    bulk_de$gene  <- rownames(bulk_de)\n",
    "    bulk_de$celltype <- celltype\n",
    "    ## Filter results with NA values in p_val_adj\n",
    "    bulk_de <- bulk_de %>% \n",
    "      filter(!is.na(p_val_adj)) %>%\n",
    "      arrange(p_val_adj)\n",
    "    ## Show top results\n",
    "    head(bulk_de)\n",
    "    \n",
    "    ## return the results\n",
    "    return(bulk_de)\n",
    "}"
   ]
  },
  {
   "cell_type": "markdown",
   "id": "65ab4e80",
   "metadata": {
    "vscode": {
     "languageId": "r"
    }
   },
   "source": [
    "## Run the pseudo-bulk DE analysis on HIP object"
   ]
  },
  {
   "cell_type": "code",
   "execution_count": null,
   "id": "52f90a81",
   "metadata": {
    "vscode": {
     "languageId": "r"
    }
   },
   "outputs": [],
   "source": [
    "res_all  <- data.frame()\n",
    "for (i in unique(object$cluster_celltype)) {\n",
    "    print(i)\n",
    "    # run the pseudo-bulk DE analysis\n",
    "    result <- pseudo_bulk_DE(object, celltype = i, min_features_pct = 0.25)\n",
    "\n",
    "    # Add the results to the combined dataframe\n",
    "    res_all <- rbind(res_all, result)\n",
    "}\n",
    "\n",
    "# Save the results to a CSV file\n",
    "res_all$region <- \"HIP\"\n",
    "write.csv(res_all,\"./Results/Revision/HIP_pseudobulk_DE_results.csv\", row.names = F)"
   ]
  },
  {
   "cell_type": "code",
   "execution_count": null,
   "id": "004b4739",
   "metadata": {
    "vscode": {
     "languageId": "r"
    }
   },
   "outputs": [],
   "source": [
    "res_hip <- read.csv(\"./Results/DEG/Overlap_mast_mixed_HIP.csv\",row.names = 1)\n",
    "head(res_hip)"
   ]
  },
  {
   "cell_type": "code",
   "execution_count": null,
   "id": "dd07935b",
   "metadata": {
    "vscode": {
     "languageId": "r"
    }
   },
   "outputs": [],
   "source": [
    "# ## Organize the results\n",
    "# res_all_sig <- res_all[res_all$p_val_adj <= 0.05 & abs(res_all$avg_log2FC) >= 0.25,]\n",
    "# res_all_sig$dir <- ifelse(res_all_sig$avg_log2FC > 0, \"pos\", \"neg\")\n",
    "# res_all_sig$comb <- paste(res_all_sig$gene,res_all_sig$dir,res_all_sig$celltype, sep = \"_\")\n",
    "\n",
    "# ## Check if consistent with previous results\n",
    "# res_all_sig$in_overlap <- ifelse(res_all_sig$comb %in% res_hip$comb, \"yes\", \"no\")\n",
    "# table(res_all_sig$celltype, res_all_sig$in_overlap)"
   ]
  },
  {
   "cell_type": "code",
   "execution_count": null,
   "id": "f4f61f33",
   "metadata": {
    "vscode": {
     "languageId": "r"
    }
   },
   "outputs": [],
   "source": [
    "# ## save the results\n",
    "# write.csv(res_all_sig,\"./Results/Revision/HIP_pseudobulk_DE_results_sig.csv\", row.names = F)"
   ]
  },
  {
   "cell_type": "markdown",
   "id": "946af3b5",
   "metadata": {
    "vscode": {
     "languageId": "r"
    }
   },
   "source": [
    "## running the DE analysis on PFC object"
   ]
  },
  {
   "cell_type": "code",
   "execution_count": null,
   "id": "4c7dabaa",
   "metadata": {
    "vscode": {
     "languageId": "r"
    }
   },
   "outputs": [],
   "source": [
    "## running the DE analysis on PFC object\n",
    "rm(list = ls())\n",
    "gc()\n",
    "object <- readRDS(\"cellbender_PFC_object_10.31.rds\")\n",
    "object"
   ]
  },
  {
   "cell_type": "code",
   "execution_count": null,
   "id": "833f3500",
   "metadata": {
    "vscode": {
     "languageId": "r"
    }
   },
   "outputs": [],
   "source": [
    "res_all  <- data.frame()\n",
    "for (i in unique(object$cluster_celltype)) {\n",
    "    print(i)\n",
    "    # run the pseudo-bulk DE analysis\n",
    "    result <- pseudo_bulk_DE(object, celltype = i, min_features_pct = 0.25)\n",
    "\n",
    "    # Add the results to the combined dataframe\n",
    "    res_all <- rbind(res_all, result)\n",
    "}\n",
    "\n",
    "# Save the results to a CSV file\n",
    "res_all$region <- \"PFC\"\n",
    "write.csv(res_all,\"./Results/Revision/PFC_pseudobulk_DE_results.csv\", row.names = F)"
   ]
  },
  {
   "cell_type": "code",
   "execution_count": null,
   "id": "90533117",
   "metadata": {
    "vscode": {
     "languageId": "r"
    }
   },
   "outputs": [],
   "source": [
    "res_pfc <- read.csv(\"./Results/DEG/Overlap_mast_mixed_PFC.csv\",row.names = 1)\n",
    "head(res_pfc)"
   ]
  },
  {
   "cell_type": "code",
   "execution_count": null,
   "id": "0a891fd9",
   "metadata": {
    "vscode": {
     "languageId": "r"
    }
   },
   "outputs": [],
   "source": [
    "# ## Organize the results\n",
    "# res_all_sig <- res_all[res_all$p_val_adj < 0.05 & res_all$avg_log2FC > 0.25,]\n",
    "# res_all_sig$dir <- ifelse(res_all_sig$avg_log2FC > 0, \"pos\", \"neg\")\n",
    "# res_all_sig$comb <- paste(res_all_sig$gene,res_all_sig$dir,res_all_sig$celltype, sep = \"_\")\n",
    "\n",
    "# ## Check if consistent with previous results\n",
    "# res_all_sig$in_overlap <- ifelse(res_all_sig$comb %in% res_pfc$comb, \"yes\", \"no\")\n",
    "# table(res_all_sig$celltype, res_all_sig$in_overlap)"
   ]
  },
  {
   "cell_type": "code",
   "execution_count": null,
   "id": "8ffd8ab4",
   "metadata": {
    "vscode": {
     "languageId": "r"
    }
   },
   "outputs": [],
   "source": [
    "# ## save the results\n",
    "# write.csv(res_all_sig,\"./Results/Revision/PFC_pseudobulk_DE_results_sig.csv\", row.names = F)"
   ]
  },
  {
   "cell_type": "markdown",
   "id": "11922c3e",
   "metadata": {
    "vscode": {
     "languageId": "r"
    }
   },
   "source": [
    "## running the DE analysis on EC object"
   ]
  },
  {
   "cell_type": "code",
   "execution_count": null,
   "id": "5621e887",
   "metadata": {
    "vscode": {
     "languageId": "r"
    }
   },
   "outputs": [],
   "source": [
    "# rm(list = ls())\n",
    "gc()\n",
    "object <- readRDS(\"cellbender_EC_object_10.31.rds\")\n",
    "object"
   ]
  },
  {
   "cell_type": "code",
   "execution_count": null,
   "id": "92396549",
   "metadata": {
    "vscode": {
     "languageId": "r"
    }
   },
   "outputs": [],
   "source": [
    "res_all  <- data.frame()\n",
    "for (i in unique(object$cluster_celltype)) {\n",
    "    print(i)\n",
    "    # run the pseudo-bulk DE analysis\n",
    "    result <- pseudo_bulk_DE(object, celltype = i, min_features_pct = 0.25)\n",
    "\n",
    "    # Add the results to the combined dataframe\n",
    "    res_all <- rbind(res_all, result)\n",
    "}\n",
    "\n",
    "# Save the results to a CSV file\n",
    "res_all$region <- \"EC\"\n",
    "write.csv(res_all,\"./Results/Revision/EC_pseudobulk_DE_results.csv\", row.names = F)"
   ]
  },
  {
   "cell_type": "code",
   "execution_count": null,
   "id": "7bb817cf",
   "metadata": {
    "vscode": {
     "languageId": "r"
    }
   },
   "outputs": [],
   "source": [
    "res_ec <- read.csv(\"./Results/DEG/Overlap_mast_mixed_EC.csv\",row.names = 1)\n",
    "head(res_ec)"
   ]
  },
  {
   "cell_type": "code",
   "execution_count": null,
   "id": "bc1e342b",
   "metadata": {
    "vscode": {
     "languageId": "r"
    }
   },
   "outputs": [],
   "source": [
    "# ## Organize the results\n",
    "# res_all_sig <- res_all[res_all$p_val_adj < 0.05 & res_all$avg_log2FC > 0.25,]\n",
    "# res_all_sig$dir <- ifelse(res_all_sig$avg_log2FC > 0, \"pos\", \"neg\")\n",
    "# res_all_sig$comb <- paste(res_all_sig$gene,res_all_sig$dir,res_all_sig$celltype, sep = \"_\")\n",
    "\n",
    "# ## Check if consistent with previous results\n",
    "# res_all_sig$in_overlap <- ifelse(res_all_sig$comb %in% res_ec$comb, \"yes\", \"no\")\n",
    "# table(res_all_sig$celltype, res_all_sig$in_overlap)"
   ]
  },
  {
   "cell_type": "code",
   "execution_count": null,
   "id": "8176f7d2",
   "metadata": {
    "vscode": {
     "languageId": "r"
    }
   },
   "outputs": [],
   "source": [
    "# ## save the results\n",
    "# write.csv(res_all_sig,\"./Results/Revision/EC_pseudobulk_DE_results_sig.csv\", row.names = F)"
   ]
  },
  {
   "cell_type": "markdown",
   "id": "950d146f",
   "metadata": {
    "vscode": {
     "languageId": "r"
    }
   },
   "source": [
    "## Summaryize all the results"
   ]
  },
  {
   "cell_type": "code",
   "execution_count": null,
   "id": "e481b35f",
   "metadata": {
    "vscode": {
     "languageId": "r"
    }
   },
   "outputs": [],
   "source": [
    "pseudobulk_PFC <- read.csv(\"./Results/Revision/PFC_pseudobulk_DE_results.csv\")\n",
    "pseudobulk_EC <- read.csv(\"./Results/Revision/EC_pseudobulk_DE_results.csv\")\n",
    "pseudobulk_HIP <- read.csv(\"./Results/Revision/HIP_pseudobulk_DE_results.csv\")"
   ]
  },
  {
   "cell_type": "code",
   "execution_count": null,
   "id": "726fa2c1",
   "metadata": {
    "vscode": {
     "languageId": "r"
    }
   },
   "outputs": [],
   "source": [
    "pseudobulk_PFC = pseudobulk_PFC %>%\n",
    "  filter(p_val_adj <= 0.05 & abs(avg_log2FC) >= 0.25)\n",
    "pseudobulk_EC = pseudobulk_EC %>%   \n",
    "  filter(p_val_adj <= 0.05 & abs(avg_log2FC) >= 0.25)\n",
    "pseudobulk_HIP = pseudobulk_HIP %>%   \n",
    "  filter(p_val_adj <= 0.05 & abs(avg_log2FC) >= 0.25)   \n",
    "\n",
    "## provide the direction of the log2FC\n",
    "pseudobulk_PFC$dir = ifelse(pseudobulk_PFC$avg_log2FC > 0, \"pos\", \"neg\")\n",
    "pseudobulk_EC$dir = ifelse(pseudobulk_EC$avg_log2FC > 0, \"pos\", \"neg\")\n",
    "pseudobulk_HIP$dir = ifelse(pseudobulk_HIP$avg_log2FC > 0, \"pos\", \"neg\")"
   ]
  },
  {
   "cell_type": "code",
   "execution_count": null,
   "id": "e50c0132",
   "metadata": {
    "vscode": {
     "languageId": "r"
    }
   },
   "outputs": [],
   "source": [
    "### load the results from the previous analysis\n",
    "overlap_PFC = read.csv(\"./Results/DEG/Overlap_mast_mixed_PFC.csv\",row.names = 1)\n",
    "overlap_EC = read.csv(\"./Results/DEG/Overlap_mast_mixed_EC.csv\",row.names = 1)\n",
    "overlap_HIP = read.csv(\"./Results/DEG/Overlap_mast_mixed_HIP.csv\",row.names = 1)"
   ]
  },
  {
   "cell_type": "code",
   "execution_count": null,
   "id": "e5b4ff21",
   "metadata": {
    "vscode": {
     "languageId": "r"
    }
   },
   "outputs": [],
   "source": [
    "## working on the PFC results\n",
    "df1 = pseudobulk_PFC %>% \n",
    "    select(gene,celltype1 = celltype, dir) %>%\n",
    "    mutate(label1 = paste0(celltype1, \"_\", dir))\n",
    "df2 = overlap_PFC %>% \n",
    "    select(gene,celltype2 = celltype, dir) %>%\n",
    "    mutate(label2 = paste0(celltype2, \"_\", dir))\n",
    "\n",
    "# Find overlapping genes (same gene and dir)\n",
    "overlap_df <- inner_join(df1, df2, by = c(\"gene\", \"dir\"),relationship = \"many-to-many\")\n",
    "\n",
    "# Count overlaps (label1 x label2)\n",
    "overlap_counts <- overlap_df %>%\n",
    "  distinct(gene, label1, label2) %>%\n",
    "  count(label1, label2, name = \"overlap\")\n",
    "\n",
    "# Count total genes in df2 by label2\n",
    "total_df2 <- df2 %>%\n",
    "  distinct(gene, label2) %>%\n",
    "  count(label2, name = \"total_df2\")\n",
    "\n",
    "# Merge and calculate fraction\n",
    "annotated <- left_join(overlap_counts, total_df2, by = \"label2\") %>%\n",
    "  mutate(fraction = overlap / total_df2,\n",
    "         label = sprintf(\"%d (%.2f)\", overlap, fraction))\n",
    "\n",
    "# Wide format for matrix of labels\n",
    "label_mat_df <- annotated %>%\n",
    "  select(label1, label2, label) %>%\n",
    "  pivot_wider(names_from = label2, values_from = label, values_fill = \"\")\n",
    "\n",
    "# Wide format for numeric matrix for coloring\n",
    "value_mat_df <- annotated %>%\n",
    "  select(label1, label2, overlap) %>%\n",
    "  pivot_wider(names_from = label2, values_from = overlap, values_fill = 0)\n",
    "\n",
    "# Build matrices\n",
    "label_mat <- as.matrix(label_mat_df[,-1])\n",
    "rownames(label_mat) <- label_mat_df$label1\n",
    "\n",
    "value_mat <- as.matrix(value_mat_df[,-1])\n",
    "rownames(value_mat) <- value_mat_df$label1\n",
    "\n",
    "# Optional: restrict to shared labels\n",
    "common_labels <- intersect(rownames(value_mat), colnames(value_mat))\n",
    "value_mat <- value_mat[common_labels, common_labels]\n",
    "label_mat <- label_mat[common_labels, common_labels]\n",
    "\n",
    "# Plot with counts and fractions\n",
    "p1 =pheatmap(value_mat,\n",
    "         cluster_rows = FALSE, cluster_cols = FALSE,\n",
    "         display_numbers = label_mat,\n",
    "         main = \"DEGs in MAST+Mixed models overlapping with pseudo-bulk DEGs in PFC\",\n",
    "         color = colorRampPalette(c(\"white\", \"darkgreen\"))(100))"
   ]
  },
  {
   "cell_type": "code",
   "execution_count": null,
   "id": "e3bafd91",
   "metadata": {
    "vscode": {
     "languageId": "r"
    }
   },
   "outputs": [],
   "source": [
    "pseudobulk_PFC$comb = paste(pseudobulk_PFC$gene, pseudobulk_PFC$dir,pseudobulk_PFC$celltype, sep = \"_\")\n",
    "\n",
    "## provide label to indicate if the gene in the original study was supported by the pseudo-bulk DE analysis\n",
    "overlap_PFC$in_pseudobulk <- ifelse(overlap_PFC$comb %in% pseudobulk_PFC$comb, \"yes\", \"no\")\n",
    "table(overlap_PFC$celltype, overlap_PFC$in_pseudobulk)\n",
    "write.csv(overlap_PFC,\"./Results/Revision/PFC_overlap_pseudobulk_DE_results.csv\", row.names = F)"
   ]
  },
  {
   "cell_type": "code",
   "execution_count": null,
   "id": "268969e9",
   "metadata": {
    "vscode": {
     "languageId": "r"
    }
   },
   "outputs": [],
   "source": [
    "## working on the EC results\n",
    "df1 = pseudobulk_EC %>% \n",
    "    select(gene,celltype1 = celltype, dir) %>%\n",
    "    mutate(label1 = paste0(celltype1, \"_\", dir))\n",
    "df2 = overlap_EC %>% \n",
    "    select(gene,celltype2 = celltype, dir) %>%\n",
    "    mutate(label2 = paste0(celltype2, \"_\", dir))\n",
    "\n",
    "# Find overlapping genes (same gene and dir)\n",
    "overlap_df <- inner_join(df1, df2, by = c(\"gene\", \"dir\"),relationship = \"many-to-many\")\n",
    "\n",
    "# Count overlaps (label1 x label2)\n",
    "overlap_counts <- overlap_df %>%\n",
    "  distinct(gene, label1, label2) %>%\n",
    "  count(label1, label2, name = \"overlap\")\n",
    "\n",
    "# Count total genes in df2 by label2\n",
    "total_df2 <- df2 %>%\n",
    "  distinct(gene, label2) %>%\n",
    "  count(label2, name = \"total_df2\")\n",
    "\n",
    "# Merge and calculate fraction\n",
    "annotated <- left_join(overlap_counts, total_df2, by = \"label2\") %>%\n",
    "  mutate(fraction = overlap / total_df2,\n",
    "         label = sprintf(\"%d (%.2f)\", overlap, fraction))\n",
    "\n",
    "# Wide format for matrix of labels\n",
    "label_mat_df <- annotated %>%\n",
    "  select(label1, label2, label) %>%\n",
    "  pivot_wider(names_from = label2, values_from = label, values_fill = \"\")\n",
    "\n",
    "# Wide format for numeric matrix for coloring\n",
    "value_mat_df <- annotated %>%\n",
    "  select(label1, label2, overlap) %>%\n",
    "  pivot_wider(names_from = label2, values_from = overlap, values_fill = 0)\n",
    "\n",
    "# Build matrices\n",
    "label_mat <- as.matrix(label_mat_df[,-1])\n",
    "rownames(label_mat) <- label_mat_df$label1\n",
    "\n",
    "value_mat <- as.matrix(value_mat_df[,-1])\n",
    "rownames(value_mat) <- value_mat_df$label1\n",
    "\n",
    "# Optional: restrict to shared labels\n",
    "common_labels <- intersect(rownames(value_mat), colnames(value_mat))\n",
    "value_mat <- value_mat[common_labels, common_labels]\n",
    "label_mat <- label_mat[common_labels, common_labels]\n",
    "\n",
    "# Plot with counts and fractions\n",
    "p2 =pheatmap(value_mat,\n",
    "         cluster_rows = FALSE, cluster_cols = FALSE,\n",
    "         display_numbers = label_mat,\n",
    "         main = \"DEGs in MAST+Mixed models overlapping with pseudo-bulk DEGs in EC\",\n",
    "         color = colorRampPalette(c(\"white\", \"darkgreen\"))(100))"
   ]
  },
  {
   "cell_type": "code",
   "execution_count": null,
   "id": "5453bc2c",
   "metadata": {
    "vscode": {
     "languageId": "r"
    }
   },
   "outputs": [],
   "source": [
    "pseudobulk_EC$comb = paste(pseudobulk_EC$gene, pseudobulk_EC$dir,pseudobulk_EC$celltype, sep = \"_\")\n",
    "\n",
    "## provide label to indicate if the gene in the original study was supported by the pseudo-bulk DE analysis\n",
    "overlap_EC$in_pseudobulk <- ifelse(overlap_EC$comb %in% pseudobulk_EC$comb, \"yes\", \"no\")\n",
    "table(overlap_EC$celltype, overlap_EC$in_pseudobulk)\n",
    "write.csv(overlap_EC,\"./Results/Revision/EC_overlap_pseudobulk_DE_results.csv\", row.names = F)"
   ]
  },
  {
   "cell_type": "code",
   "execution_count": null,
   "id": "a282a8f9",
   "metadata": {
    "vscode": {
     "languageId": "r"
    }
   },
   "outputs": [],
   "source": [
    "## working on the EC results\n",
    "df1 = pseudobulk_HIP %>% \n",
    "    select(gene,celltype1 = celltype, dir) %>%\n",
    "    mutate(label1 = paste0(celltype1, \"_\", dir))\n",
    "df2 = overlap_HIP %>% \n",
    "    select(gene,celltype2 = celltype, dir) %>%\n",
    "    mutate(label2 = paste0(celltype2, \"_\", dir))\n",
    "\n",
    "# Find overlapping genes (same gene and dir)\n",
    "overlap_df <- inner_join(df1, df2, by = c(\"gene\", \"dir\"),relationship = \"many-to-many\")\n",
    "\n",
    "# Count overlaps (label1 x label2)\n",
    "overlap_counts <- overlap_df %>%\n",
    "  distinct(gene, label1, label2) %>%\n",
    "  count(label1, label2, name = \"overlap\")\n",
    "\n",
    "# Count total genes in df2 by label2\n",
    "total_df2 <- df2 %>%\n",
    "  distinct(gene, label2) %>%\n",
    "  count(label2, name = \"total_df2\")\n",
    "\n",
    "# Merge and calculate fraction\n",
    "annotated <- left_join(overlap_counts, total_df2, by = \"label2\") %>%\n",
    "  mutate(fraction = overlap / total_df2,\n",
    "         label = sprintf(\"%d (%.2f)\", overlap, fraction))\n",
    "\n",
    "# Wide format for matrix of labels\n",
    "label_mat_df <- annotated %>%\n",
    "  select(label1, label2, label) %>%\n",
    "  pivot_wider(names_from = label2, values_from = label, values_fill = \"\")\n",
    "\n",
    "# Wide format for numeric matrix for coloring\n",
    "value_mat_df <- annotated %>%\n",
    "  select(label1, label2, overlap) %>%\n",
    "  pivot_wider(names_from = label2, values_from = overlap, values_fill = 0)\n",
    "\n",
    "# Build matrices\n",
    "label_mat <- as.matrix(label_mat_df[,-1])\n",
    "rownames(label_mat) <- label_mat_df$label1\n",
    "\n",
    "value_mat <- as.matrix(value_mat_df[,-1])\n",
    "rownames(value_mat) <- value_mat_df$label1\n",
    "\n",
    "# Optional: restrict to shared labels\n",
    "common_labels <- intersect(rownames(value_mat), colnames(value_mat))\n",
    "value_mat <- value_mat[common_labels, common_labels]\n",
    "label_mat <- label_mat[common_labels, common_labels]\n",
    "\n",
    "# Plot with counts and fractions\n",
    "p3 =pheatmap(value_mat,\n",
    "         cluster_rows = FALSE, cluster_cols = FALSE,\n",
    "         display_numbers = label_mat,\n",
    "         main = \"DEGs in MAST+Mixed models overlapping with pseudo-bulk DEGs in HIP\",\n",
    "         color = colorRampPalette(c(\"white\", \"darkgreen\"))(100))"
   ]
  },
  {
   "cell_type": "code",
   "execution_count": null,
   "id": "95dd3bae",
   "metadata": {
    "vscode": {
     "languageId": "r"
    }
   },
   "outputs": [],
   "source": [
    "pseudobulk_HIP$comb = paste(pseudobulk_HIP$gene, pseudobulk_HIP$dir,pseudobulk_HIP$celltype, sep = \"_\")\n",
    "\n",
    "## provide label to indicate if the gene in the original study was supported by the pseudo-bulk DE analysis\n",
    "overlap_HIP$in_pseudobulk <- ifelse(overlap_HIP$comb %in% pseudobulk_HIP$comb, \"yes\", \"no\")\n",
    "table(overlap_HIP$celltype, overlap_HIP$in_pseudobulk)\n",
    "write.csv(overlap_HIP,\"./Results/Revision/HIP_overlap_pseudobulk_DE_results.csv\", row.names = F)"
   ]
  },
  {
   "cell_type": "code",
   "execution_count": null,
   "id": "c94589db",
   "metadata": {
    "vscode": {
     "languageId": "r"
    }
   },
   "outputs": [],
   "source": [
    "pdf(\"./Results/Revision/overlap_DEGs_PFC.pdf\")\n",
    "print(p1)\n",
    "dev.off()\n",
    "\n",
    "pdf(\"./Results/Revision/overlap_DEGs_EC.pdf\")\n",
    "print(p2)\n",
    "dev.off()\n",
    "\n",
    "pdf(\"./Results/Revision/overlap_DEGs_HIP.pdf\")\n",
    "print(p3)\n",
    "dev.off()"
   ]
  },
  {
   "cell_type": "markdown",
   "id": "f3b3c241",
   "metadata": {
    "vscode": {
     "languageId": "r"
    }
   },
   "source": [
    "### Testing the interaction term of diagnosis and brain region using the overall object.\n",
    "### Fitting a LRT model with and without interaction terms (brain regions)"
   ]
  },
  {
   "cell_type": "code",
   "execution_count": null,
   "id": "1e104d15",
   "metadata": {
    "vscode": {
     "languageId": "r"
    }
   },
   "outputs": [],
   "source": [
    "## load DESeq2 library\n",
    "library(DESeq2)\n",
    "library(RColorBrewer)"
   ]
  },
  {
   "cell_type": "code",
   "execution_count": null,
   "id": "1603ac6a",
   "metadata": {
    "vscode": {
     "languageId": "r"
    }
   },
   "outputs": [],
   "source": [
    "object <- readRDS(\"03.clean_object.10.31.rds\")\n",
    "\n",
    "DefaultAssay(object) = \"PC\"\n",
    "object\n",
    "\n",
    "meta = object@meta.data\n",
    "colnames(meta)"
   ]
  },
  {
   "cell_type": "code",
   "execution_count": null,
   "id": "f2fe7822",
   "metadata": {
    "vscode": {
     "languageId": "r"
    }
   },
   "outputs": [],
   "source": [
    "table(object$cluster_celltype)"
   ]
  },
  {
   "cell_type": "code",
   "execution_count": null,
   "id": "20994c78",
   "metadata": {
    "vscode": {
     "languageId": "r"
    }
   },
   "outputs": [],
   "source": [
    "## function for identifying genes in each cell type with significant interaction effects\n",
    "find_interaction_genes <- function(object, celltype) {\n",
    "    print(paste(\"Processing cell type:\", celltype))\n",
    "\n",
    "    ## subset the object for the specified cell type\n",
    "    obj_sub = subset(object, subset = cluster_celltype == celltype)\n",
    "    meta = obj_sub@meta.data\n",
    "\n",
    "    ## generate pseudo-bulk object\n",
    "    pseudo_object <- AggregateExpression(obj_sub, assays = \"PC\", return.seurat = T, group.by = c(\"individual_ID\",\"diagnosis\"))\n",
    "    print(pseudo_object)\n",
    "\n",
    "    ## add the region information to the metadata\n",
    "    df = unique(meta[,c(\"individual_ID\",\"regions\")])\n",
    "    id = match(pseudo_object$individual_ID, df$individual_ID)\n",
    "    pseudo_object$regions = df$regions[id]\n",
    "\n",
    "    ## Get the metadata for the pseudo_object\n",
    "    meta_pseudo = pseudo_object@meta.data\n",
    "    rownames(meta_pseudo) = meta_pseudo$individual_ID\n",
    "\n",
    "    ## Get the counts matrix\n",
    "    counts = as.matrix(LayerData(pseudo_object,assay = \"PC\",layer = \"counts\"))\n",
    "    counts <- counts[rowSums(counts) > 10, ]  # Filter out genes with zero counts\n",
    "    colnames(counts) <- paste0(pseudo_object$individual_ID)\n",
    "    ## Filter the counts matrix to keep only genes expressed in at least 25% of cells\n",
    "    genes.percent.expression <- rowMeans(counts > 10)\n",
    "\n",
    "    ## creating the DESeq2 object with brain region as the interaction term\n",
    "    dds <- DESeqDataSetFromMatrix(countData = counts, \n",
    "                                colData = meta_pseudo, \n",
    "                                design = ~ diagnosis + regions + diagnosis:regions)\n",
    "    print(design(dds))\n",
    "    dds = estimateSizeFactors(dds)\n",
    "    dds <- DESeq(dds)\n",
    "\n",
    "    ## fit the reduced model without the interaction term\n",
    "    dds_lrt <- DESeq(dds, test=\"LRT\", reduced = ~ diagnosis + regions)\n",
    "\n",
    "    ## get the results for the interaction term\n",
    "    results(dds_lrt,alpha = 0.05,tidy = T)%>%\n",
    "        arrange(padj) %>%\n",
    "        filter(padj < 0.05) %>%\n",
    "        mutate(gene = row) %>%\n",
    "        mutate(cell.type = celltype) -> res\n",
    "\n",
    "    print(paste(\"Found\", nrow(res), \"significant interaction genes for cell type:\", celltype))\n",
    "\n",
    "    ## return the results\n",
    "    return(res)\n",
    "}\n",
    "       "
   ]
  },
  {
   "cell_type": "code",
   "execution_count": null,
   "id": "79e2b2dd",
   "metadata": {
    "vscode": {
     "languageId": "r"
    }
   },
   "outputs": [],
   "source": [
    "## run the function for each cell type\n",
    "celltypes <- c(\"Excitatory\",\"Inhibitory\",\"OPC\",\"Astrocyte\",\"Microglia\",\"Oligodendrocyte\")\n",
    "\n",
    "results_list <- pbmclapply(celltypes, find_interaction_genes, object = object, mc.cores = 10)\n",
    "## Combine the results into a single data frame\n",
    "res_combined <- do.call(rbind, results_list)\n",
    "## Save the results to a CSV file\n",
    "write.csv(res_combined, \"./Results/DEG/pseudobulk_DESeq2_interaction_results.csv\", row.names = F)"
   ]
  },
  {
   "cell_type": "code",
   "execution_count": null,
   "id": "c7cc5840",
   "metadata": {
    "vscode": {
     "languageId": "r"
    }
   },
   "outputs": [],
   "source": [
    "## show number of significant interaction genes for each cell type\n",
    "table(res_combined$cell.type)"
   ]
  },
  {
   "cell_type": "code",
   "execution_count": null,
   "id": "043e93a4",
   "metadata": {
    "vscode": {
     "languageId": "r"
    }
   },
   "outputs": [],
   "source": [
    "## subset the object for the specified cell type\n",
    "ct_oi = \"OPC\"\n",
    "obj_sub = subset(object, subset = cluster_celltype == ct_oi)\n",
    "meta = obj_sub@meta.data\n",
    "\n",
    "## generate pseudo-bulk object\n",
    "pseudo_object <- AggregateExpression(obj_sub, assays = \"PC\", return.seurat = T, group.by = c(\"individual_ID\",\"diagnosis\"))\n",
    "print(pseudo_object)\n",
    "\n",
    "## add the region information to the metadata\n",
    "df = unique(meta[,c(\"individual_ID\",\"regions\")])\n",
    "id = match(pseudo_object$individual_ID, df$individual_ID)\n",
    "pseudo_object$regions = df$regions[id]\n",
    "\n",
    "## Get the metadata for the pseudo_object\n",
    "meta_pseudo = pseudo_object@meta.data\n",
    "rownames(meta_pseudo) = meta_pseudo$individual_ID\n",
    "\n",
    "## Get the counts matrix\n",
    "counts = as.matrix(LayerData(pseudo_object,assay = \"PC\",layer = \"counts\"))\n",
    "counts <- counts[rowSums(counts) > 10, ]  # Filter out genes with zero counts\n",
    "colnames(counts) <- paste0(pseudo_object$individual_ID)\n",
    "## Filter the counts matrix to keep only genes expressed in at least 25% of cells\n",
    "genes.percent.expression <- rowMeans(counts > 10)\n",
    "\n",
    "## creating the DESeq2 object with brain region as the interaction term\n",
    "dds <- DESeqDataSetFromMatrix(countData = counts, \n",
    "                            colData = meta_pseudo, \n",
    "                            design = ~ diagnosis + regions + diagnosis:regions)\n",
    "print(design(dds))\n",
    "dds = estimateSizeFactors(dds)\n",
    "dds <- DESeq(dds)"
   ]
  },
  {
   "cell_type": "code",
   "execution_count": null,
   "id": "6ee14312",
   "metadata": {
    "vscode": {
     "languageId": "r"
    }
   },
   "outputs": [],
   "source": [
    "## Given a dds object, plot a dot plot of one selected gene across all samples, grouped by brain region, color-coded by diagnosis\n",
    "plot_gene_expression <- function(dds, gene) {\n",
    "    # Extract normalized counts for the gene\n",
    "    norm_counts <- counts(dds, normalized = TRUE)[gene, ]\n",
    "    \n",
    "    # Create a data frame for plotting\n",
    "    df <- data.frame(\n",
    "        individual_ID = names(norm_counts),\n",
    "        expression = norm_counts,\n",
    "        diagnosis = dds$diagnosis,\n",
    "        regions = dds$regions\n",
    "    )\n",
    "\n",
    "    mypal   <- scale_colour_manual(name = \"\",  values = c(\"#377EB8\",\"#E41A1C\"))\n",
    "    # Create the dot plot\n",
    "    ggplot(df, aes(x = regions, y = expression, color = diagnosis)) +\n",
    "        geom_point(size = 3) +\n",
    "        labs(title = paste(\"Expression of\", gene),\n",
    "             x = \"Brain Region\",\n",
    "             y = \"Normalized Expression\") +\n",
    "        theme_minimal() +\n",
    "        theme(axis.text.x = element_text(angle = 45, hjust = 1),\n",
    "            panel.border = element_rect(color = \"black\", fill = NA, size = 1)\n",
    "             ) + \n",
    "        mypal\n",
    "}"
   ]
  },
  {
   "cell_type": "code",
   "execution_count": null,
   "id": "667e3039",
   "metadata": {
    "vscode": {
     "languageId": "r"
    }
   },
   "outputs": [],
   "source": [
    "res_combined %>%\n",
    "    group_by(cell.type) %>%\n",
    "    arrange(padj) %>%\n",
    "    slice_head(n = 2) %>%\n",
    "    ungroup()"
   ]
  },
  {
   "cell_type": "code",
   "execution_count": null,
   "id": "ec572de8",
   "metadata": {
    "vscode": {
     "languageId": "r"
    }
   },
   "outputs": [],
   "source": [
    "## Excitatory cell example\n",
    "\n",
    "p1 =plot_gene_expression(dds, \"VIPR1\")\n",
    "p2 =plot_gene_expression(dds, \"NEUROD2\")"
   ]
  },
  {
   "cell_type": "code",
   "execution_count": null,
   "id": "0c658051",
   "metadata": {
    "vscode": {
     "languageId": "r"
    }
   },
   "outputs": [],
   "source": [
    "## Inhibitory cell example\n",
    "p3 =plot_gene_expression(dds, \"SLC26A4\")\n",
    "p4 =plot_gene_expression(dds, \"MPPED1\")"
   ]
  },
  {
   "cell_type": "code",
   "execution_count": null,
   "id": "644aecba",
   "metadata": {
    "vscode": {
     "languageId": "r"
    }
   },
   "outputs": [],
   "source": [
    "## Astrocyte cell example\n",
    "p5 =plot_gene_expression(dds, \"FREM2\")\n",
    "p6 =plot_gene_expression(dds, \"INPP5D\")"
   ]
  },
  {
   "cell_type": "code",
   "execution_count": null,
   "id": "f976b8cc",
   "metadata": {
    "vscode": {
     "languageId": "r"
    }
   },
   "outputs": [],
   "source": [
    "## OPC cell example\n",
    "p7 =plot_gene_expression(dds, \"AKR1C3\")\n",
    "p8 =plot_gene_expression(dds, \"HAPLN1\")"
   ]
  },
  {
   "cell_type": "code",
   "execution_count": null,
   "id": "fdf056e7",
   "metadata": {
    "vscode": {
     "languageId": "r"
    }
   },
   "outputs": [],
   "source": [
    "library(patchwork)"
   ]
  },
  {
   "cell_type": "code",
   "execution_count": null,
   "id": "9e7daf57",
   "metadata": {
    "vscode": {
     "languageId": "r"
    }
   },
   "outputs": [],
   "source": [
    "options(repr.plot.width = 16, repr.plot.height = 12)\n",
    "p11 = wrap_plots(p1, p2, p3, p4, p5, p6, p7, p8, ncol = 4) +\n",
    "            plot_annotation(title = \"Significant Interaction Genes\",\n",
    "            theme = theme(plot.title = element_text(hjust = 0.5)))"
   ]
  },
  {
   "cell_type": "code",
   "execution_count": null,
   "id": "becddfa1",
   "metadata": {
    "vscode": {
     "languageId": "r"
    }
   },
   "outputs": [],
   "source": [
    "## Run enrichment analysis for the significant interaction genes\n",
    "library(clusterProfiler)\n",
    "library(org.Hs.eg.db)"
   ]
  },
  {
   "cell_type": "code",
   "execution_count": null,
   "id": "2bcf7215",
   "metadata": {
    "vscode": {
     "languageId": "r"
    }
   },
   "outputs": [],
   "source": [
    "res_combined$gene_id <- mapIds(\n",
    "  # Replace with annotation package for the organism relevant to your data\n",
    "  org.Hs.eg.db,\n",
    "  # The vector of gene identifiers we want to map\n",
    "  keys = res_combined$gene,\n",
    "  # Replace with the type of gene identifiers in your data\n",
    "  keytype = \"SYMBOL\",\n",
    "  # Replace with the type of gene identifiers you would like to map to\n",
    "  column = \"ENTREZID\",\n",
    "  # In the case of 1:many mappings, return the\n",
    "  # first one. This is default behavior!\n",
    "  multiVals = \"first\"\n",
    ")"
   ]
  },
  {
   "cell_type": "code",
   "execution_count": null,
   "id": "f0a500d7",
   "metadata": {
    "vscode": {
     "languageId": "r"
    }
   },
   "outputs": [],
   "source": [
    "res_ex <- enrichGO(gene = res_combined[res_combined$cell.type == \"Excitatory\",]$gene_id,OrgDb= org.Hs.eg.db,ont= c(\"BP\"),pAdjustMethod= \"BH\",pvalueCutoff= 0.05,readable= TRUE)\n",
    "res_ex = simplify(res_ex)\n",
    "\n",
    "res_in <- enrichGO(gene = res_combined[res_combined$cell.type == \"Inhibitory\",]$gene_id,OrgDb= org.Hs.eg.db,ont= c(\"BP\"),pAdjustMethod= \"BH\",pvalueCutoff= 0.05,readable= TRUE)\n",
    "res_in = simplify(res_in)\n",
    "\n",
    "res_ast <- enrichGO(gene = res_combined[res_combined$cell.type == \"Astrocyte\",]$gene_id,OrgDb= org.Hs.eg.db,ont= c(\"BP\"),pAdjustMethod= \"BH\",pvalueCutoff= 0.05,readable= TRUE)\n",
    "res_ast = simplify(res_ast)"
   ]
  },
  {
   "cell_type": "code",
   "execution_count": null,
   "id": "50b866c7",
   "metadata": {
    "vscode": {
     "languageId": "r"
    }
   },
   "outputs": [],
   "source": [
    "top_terms <- res_ex@result %>%\n",
    "  filter(p.adjust < 0.05) %>%\n",
    "  arrange(p.adjust) %>%\n",
    "  slice_head(n = 5)\n",
    "\n",
    "# Ensure the Description is treated as a factor and ordered\n",
    "top_terms$Description <- factor(top_terms$Description, levels = rev(top_terms$Description))\n",
    "\n",
    "# Plot the bar plot\n",
    "options(repr.plot.width = 10, repr.plot.height = 8)\n",
    "p9 = ggplot(top_terms, aes(x = Description, y = -log10(p.adjust))) +\n",
    "        geom_bar(stat = \"identity\", fill = \"#33A65C\") +\n",
    "        coord_flip() +\n",
    "        labs(\n",
    "          x = \"GO Biological Process\",\n",
    "          y = expression(-log[10]~adjusted~p~value),\n",
    "          title = \"Top 5 enriched GOBP terms in Excitatory neurons\"\n",
    "        ) +\n",
    "        theme_minimal() + \n",
    "        theme(panel.border = element_rect(color = \"black\", fill = NA, size = 1),\n",
    "            plot.title = element_text(size = 16, face = \"bold\"),\n",
    "            axis.title = element_text(size = 14),\n",
    "            axis.text = element_text(size = 12)\n",
    "            )\n",
    "## Inhibitory cell example\n",
    "top_terms <- res_in@result %>%\n",
    "  filter(p.adjust < 0.05) %>%\n",
    "  arrange(p.adjust) %>%\n",
    "  slice_head(n = 5)\n",
    "\n",
    "# Ensure the Description is treated as a factor and ordered\n",
    "top_terms$Description <- factor(top_terms$Description, levels = rev(top_terms$Description))\n",
    "\n",
    "# Plot the bar plot\n",
    "options(repr.plot.width = 10, repr.plot.height = 8)\n",
    "p10 = ggplot(top_terms, aes(x = Description, y = -log10(p.adjust))) +\n",
    "        geom_bar(stat = \"identity\", fill = \"#23767C\") +\n",
    "        coord_flip() +\n",
    "        labs(\n",
    "          x = \"GO Biological Process\",\n",
    "          y = expression(-log[10]~adjusted~p~value),\n",
    "          title = \"Top 5 enriched GOBP terms in Excitatory neurons\"\n",
    "        ) +\n",
    "        theme_minimal() + \n",
    "        theme(panel.border = element_rect(color = \"black\", fill = NA, size = 1),\n",
    "            plot.title = element_text(size = 16, face = \"bold\"),\n",
    "            axis.title = element_text(size = 14),\n",
    "            axis.text = element_text(size = 12)\n",
    "            )\n",
    "        \n",
    "\n",
    "        "
   ]
  },
  {
   "cell_type": "code",
   "execution_count": null,
   "id": "5039eb3f",
   "metadata": {
    "vscode": {
     "languageId": "r"
    }
   },
   "outputs": [],
   "source": [
    "options(repr.plot.width = 16, repr.plot.height = 8)\n",
    "p12 = wrap_plots(p9,p10,ncol = 2)"
   ]
  },
  {
   "cell_type": "code",
   "execution_count": null,
   "id": "aca55c0f",
   "metadata": {
    "vscode": {
     "languageId": "r"
    }
   },
   "outputs": [],
   "source": [
    "design = c(\"AAAA\n",
    "           AAAA\n",
    "           BBBB\")"
   ]
  },
  {
   "cell_type": "code",
   "execution_count": null,
   "id": "1077be31",
   "metadata": {
    "vscode": {
     "languageId": "r"
    }
   },
   "outputs": [],
   "source": [
    "ggsave(filename = \"./Results/DEG/Interaction_top_gene.pdf\",\n",
    "       p11,\n",
    "       width = 12, height = 8,dpi = 300)\n",
    "ggsave(filename = \"./Results/DEG/Interaction_top_gene_enrichment.pdf\",\n",
    "       p12,\n",
    "       width = 16, height = 6,dpi = 300)"
   ]
  }
 ],
 "metadata": {
  "kernelspec": {
   "display_name": "R",
   "language": "R",
   "name": "ir"
  },
  "language_info": {
   "codemirror_mode": "r",
   "file_extension": ".r",
   "mimetype": "text/x-r-source",
   "name": "R",
   "pygments_lexer": "r",
   "version": "4.3.2"
  }
 },
 "nbformat": 4,
 "nbformat_minor": 5
}
