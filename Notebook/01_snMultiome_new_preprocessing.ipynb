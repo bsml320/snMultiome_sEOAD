{
 "cells": [
  {
   "cell_type": "code",
   "execution_count": null,
   "metadata": {
    "vscode": {
     "languageId": "r"
    }
   },
   "outputs": [],
   "source": [
    "## single-nuclei Multiome analysis\n",
    "## Preprocessing cellbender output files\n",
    "## Andi Liu\n",
    "## loading packages\n",
    "library(Seurat)\n",
    "library(Signac)\n",
    "library(GenomicRanges)\n",
    "library(EnsDb.Hsapiens.v86)\n",
    "library(dplyr)\n",
    "library(patchwork)\n",
    "library(ggplot2)\n",
    "library(future)\n",
    "library(stringr)\n",
    "library(tidydr)\n",
    "library(factoextra)\n",
    "library(DoubletFinder)\n",
    "library(harmony)\n",
    "library(scCustomize)"
   ]
  },
  {
   "cell_type": "code",
   "execution_count": null,
   "metadata": {
    "vscode": {
     "languageId": "r"
    }
   },
   "outputs": [],
   "source": [
    "## load in sequencing file metadata for each sample\n",
    "sample.meta <- read.csv(\"Metadata.csv\")\n",
    "sample.meta"
   ]
  },
  {
   "cell_type": "code",
   "execution_count": null,
   "metadata": {
    "vscode": {
     "languageId": "r"
    }
   },
   "outputs": [],
   "source": [
    "################### ATAC annotation building ##########################\n",
    "oldw <- getOption(\"warn\")\n",
    "options(warn = -1)\n",
    "\n",
    "annotations <- GetGRangesFromEnsDb(ensdb = EnsDb.Hsapiens.v86)\n",
    "seqlevelsStyle(annotations) <- 'UCSC'\n",
    "genome(annotations) <- \"hg38\"\n",
    "\n",
    "options(warn = oldw)"
   ]
  },
  {
   "cell_type": "code",
   "execution_count": null,
   "metadata": {
    "vscode": {
     "languageId": "r"
    }
   },
   "outputs": [],
   "source": [
    "########## creating a common peak sets across all independent samples ##########\n",
    "# read in the atac data and convert to genomic ranges\n",
    "bed.list <- list()\n",
    "for (i in 1:length(sample.meta$sample_id)) {\n",
    "  bed.list[[i]] <- read.table(file = paste(sample.meta[i,]$molecule_h5,\"atac_peaks.bed\",sep = \"\"),\n",
    "                              col.names = c(\"chr\", \"start\", \"end\"))\n",
    "  bed.list[[i]] <- makeGRangesFromDataFrame(bed.list[[i]])\n",
    "}\n",
    "\n",
    "# Create a unified set of peaks to quantify in each dataset\n",
    "combined.peaks <- reduce(x = c(bed.list[[1]],bed.list[[2]],bed.list[[3]],bed.list[[4]],\n",
    "                               bed.list[[5]],bed.list[[6]],bed.list[[7]],bed.list[[8]],\n",
    "                               bed.list[[9]],bed.list[[10]],bed.list[[11]],bed.list[[12]],\n",
    "                               bed.list[[13]],bed.list[[14]],bed.list[[15]],bed.list[[16]],\n",
    "                               bed.list[[17]],bed.list[[18]],bed.list[[19]],bed.list[[20]],\n",
    "                               bed.list[[21]],bed.list[[22]]))\n",
    "\n",
    "# Filter out bad peaks based on length\n",
    "peakwidths <- width(combined.peaks)\n",
    "combined.peaks <- combined.peaks[peakwidths < 10000 & peakwidths > 20] "
   ]
  },
  {
   "cell_type": "code",
   "execution_count": null,
   "metadata": {
    "vscode": {
     "languageId": "r"
    }
   },
   "outputs": [],
   "source": [
    "################################################################################\n",
    "##############Creating a function to QC and filter multiome data################\n",
    "################################################################################\n",
    "multiome_object_preprocessing <- function(folder.path,count.path,frag.path,atac.annotation, combined.peaks){\n",
    "  t1 = Sys.time()\n",
    "  print(t1)\n",
    "  ##############################################################################\n",
    "  # createing new object and conduct initial filtering -------------------------\n",
    "  ##############################################################################\n",
    "\n",
    "  # CellBender loading data\n",
    "  counts <- Read_CellBender_h5_Mat(count.path)\n",
    "  gex <- counts[1:36601,]\n",
    "  atac <- counts[36602:dim(counts)[1],]\n",
    "  print(paste(\"GEX raw dim\",dim(gex)))\n",
    "  print(paste(\"ATAC raw dim\",dim(atac)))\n",
    "     \n",
    "  # extract RNA and ATAC data\n",
    "  min_cells <- round(ncol(gex)/100)\n",
    "  print(min_cells)\n",
    "    \n",
    "  # Create Seurat object\n",
    "  object <- CreateSeuratObject(counts = gex,min.cells = min_cells)\n",
    "    \n",
    "  # cell barcode for atac seq\n",
    "  cell_barcode <- colnames(object)\n",
    "  \n",
    "  # creating fragment object\n",
    "  atac.frags <- CreateFragmentObject(\n",
    "    path = frag.path,\n",
    "    cells = cell_barcode\n",
    "  )\n",
    "  # Quantify peaks in the each dataset to create a matrix of peaks x cell using the FeatureMatrix function\n",
    "  atac_counts <- FeatureMatrix(fragments = atac.frags, features = combined.peaks, \n",
    "                               cells = cell_barcode)\n",
    "  print(paste(\"ATAC recalled dim\",dim(atac_counts)))\n",
    "    \n",
    "  # create ATAC assay and add it to the object\n",
    "  object[[\"ATAC\"]] <- CreateChromatinAssay(\n",
    "    counts = atac_counts,\n",
    "    sep = c(\":\", \"-\"),\n",
    "    fragments = atac.frags,\n",
    "    annotation = atac.annotation,\n",
    "    genome = \"hg38\",\n",
    "    min.cells = 10\n",
    "  )\n",
    "  \n",
    "  DefaultAssay(object) <- \"ATAC\"\n",
    "  object <- NucleosomeSignal(object)\n",
    "  object <- TSSEnrichment(object)\n",
    "  \n",
    "  # filtering based on parameters\n",
    "  object <- subset(\n",
    "    x = object,\n",
    "    subset = nFeature_RNA < 10000 &\n",
    "      nFeature_RNA > 200 &\n",
    "      nucleosome_signal < 2.5 &\n",
    "      TSS.enrichment >2\n",
    "  )\n",
    "  ##############################################################################\n",
    "  # calculate k means n = 2 based on mitocondril reads -------------------------\n",
    "  ##############################################################################\n",
    "  DefaultAssay(object) <- \"RNA\"\n",
    "  # calculating MT reads\n",
    "  object[[\"percent.mt\"]] <- PercentageFeatureSet(object, pattern = \"^MT-\")\n",
    "  \n",
    "  # then keep the group with lower mean valus \n",
    "  mt_kmeans <- kmeans(object$percent.mt,centers = 2)\n",
    "  print(mt_kmeans$centers)\n",
    "  print(mt_kmeans$size)\n",
    "  \n",
    "  object$mt_keep <- mt_kmeans$cluster \n",
    "  if(mt_kmeans$centers[1] > mt_kmeans$centers[2]){\n",
    "    object <- subset(x = object,subset = mt_keep == 2)\n",
    "  }else{\n",
    "    object <- subset(x = object,subset = mt_keep == 1)\n",
    "  }\n",
    "  \n",
    "  ##############################################################################\n",
    "  # identify doublet cells based on gene expression profile\n",
    "  # assuming a 5% doublet per dataset\n",
    "  ##############################################################################\n",
    "  ## Pre-process Seurat object (Log normalize) ----------------------------------------------------------------------------------- # nolint\n",
    "  object <- NormalizeData(object)\n",
    "  object <- FindVariableFeatures(object, selection.method = \"vst\", nfeatures = 2000)\n",
    "  object <- ScaleData(object)\n",
    "  object <- RunPCA(object,verbose = F)\n",
    "  object <- RunUMAP(object, dims = 1:10,verbose = F)\n",
    "  \n",
    "  ## pK Identification (no ground-truth) ---------------------------------------------------------------------------------------\n",
    "  sweep.res.list <- paramSweep(object, PCs = 1:10, sct = F)\n",
    "  sweep.stats <- summarizeSweep(sweep.res.list, GT = FALSE)\n",
    "  bcmvn <- find.pK(sweep.stats)\n",
    "  ## Homotypic Doublet Proportion Estimate -------------------------------------------------------------------------------------\n",
    "  nExp_poi <- round(0.05*nrow(object@meta.data))  ## Assuming 5% doublet formation rate - tailor for your dataset\n",
    "  ## Run DoubletFinder with varying classification stringencies ----------------------------------------------------------------\n",
    "  pK_optimal <- as.numeric(as.character(bcmvn[which.max(bcmvn$BCmetric),]$pK))\n",
    "  object <- doubletFinder(object, PCs = 1:10, pN = 0.25, pK = pK_optimal, nExp = nExp_poi, reuse.pANN = FALSE, sct = FALSE)\n",
    "  \n",
    "  return(object) \n",
    "  \n",
    "  # get time\n",
    "  t2 = Sys.time()\n",
    "  print(t2-t1)\n",
    "}"
   ]
  },
  {
   "cell_type": "code",
   "execution_count": null,
   "metadata": {
    "vscode": {
     "languageId": "r"
    }
   },
   "outputs": [],
   "source": [
    "################################################################################\n",
    "######################## create the multiome object(s) #########################\n",
    "################################################################################\n",
    "#creating a empty object list\n",
    "object.list <- list()\n",
    "i = 1\n",
    "# read in data and preprocessing the data based on the parameters\n",
    "for (i in 1:length(sample.meta$sample_id)) {\n",
    "  print(paste(\"Sample\",sample.meta[i,]$sample_id,\"on processing.\"))\n",
    "  # generating two paths\n",
    "  folder.path <- sample.meta[i,]$molecule_h5\n",
    "  count.path <- sample.meta$cellbender_output[i]\n",
    "  frag.path <-  paste(sample.meta[i,]$molecule_h5,\"atac_fragments.tsv.gz\",sep = \"\")\n",
    "    \n",
    "  # preproceesing each multiome object\n",
    "  object.list[[i]] <- multiome_object_preprocessing(\n",
    "    folder.path = folder.path,\n",
    "    count.path = count.path,\n",
    "    frag.path = frag.path,\n",
    "    atac.annotation = annotations,\n",
    "    combined.peaks = combined.peaks\n",
    "  )\n",
    "  print(paste(\"Sample\",sample.meta[i,]$sample_id,\"fisnished!\"))\n",
    "}\n",
    "print(object.list)\n",
    "# better to clean output after running..the output takes a lot of space."
   ]
  },
  {
   "cell_type": "code",
   "execution_count": null,
   "metadata": {
    "vscode": {
     "languageId": "r"
    }
   },
   "outputs": [],
   "source": [
    "################################################################################\n",
    "############ Doublet removal based on DoubletFinder results ####################\n",
    "################################################################################\n",
    "for (i in 1:length(object.list)){\n",
    "    #print(i)\n",
    "    meta <- object.list[[i]]@meta.data\n",
    "    meta$doublet <- ifelse(meta[,13] == \"Doublet\",T,F)\n",
    "    # deleting the two columns contain redundant information\n",
    "    meta <- meta[,-c(12:13)]\n",
    "    object.list[[i]]@meta.data <- meta\n",
    "    \n",
    "    object.list[[i]] <- subset(object.list[[i]],subset = doublet == F)\n",
    "}\n",
    "\n",
    "#object.list"
   ]
  },
  {
   "cell_type": "code",
   "execution_count": null,
   "metadata": {
    "vscode": {
     "languageId": "r"
    }
   },
   "outputs": [],
   "source": [
    "################################################################################\n",
    "### Merging all individual object to a merged object for downstream analysis ###\n",
    "################################################################################\n",
    "\n",
    "## removing data and scale.data because of merging time. \n",
    "for (i in 1:length(object.list)){\n",
    "  DefaultAssay(object.list[[i]]) <- \"RNA\"\n",
    "  object.list[[i]][[\"RNA\"]]$data <- NULL\n",
    "  object.list[[i]][[\"RNA\"]]$scale.data <- NULL\n",
    "}\n",
    "\n",
    "# merging and adding sample id\n",
    "object.merge <- merge(object.list[[1]],y = c(object.list[[2]],object.list[[3]],\n",
    "                                             object.list[[4]],object.list[[5]],\n",
    "                                             object.list[[6]],object.list[[7]],\n",
    "                                             object.list[[8]],object.list[[9]],\n",
    "                                            object.list[[10]],object.list[[11]],\n",
    "                                            object.list[[12]],object.list[[13]],\n",
    "                                            object.list[[14]],object.list[[15]],\n",
    "                                            object.list[[16]],object.list[[17]],\n",
    "                                            object.list[[18]],object.list[[19]],\n",
    "                                            object.list[[20]],object.list[[21]],\n",
    "                                            object.list[[22]]),\n",
    "                      add.cell.ids = sample.meta$sample_id)\n",
    "\n",
    "# individual ID\n",
    "meta <- object.merge@meta.data\n",
    "meta$individual_ID <-  str_split_fixed(rownames(meta),\"_\",3)[,1]\n",
    "# batch information\n",
    "meta$batch <- NA\n",
    "meta[meta$individual_ID %in% c(\"UT04\",\"UT09\",\"UT2105\",\"UT2106\"),]$batch <- 2\n",
    "meta[meta$individual_ID %in% c(\"NIH04\",\"NIH10\",\"NIH13\",\"NIH16\"),]$batch <- 3\n",
    "meta[meta$individual_ID %in% c(\"NIH01\",\"NIH02\",\"NIH03\",\"NIH17\",\"NIH18\",\"NIH28\",\"NIH29\",\"NIH30\"),]$batch <- 4\n",
    "meta[meta$individual_ID %in% c(\"NIH05\",\"NIH06\",\"NIH11\",\"NIH12\",\"NIH14\",\"NIH15\"),]$batch <- 5\n",
    "\n",
    "# diagnosis information\n",
    "meta$diagnosis <- ifelse(\n",
    "  meta$individual_ID %in% c(\"UT2105\",\"UT2106\",\n",
    "                            \"NIH10\",\"NIH11\",\"NIH12\",\n",
    "                            \"NIH13\",\"NIH14\",\"NIH15\",\n",
    "                            \"NIH16\",\"NIH17\",\"NIH18\"),\"EOAD\",\"NCI\")\n",
    "\n",
    "# brain region information\n",
    "meta$regions <- NA\n",
    "meta[meta$individual_ID %in% c(\"UT04\",\"UT09\",\"UT2105\",\"UT2106\",\n",
    "                              \"NIH01\",\"NIH04\",\"NIH07\",\"NIH10\",\n",
    "                              \"NIH13\",\"NIH16\",\"NIH28\"),]$regions <- \"PFC\"\n",
    "meta[meta$individual_ID %in% c(\"NIH02\",\"NIH05\",\"NIH08\",\"NIH11\",\n",
    "                              \"NIH14\",\"NIH17\",\"NIH29\"),]$regions <- \"EC\"\n",
    "meta[meta$individual_ID %in% c(\"NIH03\",\"NIH06\",\"NIH12\",\"NIH15\",\n",
    "                              \"NIH18\",\"NIH30\"),]$regions <- \"HIP\"\n",
    "\n",
    "# assign back the meta data\n",
    "object.merge@meta.data <- meta\n",
    "\n",
    "## checking and saving\n",
    "ls()\n",
    "print(object.merge)"
   ]
  },
  {
   "cell_type": "code",
   "execution_count": null,
   "metadata": {
    "vscode": {
     "languageId": "r"
    }
   },
   "outputs": [],
   "source": [
    "### Since using seurat V5, need to combine(Join) layers of data from each individual. Taking long time....\n",
    "DefaultAssay(object.merge) <- \"RNA\"\n",
    "# removing unused data might speed up the procedures. for example: object[['RNA']]$scale.data.1 <- NULL\n",
    "object.merge[[\"RNA\"]] <- JoinLayers(object.merge[[\"RNA\"]]) # must add [[\"XXX\"]], otherwise takes forever.....\n",
    "## checking joined dataset about the dimension, etc. \n",
    "print(object.merge)\n",
    "Layers(object.merge[[\"RNA\"]]) # double check layers\n",
    "#save(object.list,annotations,combined.peaks,object.merge, file = \"01.cellbender_merged_object_1.3.RData\")"
   ]
  },
  {
   "cell_type": "code",
   "execution_count": null,
   "metadata": {
    "vscode": {
     "languageId": "r"
    }
   },
   "outputs": [],
   "source": [
    "### checking dimension ###\n",
    "## since using seurat V5 check dim\n",
    "meta <- object.merge@meta.data\n",
    "table(meta$individual_ID)\n",
    "\n",
    "## check ATAC fragments file paths\n",
    "Fragments(object.merge[[\"ATAC\"]])[[20]]@path"
   ]
  },
  {
   "cell_type": "code",
   "execution_count": null,
   "metadata": {
    "vscode": {
     "languageId": "r"
    }
   },
   "outputs": [],
   "source": [
    "######################################################################\n",
    "#### create new layer of data containing only protein coding genes ###\n",
    "######################################################################\n",
    "# loading\n",
    "PCgene <- read.delim(\"./Data/protein-coding_gene.txt\")\n",
    "\n",
    "# creating\n",
    "DefaultAssay(object.merge) <- \"RNA\"\n",
    "table(rownames(object.merge) %in% PCgene$symbol)\n",
    "temp.assay <- subset(object.merge[[\"RNA\"]], features = PCgene$symbol)\n",
    "Key(temp.assay) <- \"pc_\"\n",
    "object.merge[[\"PC\"]] <- temp.assay\n",
    "# clean temp file\n",
    "rm(temp.assay)"
   ]
  },
  {
   "cell_type": "code",
   "execution_count": null,
   "metadata": {
    "vscode": {
     "languageId": "r"
    }
   },
   "outputs": [],
   "source": [
    "######################################################################\n",
    "################ first normalization and clustering ##################  \n",
    "######################################################################\n",
    "# protein coding layer\n",
    "DefaultAssay(object.merge) <- \"PC\"\n",
    "\n",
    "object.merge <- SCTransform(object.merge,assay = \"PC\",new.assay.name = \"SCT\",vars.to.regress = c(\"percent.mt\"),layer = \"counts\",verbose = T,method = \"glmGamPoi\") %>% \n",
    "        RunPCA(ndims=30) %>% \n",
    "        FindNeighbors(dims = 1:30) %>% \n",
    "        RunUMAP(dims = 1:30, reduction.name=\"umap.rna\",reduction.key = \"rnaUMAP_\")\n",
    "\n",
    "# ATAC layer (common peak set)\n",
    "DefaultAssay(object.merge)<-\"ATAC\"\n",
    "# Normalization and UMAP on ATAC seq \n",
    "object.merge <- RunTFIDF(object.merge) %>% \n",
    "                FindTopFeatures(min.cutoff='q0') %>% \n",
    "                RunSVD() %>% \n",
    "                RunUMAP(reduction='lsi',dims=2:50,reduction.name=\"umap.atac\",reduction.key=\"atacUMAP_\") \n",
    "\n",
    "object.merge <- FindMultiModalNeighbors(object.merge, reduction.list=list(\"pca\",\"lsi\"), dims.list=list(1:30,2:50))\n",
    "object.merge <- RunUMAP(object.merge,nn.name=\"weighted.nn\", reduction.name=\"wnn.umap\",reduction.key=\"wnnUMAP_\")\n",
    "object.merge <- FindClusters(object.merge, graph.name=\"wsnn\", algorithm=3)"
   ]
  },
  {
   "cell_type": "code",
   "execution_count": null,
   "metadata": {
    "vscode": {
     "languageId": "r"
    }
   },
   "outputs": [],
   "source": [
    "######################################################################\n",
    "###########-- FIRST UMAP of unintegrated overall raw data--###########\n",
    "######################################################################\n",
    "umap_theme <- theme_dr()+theme(panel.grid.major = element_blank(), \n",
    "                                            panel.grid.minor = element_blank(),\n",
    "                                            panel.background = element_blank(), \n",
    "                                            axis.line = element_line(colour = \"black\"))\n",
    "\n",
    "p1 <- DimPlot(object.merge, label = T, repel = TRUE, \n",
    "              reduction = \"umap.rna\",group.by = \"individual_ID\")+umap_theme+ggtitle(\"RNA\")\n",
    "p2 <- DimPlot(object.merge, label = T, repel = TRUE, \n",
    "              reduction = \"umap.atac\",group.by = \"individual_ID\")+umap_theme+ggtitle(\"peaks\")\n",
    "p3 <- DimPlot(object.merge, label = T, repel = TRUE, \n",
    "              reduction = \"wnn.umap\",group.by = \"individual_ID\")+umap_theme+ggtitle(\"WNN\")\n",
    "\n",
    "p4 <- DimPlot(object.merge, label = T, repel = TRUE, \n",
    "              reduction = \"wnn.umap\",group.by = \"batch\")+umap_theme+ggtitle(\"batch_WNN\")\n",
    "p5 <- DimPlot(object.merge, label = T, repel = TRUE, \n",
    "              reduction = \"wnn.umap\",group.by = \"diagnosis\")+umap_theme+ggtitle(\"diagnosis_WNN\")\n",
    "p6 <- DimPlot(object.merge, label = T, repel = TRUE, \n",
    "              reduction = \"wnn.umap\",group.by = \"seurat_clusters\")+umap_theme+ggtitle(\"cluster_WNN\")\n",
    "\n",
    "ggsave(filename = \"./Figures/UMAP/0_merged.object_UMAP_individual.pdf\",\n",
    "    patchwork::wrap_plots(p1,p2,p3, ncol = 3),\n",
    "      scale = 1, width = 17, height = 5)\n",
    "\n",
    "ggsave(filename = \"./Figures/UMAP/0_merged.object_UMAP_batche_and_diagnosis.pdf\",\n",
    "    patchwork::wrap_plots(p4,p5,p6, ncol = 3),\n",
    "      scale = 1, width = 17, height = 5)"
   ]
  },
  {
   "cell_type": "code",
   "execution_count": null,
   "metadata": {
    "vscode": {
     "languageId": "r"
    }
   },
   "outputs": [],
   "source": [
    "################################################################################\n",
    "#################### Harmony integration on each omic ##########################\n",
    "################################################################################\n",
    "library(harmony)\n",
    "\n",
    "## Normalization and clutering\n",
    "DefaultAssay(object.merge) <- \"PC\"\n",
    "\n",
    "## RNA harmony integration\n",
    "integrated<-RunHarmony(object.merge, group.by.vars=\"individual_ID\",reduction=\"pca\",assay.use=\"SCT\", \n",
    "                       reduction.save=\"harmony.rna\",theta = 1)\n",
    "integrated<-RunUMAP(integrated,reduction=\"harmony.rna\",dims=1:30,reduction.name=\"harmony.rna.umap\")\n",
    "\n",
    "# finding RNA clusters\n",
    "integrated<-FindNeighbors(integrated,dims=1:30, reduction=\"harmony.rna\")\n",
    "integrated<-FindClusters(integrated, graph.name=\"SCT_nn\", resolution=c(0.8))\n",
    "integrated$RNA_harmony_cluster <- integrated$seurat_clusters\n",
    "\n",
    "## ATAC part (no call peaks yet)\n",
    "DefaultAssay(integrated)<-\"ATAC\"\n",
    "\n",
    "## ATAC harmony integration\n",
    "integrated <- RunHarmony(integrated, group.by.vars=\"individual_ID\", reduction=\"lsi\",\n",
    "                       assay.use=\"ATAC\",reduction.save=\"harmony.atac\", project.dim=F)\n",
    "integrated <- RunUMAP(integrated,reduction=\"harmony.atac\",dims=1:30,reduction.name=\"harmony.atac.umap\")\n",
    "\n",
    "## integration and jointly clustering\n",
    "integrated <- FindMultiModalNeighbors(integrated, reduction.list=list(\"harmony.rna\",\"harmony.atac\"), dims.list=list(1:30,2:50))\n",
    "integrated <- RunUMAP(integrated,nn.name=\"weighted.nn\", reduction.name=\"wnn.umap\",reduction.key=\"wnnUMAP_\")\n",
    "integrated <- FindClusters(integrated, graph.name = \"wsnn\", algorithm = 3, verbose = T, resolution = c(0.8))\n",
    "integrated$WNN_harmony_cluster <- integrated$seurat_clusters"
   ]
  },
  {
   "cell_type": "code",
   "execution_count": null,
   "metadata": {
    "vscode": {
     "languageId": "r"
    }
   },
   "outputs": [],
   "source": [
    "######################################################################\n",
    "#########-- 02_second UMAP of integrated overall  data  --############\n",
    "######################################################################\n",
    "umap_theme <- theme_dr()+theme(panel.grid.major = element_blank(), \n",
    "                                            panel.grid.minor = element_blank(),\n",
    "                                            panel.background = element_blank(), \n",
    "                                            axis.line = element_line(colour = \"black\"))\n",
    "## transition from unintegrated to harmony integration\n",
    "p1 <- DimPlot(integrated, label = T, repel = TRUE, \n",
    "              reduction = \"umap.rna\",group.by = \"individual_ID\")+umap_theme+ggtitle(\"unintegrated_RNA\")\n",
    "p2 <- DimPlot(integrated, label = T, repel = TRUE, \n",
    "              reduction = \"umap.atac\",group.by = \"individual_ID\")+umap_theme+ggtitle(\"unintegrated_combined_peaks\")\n",
    "\n",
    "p3 <- DimPlot(integrated, label = T, repel = TRUE, \n",
    "              reduction = \"harmony.rna.umap\",group.by = \"individual_ID\")+umap_theme+ggtitle(\"harmony_RNA\")\n",
    "p4 <- DimPlot(integrated, label = T, repel = TRUE, \n",
    "              reduction = \"harmony.atac.umap\",group.by = \"individual_ID\")+umap_theme+ggtitle(\"harmony_combined_peaks\")\n",
    "\n",
    "ggsave(filename = \"./Figures/UMAP/1_Harmony_integration_GEX_ATAC.pdf\",\n",
    "    patchwork::wrap_plots(p1,p2,p3,p4, ncol = 2),\n",
    "      scale = 1, width = 12, height = 10)\n",
    "\n",
    "## joint harmony embedding\n",
    "p5 <- DimPlot(integrated, label = T, repel = TRUE, \n",
    "              reduction = \"wnn.umap\",group.by = \"batch\")+umap_theme+ggtitle(\"harmony_WNN_batch\")\n",
    "p6 <- DimPlot(integrated, label = T, repel = TRUE, \n",
    "              reduction = \"wnn.umap\",group.by = \"diagnosis\")+umap_theme+ggtitle(\"harmony_WNN_diagnosis\")\n",
    "p7 <- DimPlot(integrated, label = T, repel = TRUE, \n",
    "              reduction = \"wnn.umap\",group.by = \"individual_ID\")+umap_theme+ggtitle(\"harmony_WNN\")\n",
    "p8 <- DimPlot(integrated, label = T, repel = TRUE, \n",
    "              reduction = \"wnn.umap\",group.by = \"WNN_harmony_cluster\")+umap_theme+ggtitle(\"harmony_WNN_clusters\")\n",
    "\n",
    "ggsave(filename = \"./Figures/UMAP/1_Harmony_integration_UMAP_clusters.pdf\",\n",
    "    patchwork::wrap_plots(p5,p6,p7,p8, ncol = 2),\n",
    "      scale = 1, width = 12, height = 10)"
   ]
  },
  {
   "cell_type": "code",
   "execution_count": null,
   "metadata": {
    "vscode": {
     "languageId": "r"
    }
   },
   "outputs": [],
   "source": [
    "########################################################################\n",
    "## first normalization and clustering for ploting the gene expression ##\n",
    "########################################################################\n",
    "# protein coding layer\n",
    "DefaultAssay(integrated) <- \"PC\"\n",
    "\n",
    "integrated <- NormalizeData(integrated)\n",
    "integrated <- FindVariableFeatures(integrated, selection.method = \"vst\", nfeatures = 3000)\n",
    "integrated <- ScaleData(integrated) %>%\n",
    "        RunPCA(ndims=30) %>%\n",
    "        FindNeighbors(dims = 1:30)\n",
    "\n",
    "print(integrated)"
   ]
  },
  {
   "cell_type": "code",
   "execution_count": null,
   "metadata": {
    "vscode": {
     "languageId": "r"
    }
   },
   "outputs": [],
   "source": [
    "#####################################################\n",
    "#########-- saving file and reloading  --############\n",
    "#####################################################\n",
    "save(integrated, file = \"01.integrated_multiome_object.RData\")"
   ]
  },
  {
   "cell_type": "code",
   "execution_count": null,
   "metadata": {
    "vscode": {
     "languageId": "r"
    }
   },
   "outputs": [],
   "source": [
    "## based on pseudobulk analysis results, kick out outliers\n",
    "integrated <- subset(integrated,subset = individual_ID != \"UT2106\")\n",
    "meta <- integrated@meta.data\n",
    "length(meta$individual_ID)\n",
    "table(meta$individual_ID)"
   ]
  },
  {
   "cell_type": "code",
   "execution_count": null,
   "metadata": {
    "vscode": {
     "languageId": "r"
    }
   },
   "outputs": [],
   "source": [
    "################################################################################\n",
    "########## redo normalization, integration for visualization ###################\n",
    "################################################################################\n",
    "library(harmony)\n",
    "\n",
    "## Normalization and clutering\n",
    "DefaultAssay(integrated) <- \"RNA\"\n",
    "\n",
    "integrated <- SCTransform(integrated,assay=\"RNA\",new.assay.name=\"SCT\",vars.to.regress = c(\"percent.mt\"),verbose=T) %>% \n",
    "        RunPCA(ndims=30) %>% \n",
    "        FindNeighbors(dims = 1:30) %>% \n",
    "        RunUMAP(dims = 1:30, reduction.name=\"umap.rna\",reduction.key = \"rnaUMAP_\")\n",
    "\n",
    "## RNA harmony integration\n",
    "integrated<-RunHarmony(integrated, group.by.vars=\"individual_ID\",reduction=\"pca\",assay.use=\"SCT\", \n",
    "                       reduction.save=\"harmony.rna\",theta = 1)\n",
    "integrated<-RunUMAP(integrated,reduction=\"harmony.rna\",dims=1:30,reduction.name=\"harmony.rna.umap\")\n",
    "\n",
    "# finding RNA clusters\n",
    "integrated<-FindNeighbors(integrated,dims=1:30, reduction=\"harmony.rna\")\n",
    "integrated<-FindClusters(integrated, graph.name=\"SCT_nn\", resolution=c(0.8))\n",
    "integrated$RNA_harmony_cluster <- integrated$seurat_clusters\n",
    "\n",
    "## ATAC part (no call peaks yet)\n",
    "DefaultAssay(integrated)<-\"ATAC\"\n",
    "\n",
    "# Normalization and UMAP on ATAC seq \n",
    "integrated <- RunTFIDF(integrated) %>% \n",
    "                FindTopFeatures(min.cutoff='q0') %>% \n",
    "                RunSVD() %>% \n",
    "                RunUMAP(reduction='lsi',dims=2:50,reduction.name=\"umap.atac\",reduction.key=\"atacUMAP_\") \n",
    "\n",
    "## ATAC harmony integration\n",
    "integrated <- RunHarmony(integrated, group.by.vars=\"individual_ID\", reduction=\"lsi\",\n",
    "                       assay.use=\"ATAC\",reduction.save=\"harmony.atac\", project.dim=F)\n",
    "integrated <- RunUMAP(integrated,reduction=\"harmony.atac\",dims=1:30,reduction.name=\"harmony.atac.umap\")\n",
    "\n",
    "## integration and jointly clustering\n",
    "integrated <- FindMultiModalNeighbors(integrated, reduction.list=list(\"harmony.rna\",\"harmony.atac\"), dims.list=list(1:30,2:50))\n",
    "integrated <- RunUMAP(integrated,nn.name=\"weighted.nn\", reduction.name=\"wnn.umap\",reduction.key=\"wnnUMAP_\")\n",
    "integrated <- FindClusters(integrated, graph.name = \"wsnn\", algorithm = 3, verbose = T, resolution = c(0.8))"
   ]
  },
  {
   "cell_type": "code",
   "execution_count": null,
   "metadata": {
    "vscode": {
     "languageId": "r"
    }
   },
   "outputs": [],
   "source": [
    "######################################################################\n",
    "#########-- 02_second UMAP of integrated overall  data  --############\n",
    "######################################################################\n",
    "umap_theme <- theme_dr()+theme(panel.grid.major = element_blank(), \n",
    "                                            panel.grid.minor = element_blank(),\n",
    "                                            panel.background = element_blank(), \n",
    "                                            axis.line = element_line(colour = \"black\"))\n",
    "## transition from unintegrated to harmony integration\n",
    "p1 <- DimPlot(integrated, label = T, repel = TRUE, \n",
    "              reduction = \"harmony.rna.umap\",group.by = \"individual_ID\")+umap_theme+ggtitle(\"harmony.rna.umap.rmOutlier\")\n",
    "p2 <- DimPlot(integrated, label = T, repel = TRUE, \n",
    "              reduction = \"harmony.atac.umap\",group.by = \"individual_ID\")+umap_theme+ggtitle(\"harmony.atac.umap.rmOutlier\")\n",
    "p3 <- DimPlot(integrated, label = T, repel = TRUE, \n",
    "              reduction = \"wnn.umap\",group.by = \"individual_ID\")+umap_theme+ggtitle(\"Joint_harmony_common_peaks_WNN_individual_rmOutliers\")\n",
    "p4 <- DimPlot(integrated, label = T, repel = TRUE, \n",
    "              reduction = \"wnn.umap\",group.by = \"seurat_clusters\")+umap_theme+ggtitle(\"joint_harmony_common_peaks_WNN_clusters.rmOutliers\")\n",
    "\n",
    "ggsave(filename = \"./Figures/UMAP/2_harmony_integrated_object_rmOurliers.pdf\",\n",
    "    patchwork::wrap_plots(p1,p2,p3,p4, ncol = 2),\n",
    "      scale = 1, width = 12, height = 10)\n",
    "#patchwork::wrap_plots(p1,p2,p3,p4, ncol = 2)"
   ]
  },
  {
   "cell_type": "code",
   "execution_count": null,
   "metadata": {
    "vscode": {
     "languageId": "r"
    }
   },
   "outputs": [],
   "source": [
    "########################################################################\n",
    "## first normalization and clustering for ploting the gene expression ##\n",
    "########################################################################\n",
    "# protein coding layer\n",
    "DefaultAssay(integrated) <- \"PC\"\n",
    "\n",
    "integrated <- NormalizeData(integrated)\n",
    "integrated <- FindVariableFeatures(integrated, selection.method = \"vst\", nfeatures = 3000)\n",
    "integrated <- ScaleData(integrated) %>%\n",
    "        RunPCA(ndims=30) %>%\n",
    "        FindNeighbors(dims = 1:30)\n",
    "\n",
    "print(integrated)"
   ]
  },
  {
   "cell_type": "code",
   "execution_count": null,
   "metadata": {
    "vscode": {
     "languageId": "r"
    }
   },
   "outputs": [],
   "source": [
    "######################################################################\n",
    "###########-- check cell type marker genes on each cluster --#########\n",
    "######################################################################\n",
    "DefaultAssay(integrated) <- \"PC\"\n",
    "p3 <- FeaturePlot(integrated,features = c(\"SYT1\",#neuron in general\n",
    "                                          \"NRGN\",\"CAMK2A\",# excitatory neurons\n",
    "                                          \"GAD1\",\"GAD2\",\"SST\", # inhibitory neurons\n",
    "                                          \"AQP4\",\"GFAP\", # astrocytes\n",
    "                                          \"CD74\",\"CSF1R\",\"C3\",# microglia\n",
    "                                          \"MOBP\",\"MBP\",# oligodendrocyte\n",
    "                                          \"VCAN\",\"PDGFRA\", # OPCs\n",
    "                                          \"FLT1\",# endotheial\n",
    "                                          \"HIGD1B\" # VLMC/Pericyte\n",
    "                                         ), ncol = 8,slot = \"data\",\n",
    "                  reduction = \"harmony.rna.umap\")\n",
    "ggsave(filename = \"./Figures/UMAP/2_CT_features.png\",\n",
    "    patchwork::wrap_plots(p3, ncol = 1),\n",
    "      scale = 1, width = 40, height = 15)"
   ]
  },
  {
   "cell_type": "code",
   "execution_count": null,
   "metadata": {
    "vscode": {
     "languageId": "r"
    }
   },
   "outputs": [],
   "source": [
    "######################################################################\n",
    "## Perform cell type annotation based on file from SEA-AD reference ##\n",
    "######################################################################\n",
    "## loading reference datasets\n",
    "load(\"./Reference/02_reference_SEA_AD_1234_subclass.RData\")\n",
    "load(\"./Reference//01_Reference_ROSMAP_Control.RData\")\n",
    "ls()\n",
    "\n",
    "meta_ref_seaad <- reference_1234_subclass@meta.data\n",
    "meta_ref_methy <- reference@meta.data\n",
    "\n",
    "## change name\n",
    "meta_ref_methy$major.cell.type <- NA\n",
    "meta_ref_methy[meta_ref_methy$broad.cell.type == \"Ex\",]$major.cell.type <- \"Excitatory\"\n",
    "meta_ref_methy[meta_ref_methy$broad.cell.type == \"In\",]$major.cell.type <- \"Inhibitory\"\n",
    "meta_ref_methy[meta_ref_methy$broad.cell.type == \"Ast\",]$major.cell.type <- \"Astrocyte\"\n",
    "meta_ref_methy[meta_ref_methy$broad.cell.type == \"End\",]$major.cell.type <- \"Endothelial\"\n",
    "meta_ref_methy[meta_ref_methy$broad.cell.type == \"Mic\",]$major.cell.type <- \"Microglia\"\n",
    "meta_ref_methy[meta_ref_methy$broad.cell.type == \"Oli\",]$major.cell.type <- \"Oligodendrocyte\"\n",
    "meta_ref_methy[meta_ref_methy$broad.cell.type == \"Opc\",]$major.cell.type <- \"OPC\"\n",
    "meta_ref_methy[meta_ref_methy$broad.cell.type == \"Per\",]$major.cell.type <- \"VLMC/Per\"\n",
    "\n",
    "# for seaad\n",
    "meta_ref_seaad[meta_ref_seaad$major.cell.type == \"Microglia-PVM\",]$major.cell.type <- \"Microglia\"\n",
    "meta_ref_seaad[meta_ref_seaad$major.cell.type == \"VLMC\",]$major.cell.type <- \"VLMC/Per\"\n",
    "\n",
    "table(meta_ref_seaad$major.cell.type)\n",
    "table(meta_ref_methy$major.cell.type)\n",
    "\n",
    "reference_1234_subclass@meta.data <- meta_ref_seaad\n",
    "reference@meta.data <- meta_ref_methy"
   ]
  },
  {
   "cell_type": "code",
   "execution_count": null,
   "metadata": {
    "vscode": {
     "languageId": "r"
    }
   },
   "outputs": [],
   "source": [
    "#### annotation from seaad ####\n",
    "DefaultAssay(integrated) <- \"SCT\"\n",
    "integrated$barcode <- str_split_fixed(rownames(integrated@meta.data), \n",
    "                                   pattern = \"_\",n = 2)[,2]\n",
    "\n",
    "# transfer cell type labels from reference to query\n",
    "transfer_anchors <- FindTransferAnchors(\n",
    "  reference = reference_1234_subclass,\n",
    "  query = integrated,\n",
    "  normalization.method = \"SCT\",\n",
    "  query.assay = \"SCT\",\n",
    "  recompute.residuals = FALSE,\n",
    "  dims = 1:30\n",
    ")\n",
    "\n",
    "## transferring the major cell type label\n",
    "Idents(reference_1234_subclass) <- \"major.cell.type\"\n",
    "predictions <- TransferData(\n",
    "  anchorset = transfer_anchors, \n",
    "  reference = reference_1234_subclass,\n",
    "  refdata = reference_1234_subclass$major.cell.type,#sublass_label\n",
    "  query = integrated,\n",
    "  dims = 1:30\n",
    ")\n",
    "\n",
    "integrated$major.cell.type.prediction.seaad <- predictions$predicted.id\n",
    "integrated$major.cell.type.prediction.seaad.score <- predictions$predicted.id.score"
   ]
  },
  {
   "cell_type": "code",
   "execution_count": null,
   "metadata": {
    "vscode": {
     "languageId": "r"
    }
   },
   "outputs": [],
   "source": [
    "#### annotation from Mathy et al. ####\n",
    "DefaultAssay(integrated) <- \"SCT\"\n",
    "integrated$barcode <- str_split_fixed(rownames(integrated@meta.data), \n",
    "                                   pattern = \"_\",n = 2)[,2]\n",
    "\n",
    "# transfer cell type labels from reference to query\n",
    "transfer_anchors <- FindTransferAnchors(\n",
    "  reference = reference,\n",
    "  query = integrated,\n",
    "  normalization.method = \"SCT\",\n",
    "  query.assay = \"SCT\",\n",
    "  recompute.residuals = FALSE,\n",
    "  dims = 1:30\n",
    ")\n",
    "\n",
    "## transferring the major cell type label\n",
    "Idents(reference) <- \"major.cell.type\"\n",
    "predictions <- TransferData(\n",
    "  anchorset = transfer_anchors, \n",
    "  reference = reference,\n",
    "  refdata = reference$major.cell.type,#sublass_label\n",
    "  query = integrated,\n",
    "  dims = 1:30\n",
    ")\n",
    "\n",
    "integrated$major.cell.type.prediction.mathy <- predictions$predicted.id\n",
    "integrated$major.cell.type.prediction.mathy.score <- predictions$predicted.id.score"
   ]
  },
  {
   "cell_type": "code",
   "execution_count": null,
   "metadata": {
    "vscode": {
     "languageId": "r"
    }
   },
   "outputs": [],
   "source": [
    "## check overlap between two reference\n",
    "meta <- integrated@meta.data\n",
    "table(meta$major.cell.type.prediction.seaad)\n",
    "table(meta$major.cell.type.prediction.mathy)\n",
    "table(meta$major.cell.type.prediction.seaad == meta$major.cell.type.prediction.mathy) # check consistency\n",
    "\n",
    "# check how many cells will be removed# check consistency plus confidency\n",
    "integrated$kick <- ifelse(\n",
    "    meta$major.cell.type.prediction.seaad == meta$major.cell.type.prediction.mathy & \n",
    "    meta$major.cell.type.prediction.seaad.score >= 0.95 & \n",
    "    meta$major.cell.type.prediction.mathy.score >= 0.95,\n",
    "    T,F)\n",
    "\n",
    "# check number\n",
    "table(integrated$kick)"
   ]
  },
  {
   "cell_type": "code",
   "execution_count": null,
   "metadata": {
    "vscode": {
     "languageId": "r"
    }
   },
   "outputs": [],
   "source": [
    "umap_theme <- theme_dr()+theme(panel.grid.major = element_blank(), \n",
    "                                            panel.grid.minor = element_blank(),\n",
    "                                            panel.background = element_blank(), \n",
    "                                            axis.line = element_line(colour = \"black\"))\n",
    "p1 <- DimPlot(integrated, label = T, repel = TRUE, \n",
    "              reduction = \"harmony.rna.umap\",group.by = \"RNA_harmony_cluster\")+umap_theme+ggtitle(\"seurat_clusters\")\n",
    "p2 <- DimPlot(integrated, label = T, repel = TRUE, \n",
    "              reduction = \"harmony.rna.umap\",group.by = \"major.cell.type.prediction.seaad\")+umap_theme+ggtitle(\"CT_by_SEA-AD\")\n",
    "p3 <- DimPlot(integrated, label = T, repel = TRUE, \n",
    "              reduction = \"harmony.rna.umap\",group.by = \"major.cell.type.prediction.mathy\")+umap_theme+ggtitle(\"CT_by_Mathy\")\n",
    "p4 <- DimPlot(integrated, label = T, repel = TRUE, \n",
    "              reduction = \"harmony.rna.umap\",group.by = \"kick\")+umap_theme+ggtitle(\"low predicability\")\n",
    "ggsave(filename = \"./Figures/UMAP/2_integrated_object_CT_prediction.pdf\",\n",
    "    patchwork::wrap_plots(p1,p2,p3,p4, ncol = 2),\n",
    "      scale = 1, width = 12, height = 10)"
   ]
  },
  {
   "cell_type": "code",
   "execution_count": null,
   "metadata": {
    "vscode": {
     "languageId": "r"
    }
   },
   "outputs": [],
   "source": [
    "#################################################################\n",
    "##-- preparing for scANVI model for sub-cellclass annotation --##\n",
    "#################################################################\n",
    "##conda install numpy scipy joblib scikit-learn --force-reinstall\n",
    "## since using seurat 5, need to change some assay to seurat 3/4 for some functions\n",
    "# backup\n",
    "outobj <- integrated\n",
    "outobj[[\"RNA\"]] <- as(outobj[[\"RNA\"]], \"Assay\")\n",
    "DefaultAssay(outobj) <- \"RNA\"\n",
    "outobj\n",
    "## output as a h5ad format, need to install the following things\n",
    "\n",
    "DefaultAssay(outobj) <- \"RNA\"\n",
    "#integrated@assays$RNA$data <- NULL\n",
    "sceasy::convertFormat(outobj, from=\"seurat\", to=\"anndata\",\n",
    "                       outFile='integrated_object_for_scvi_raw.h5ad')"
   ]
  },
  {
   "cell_type": "code",
   "execution_count": null,
   "metadata": {
    "vscode": {
     "languageId": "r"
    }
   },
   "outputs": [],
   "source": [
    "#################################################################\n",
    "##-- kick the cells with low cell type annotation confidency --##\n",
    "#################################################################\n",
    "## subsetting as the clean dataset\n",
    "clean <- subset(integrated, subset = kick ==T)\n",
    "clean"
   ]
  },
  {
   "cell_type": "code",
   "execution_count": null,
   "metadata": {
    "vscode": {
     "languageId": "r"
    }
   },
   "outputs": [],
   "source": [
    "################################################################################\n",
    "########## redo normalization, integration for visualization ###################\n",
    "################################################################################\n",
    "## Normalization and clutering\n",
    "## RNA harmony integration\n",
    "clean<-RunHarmony(clean, group.by.vars=\"individual_ID\",reduction=\"pca\",assay.use=\"SCT\", \n",
    "                       reduction.save=\"harmony.rna\",theta = 1)\n",
    "clean<-RunUMAP(clean,reduction=\"harmony.rna\",dims=1:30,reduction.name=\"harmony.rna.umap\")\n",
    "# finding RNA clusters\n",
    "clean<-FindNeighbors(clean,dims=1:30, reduction=\"harmony.rna\")\n",
    "clean<-FindClusters(clean, graph.name=\"SCT_nn\", resolution=2.8)\n",
    "clean$RNA_harmony_cluster <- integrated$seurat_clusters"
   ]
  },
  {
   "cell_type": "code",
   "execution_count": null,
   "metadata": {
    "vscode": {
     "languageId": "r"
    }
   },
   "outputs": [],
   "source": [
    "## remove the cells with different label with majority of the clusters for cleaning \n",
    "#filter out cells that are not assigned the same cell type as their neighbors. Additional doublet precaution \n",
    "Idents(clean)<-clean$RNA_harmony_cluster\n",
    "tab<-table(clean$RNA_harmony_cluster, clean$major.cell.type.prediction.mathy)\n",
    "tmp<-colnames(tab)[apply(tab,1,which.max)]\n",
    "names(tmp)<-levels(clean)\n",
    "clean<-RenameIdents(clean,tmp)\n",
    "clean$cluster_celltype<-Idents(clean)\n",
    "clean$agree<-ifelse(clean$cluster_celltype==clean$major.cell.type.prediction.mathy, 1,0)\n",
    "\n",
    "table(clean$agree)"
   ]
  },
  {
   "cell_type": "code",
   "execution_count": null,
   "metadata": {
    "vscode": {
     "languageId": "r"
    }
   },
   "outputs": [],
   "source": [
    "clean <- subset(clean, subset=agree==1) \n",
    "clean"
   ]
  },
  {
   "cell_type": "code",
   "execution_count": null,
   "metadata": {
    "vscode": {
     "languageId": "r"
    }
   },
   "outputs": [],
   "source": [
    "################################################################################\n",
    "############### redo normalization, integration for visualization ##############\n",
    "#################### Harmony integration on each omic ##########################\n",
    "################################################################################\n",
    "library(harmony)\n",
    "\n",
    "## Normalization and clutering\n",
    "DefaultAssay(clean) <- \"PC\"\n",
    "\n",
    "clean <- SCTransform(clean,assay=\"PC\",new.assay.name=\"SCT\",vars.to.regress = c(\"percent.mt\"),verbose=T) %>% \n",
    "        RunPCA(ndims=30) %>% \n",
    "        FindNeighbors(dims = 1:30) %>% \n",
    "        RunUMAP(dims = 1:30, reduction.name=\"umap.rna\",reduction.key = \"rnaUMAP_\")\n",
    "\n",
    "## RNA harmony integration\n",
    "clean<-RunHarmony(clean, group.by.vars=\"individual_ID\",reduction=\"pca\",assay.use=\"SCT\", \n",
    "                       reduction.save=\"harmony.rna\",theta = 1)\n",
    "clean<-RunUMAP(clean,reduction=\"harmony.rna\",dims=1:30,reduction.name=\"harmony.rna.umap\")\n",
    "\n",
    "# finding RNA clusters\n",
    "clean<-FindNeighbors(clean,dims=1:30, reduction=\"harmony.rna\")\n",
    "clean<-FindClusters(clean, graph.name=\"SCT_nn\", resolution=1)\n",
    "clean$RNA_harmony_cluster <- integrated$seurat_clusters\n",
    "\n",
    "## ATAC part (no call peaks yet)\n",
    "DefaultAssay(clean)<-\"ATAC\"\n",
    "\n",
    "# Normalization and UMAP on ATAC seq \n",
    "clean <- RunTFIDF(clean) %>% \n",
    "                FindTopFeatures(min.cutoff='q0') %>% \n",
    "                RunSVD() %>% \n",
    "                RunUMAP(reduction='lsi',dims=2:50,reduction.name=\"umap.atac\",reduction.key=\"atacUMAP_\") \n",
    "\n",
    "## ATAC harmony integration\n",
    "clean <- RunHarmony(clean, group.by.vars=\"individual_ID\", reduction=\"lsi\",\n",
    "                       assay.use=\"ATAC\",reduction.save=\"harmony.atac\", project.dim=F)\n",
    "clean <- RunUMAP(clean,reduction=\"harmony.atac\",dims=1:30,reduction.name=\"harmony.atac.umap\")\n",
    "\n",
    "## integration and jointly clustering\n",
    "clean <- FindMultiModalNeighbors(clean, reduction.list=list(\"harmony.rna\",\"harmony.atac\"), dims.list=list(1:30,2:50))\n",
    "clean <- RunUMAP(clean,nn.name=\"weighted.nn\", reduction.name=\"wnn.umap\",reduction.key=\"wnnUMAP_\")\n",
    "clean <- FindClusters(clean, graph.name = \"wsnn\", algorithm = 3, verbose = T, resolution = 1)"
   ]
  },
  {
   "cell_type": "code",
   "execution_count": null,
   "metadata": {
    "vscode": {
     "languageId": "r"
    }
   },
   "outputs": [],
   "source": [
    "umap_theme <- theme_dr()+theme(panel.grid.major = element_blank(), \n",
    "                                            panel.grid.minor = element_blank(),\n",
    "                                            panel.background = element_blank(), \n",
    "                                            axis.line = element_line(colour = \"black\"))\n",
    "p1 <- DimPlot(clean, label = T, repel = TRUE, \n",
    "              reduction = \"harmony.rna.umap\",group.by = \"seurat_clusters\")+umap_theme+ggtitle(\"seurat_clusters\")\n",
    "p2 <- DimPlot(clean, label = T, repel = TRUE, \n",
    "              reduction = \"harmony.rna.umap\",group.by = \"major.cell.type.prediction.seaad\")+umap_theme+ggtitle(\"CT_by_SEA-AD\")\n",
    "p3 <- DimPlot(clean, label = T, repel = TRUE, \n",
    "              reduction = \"harmony.rna.umap\",group.by = \"major.cell.type.prediction.mathy\")+umap_theme+ggtitle(\"CT_by_Mathy\")\n",
    "\n",
    "ggsave(filename = \"./Figures/UMAP/3_clean_object_CT.pdf\",\n",
    "    patchwork::wrap_plots(p1,p2,p3, ncol = 3),\n",
    "      scale = 1, width = 17, height = 5)"
   ]
  },
  {
   "cell_type": "code",
   "execution_count": null,
   "metadata": {
    "vscode": {
     "languageId": "r"
    }
   },
   "outputs": [],
   "source": [
    "## saving\n",
    "saveRDS(clean,file = \"03.clean_object.10.31.rds\")"
   ]
  },
  {
   "cell_type": "code",
   "execution_count": null,
   "metadata": {
    "vscode": {
     "languageId": "r"
    }
   },
   "outputs": [],
   "source": [
    "library(raster)\n",
    "library(GenomicRanges)"
   ]
  },
  {
   "cell_type": "code",
   "execution_count": null,
   "metadata": {
    "vscode": {
     "languageId": "r"
    }
   },
   "outputs": [],
   "source": [
    "library(EnsDb.Hsapiens.v86)\n",
    "#redo peak calling using MACS2 for the combined Seurat object, with the group.by parameter set to the \n",
    "#orig.ident (sample ID) to identify peaks for each sample separately\n",
    "combined_peaks_macs2 <- CallPeaks(clean, assay = \"ATAC\", group.by = \"cluster_celltype\",\n",
    "        outdir = \"./Analysis/tempout/\",\n",
    "        fragment.tempdir = \"./Analysis/tempout/\",\n",
    "        combine.peaks = TRUE)"
   ]
  },
  {
   "cell_type": "code",
   "execution_count": null,
   "metadata": {
    "vscode": {
     "languageId": "r"
    }
   },
   "outputs": [],
   "source": [
    "df <- as.data.frame(combined_peaks_macs2)\n",
    "write.table(df[,1:3], file=\"./Results/CTpeak_set_3.28.bed\", quote=F, sep=\"\\t\", row.names=F, col.names=F)\n",
    "write.csv(df,\"./Analysis/Results/CTpeaks_annotated.csv\")"
   ]
  },
  {
   "cell_type": "code",
   "execution_count": null,
   "metadata": {
    "vscode": {
     "languageId": "r"
    }
   },
   "outputs": [],
   "source": [
    "# quantify counts in each peak\n",
    "macs2_counts_combined <- FeatureMatrix(fragments = clean@assays$ATAC@fragments, \n",
    "                                       features = combined_peaks_macs2, cells = colnames(clean))\n",
    "\n",
    "clean[[\"CTpeaks\"]] <- CreateChromatinAssay(counts = macs2_counts_combined, \n",
    "                                           fragments = clean@assays$ATAC@fragments, \n",
    "                                           annotation = clean@assays$ATAC@annotation, \n",
    "                                           genome = \"hg38\")"
   ]
  },
  {
   "cell_type": "code",
   "execution_count": null,
   "metadata": {
    "vscode": {
     "languageId": "r"
    }
   },
   "outputs": [],
   "source": [
    "library(EnsDb.Hsapiens.v86)\n",
    "# try call peaks again and examine the character\n",
    "DefaultAssay(clean) <- \"ATAC\"\n",
    "\n",
    "# call peaks using MACS2\n",
    "peaks <- CallPeaks(clean,\n",
    "        fragment.tempdir = \"./Analysis/tempout/\",\n",
    "        combine.peaks = TRUE)\n",
    "\n",
    "# call peaks using MACS2\n",
    "peaks <- CallPeaks(clean)\n",
    "\n",
    "# remove peaks on nonstandard chromosomes and in genomic blacklist regions\n",
    "peaks <- keepStandardChromosomes(peaks, pruning.mode = \"coarse\")\n",
    "peaks <- subsetByOverlaps(x = peaks, ranges = blacklist_hg38_unified, invert = TRUE)\n",
    "\n",
    "df <- as.data.frame(peaks)\n",
    "#bed file for reanalyze [sort -k1,1 -k2,2n CT_peak_set.bed]\n",
    "write.table(df[,1:3], file=\"./Results/macs2_peaks_set.bed\", quote=F, sep=\"\\t\", row.names=F, col.names=F)\n",
    "write.csv(df,\"./Results/macs2_peaks_annotated.csv\")\n",
    "\n",
    "# quantify counts in each peak\n",
    "macs2_counts_combined <- FeatureMatrix(fragments = clean@assays$ATAC@fragments, \n",
    "                                       features = peaks, cells = colnames(clean))\n",
    "\n",
    "clean[[\"peaks\"]] <- CreateChromatinAssay(counts = macs2_counts_combined, \n",
    "                                           fragments = clean@assays$ATAC@fragments, \n",
    "                                           annotation = clean@assays$ATAC@annotation, \n",
    "                                           genome = \"hg38\")"
   ]
  },
  {
   "cell_type": "code",
   "execution_count": null,
   "metadata": {
    "vscode": {
     "languageId": "r"
    }
   },
   "outputs": [],
   "source": [
    "##-- reload and final preprocess before downstream analysis --##\n",
    "#save(clean,file = \"03.clean_object_rmOutlier.1.10.RData\")\n",
    "#load(\"03.clean_object_rmOutlier.RData\")\n",
    "ls()\n",
    "clean <- readRDS(\"./03.clean_object.10.31.rds\")\n",
    "clean"
   ]
  },
  {
   "cell_type": "code",
   "execution_count": null,
   "metadata": {
    "vscode": {
     "languageId": "r"
    }
   },
   "outputs": [],
   "source": [
    "## redo normalization, integration for visualization\n",
    "################################################################################\n",
    "#################### Harmony integration on each omic ##########################\n",
    "################################################################################\n",
    "library(harmony)\n",
    "\n",
    "## Normalization and clutering\n",
    "DefaultAssay(clean) <- \"PC\"\n",
    "\n",
    "clean <- SCTransform(clean,assay=\"PC\",new.assay.name=\"SCT\",vars.to.regress = c(\"percent.mt\"),verbose=T) %>% \n",
    "        RunPCA(ndims=30) %>% \n",
    "        FindNeighbors(dims = 1:30) %>% \n",
    "        RunUMAP(dims = 1:30, reduction.name=\"umap.rna\",reduction.key = \"rnaUMAP_\")\n",
    "\n",
    "## RNA harmony integration\n",
    "clean<-RunHarmony(clean, group.by.vars=\"individual_ID\",reduction=\"pca\",assay.use=\"SCT\", \n",
    "                       reduction.save=\"harmony.rna\",theta = 1)\n",
    "clean<-RunUMAP(clean,reduction=\"harmony.rna\",dims=1:30,reduction.name=\"harmony.rna.umap\")\n",
    "\n",
    "# finding RNA clusters\n",
    "clean<-FindNeighbors(clean,dims=1:30, reduction=\"harmony.rna\")\n",
    "clean<-FindClusters(clean, graph.name=\"SCT_nn\", resolution=1)\n",
    "clean$RNA_harmony_cluster <- clean$seurat_clusters\n",
    "\n",
    "## CTpeaks part (no call peaks yet)\n",
    "DefaultAssay(clean)<-\"CTpeaks\"\n",
    "\n",
    "# Normalization and UMAP on ATAC seq \n",
    "clean <- RunTFIDF(clean) %>% \n",
    "                FindTopFeatures(min.cutoff='q0') %>% \n",
    "                RunSVD() %>% \n",
    "                RunUMAP(reduction='lsi',dims=2:50,reduction.name=\"umap.CTpeaks\",reduction.key=\"CTpeaksUMAP_\") \n",
    "\n",
    "## ATAC harmony integration\n",
    "clean <- RunHarmony(clean, group.by.vars=\"individual_ID\", reduction=\"lsi\",\n",
    "                       assay.use=\"CTpeaks\",reduction.save=\"harmony.CTpeaks\", project.dim=F)\n",
    "clean <- RunUMAP(clean,reduction=\"harmony.CTpeaks\",dims=1:30,reduction.name=\"harmony.CTpeaks.umap\")\n",
    "\n",
    "\n",
    "## peaks part (no call peaks yet)\n",
    "DefaultAssay(clean)<-\"peaks\"\n",
    "\n",
    "# Normalization and UMAP on ATAC seq \n",
    "clean <- RunTFIDF(clean) %>% \n",
    "                FindTopFeatures(min.cutoff='q0') %>% \n",
    "                RunSVD() %>% \n",
    "                RunUMAP(reduction='lsi',dims=2:50,reduction.name=\"umap.peaks\",reduction.key=\"peaksUMAP_\") \n",
    "\n",
    "## ATAC harmony integration\n",
    "clean <- RunHarmony(clean, group.by.vars=\"individual_ID\", reduction=\"lsi\",\n",
    "                       assay.use=\"peaks\",reduction.save=\"harmony.peaks\", project.dim=F)\n",
    "clean <- RunUMAP(clean,reduction=\"harmony.peaks\",dims=1:30,reduction.name=\"harmony.peaks.umap\")"
   ]
  },
  {
   "cell_type": "code",
   "execution_count": null,
   "metadata": {
    "vscode": {
     "languageId": "r"
    }
   },
   "outputs": [],
   "source": [
    "## integration and jointly clustering\n",
    "#clean <- FindMultiModalNeighbors(clean, reduction.list=list(\"harmony.rna\",\"harmony.peaks\"), dims.list=list(1:30,2:50))\n",
    "#clean <- RunUMAP(clean,nn.name=\"weighted.nn\", reduction.name=\"wnn.umap\",reduction.key=\"wnnUMAP_\")\n",
    "#clean <- FindClusters(clean, graph.name = \"wsnn\", algorithm = 3, verbose = T, resolution = 1)\n",
    "\n",
    "## integration and jointly clustering\n",
    "clean <- FindMultiModalNeighbors(clean, reduction.list=list(\"harmony.rna\",\"harmony.CTpeaks\"), dims.list=list(1:30,2:50))\n",
    "clean <- RunUMAP(clean,nn.name=\"weighted.nn\", reduction.name=\"wnn.umap\",reduction.key=\"wnnUMAP_\")\n",
    "clean <- FindClusters(clean, graph.name = \"wsnn\", algorithm = 3, verbose = T, resolution = 1)"
   ]
  },
  {
   "cell_type": "code",
   "execution_count": null,
   "metadata": {
    "vscode": {
     "languageId": "r"
    }
   },
   "outputs": [],
   "source": [
    "DimPlot(clean,reduction = \"wnn.umap\",group.by = \"cluster_celltype\",label = T)\n",
    "meta <- clean@meta.data\n",
    "table(meta$wsnn_res.1)"
   ]
  },
  {
   "cell_type": "code",
   "execution_count": null,
   "metadata": {
    "vscode": {
     "languageId": "r"
    }
   },
   "outputs": [],
   "source": [
    "##remove the cells with different label with majority of the clusters for cleaning again\n",
    "#filter out cells that are not assigned the same cell type as their neighbors. Additional doublet precaution \n",
    "Idents(clean)<-clean$wsnn_res.1\n",
    "tab<-table(clean$wsnn_res.1, clean$major.cell.type.prediction.mathy)\n",
    "tmp<-colnames(tab)[apply(tab,1,which.max)]\n",
    "names(tmp)<-levels(clean)\n",
    "clean<-RenameIdents(clean,tmp)\n",
    "clean$cluster_celltype<-Idents(clean)\n",
    "clean$agree<-ifelse(clean$cluster_celltype==clean$major.cell.type.prediction.mathy, 1,0)\n",
    "\n",
    "table(clean$agree)"
   ]
  },
  {
   "cell_type": "code",
   "execution_count": null,
   "metadata": {
    "vscode": {
     "languageId": "r"
    }
   },
   "outputs": [],
   "source": [
    "## subsetting based on the criteria\n",
    "clean <- subset(clean, subset=agree==1) \n",
    "clean"
   ]
  },
  {
   "cell_type": "code",
   "execution_count": null,
   "metadata": {
    "vscode": {
     "languageId": "r"
    }
   },
   "outputs": [],
   "source": [
    "## redo normalization, integration for visualization\n",
    "################################################################################\n",
    "#################### Harmony integration on each omic ##########################\n",
    "################################################################################\n",
    "library(harmony)\n",
    "\n",
    "## Normalization and clutering\n",
    "DefaultAssay(clean) <- \"PC\"\n",
    "\n",
    "clean <- SCTransform(clean,assay=\"PC\",new.assay.name=\"SCT\",vars.to.regress = c(\"percent.mt\"),verbose=T) %>% \n",
    "        RunPCA(ndims=30) %>% \n",
    "        FindNeighbors(dims = 1:30) %>% \n",
    "        RunUMAP(dims = 1:30, reduction.name=\"umap.rna\",reduction.key = \"rnaUMAP_\")\n",
    "\n",
    "## RNA harmony integration\n",
    "clean<-RunHarmony(clean, group.by.vars=\"individual_ID\",reduction=\"pca\",assay.use=\"SCT\", \n",
    "                       reduction.save=\"harmony.rna\",theta = 1)\n",
    "clean<-RunUMAP(clean,reduction=\"harmony.rna\",dims=1:30,reduction.name=\"harmony.rna.umap\")\n",
    "\n",
    "# finding RNA clusters\n",
    "clean<-FindNeighbors(clean,dims=1:30, reduction=\"harmony.rna\")\n",
    "clean<-FindClusters(clean, graph.name=\"SCT_nn\", resolution=1)\n",
    "clean$RNA_harmony_cluster <- clean$seurat_clusters\n",
    "\n",
    "## CTpeaks part (no call peaks yet)\n",
    "DefaultAssay(clean)<-\"CTpeaks\"\n",
    "\n",
    "# Normalization and UMAP on ATAC seq \n",
    "clean <- RunTFIDF(clean) %>% \n",
    "                FindTopFeatures(min.cutoff='q0') %>% \n",
    "                RunSVD() %>% \n",
    "                RunUMAP(reduction='lsi',dims=2:50,reduction.name=\"umap.CTpeaks\",reduction.key=\"CTpeaksUMAP_\") \n",
    "\n",
    "## ATAC harmony integration\n",
    "clean <- RunHarmony(clean, group.by.vars=\"individual_ID\", reduction=\"lsi\",\n",
    "                       assay.use=\"CTpeaks\",reduction.save=\"harmony.CTpeaks\", project.dim=F)\n",
    "clean <- RunUMAP(clean,reduction=\"harmony.CTpeaks\",dims=1:30,reduction.name=\"harmony.CTpeaks.umap\")\n",
    "\n",
    "\n",
    "## peaks part (no call peaks yet)\n",
    "DefaultAssay(clean)<-\"peaks\"\n",
    "\n",
    "# Normalization and UMAP on ATAC seq \n",
    "clean <- RunTFIDF(clean) %>% \n",
    "                FindTopFeatures(min.cutoff='q0') %>% \n",
    "                RunSVD() %>% \n",
    "                RunUMAP(reduction='lsi',dims=2:50,reduction.name=\"umap.peaks\",reduction.key=\"peaksUMAP_\") \n",
    "\n",
    "## ATAC harmony integration\n",
    "clean <- RunHarmony(clean, group.by.vars=\"individual_ID\", reduction=\"lsi\",\n",
    "                       assay.use=\"peaks\",reduction.save=\"harmony.peaks\", project.dim=F)\n",
    "clean <- RunUMAP(clean,reduction=\"harmony.peaks\",dims=1:30,reduction.name=\"harmony.peaks.umap\")"
   ]
  },
  {
   "cell_type": "code",
   "execution_count": null,
   "metadata": {
    "vscode": {
     "languageId": "r"
    }
   },
   "outputs": [],
   "source": [
    "## integration and jointly clustering\n",
    "#clean <- FindMultiModalNeighbors(clean, reduction.list=list(\"harmony.rna\",\"harmony.peaks\"), dims.list=list(1:30,2:50))\n",
    "#clean <- RunUMAP(clean,nn.name=\"weighted.nn\", reduction.name=\"wnn.umap\",reduction.key=\"wnnUMAP_\")\n",
    "#clean <- FindClusters(clean, graph.name = \"wsnn\", algorithm = 3, verbose = T, resolution = 1)\n",
    "\n",
    "## integration and jointly clustering\n",
    "clean <- FindMultiModalNeighbors(clean, reduction.list=list(\"harmony.rna\",\"harmony.CTpeaks\"), dims.list=list(1:30,2:50))\n",
    "clean <- RunUMAP(clean,nn.name=\"weighted.nn\", reduction.name=\"wnn.umap\",reduction.key=\"wnnUMAP_\")\n",
    "clean <- FindClusters(clean, graph.name = \"wsnn\", algorithm = 3, verbose = T, resolution = 1)"
   ]
  },
  {
   "cell_type": "code",
   "execution_count": null,
   "metadata": {
    "vscode": {
     "languageId": "r"
    }
   },
   "outputs": [],
   "source": [
    "clean <- readRDS(\"03.clean_object_10.31.rds\")"
   ]
  },
  {
   "cell_type": "code",
   "execution_count": null,
   "metadata": {
    "vscode": {
     "languageId": "r"
    }
   },
   "outputs": [],
   "source": [
    "table(clean$regions)\n",
    "table(clean$cluster_celltype)\n",
    "table(clean$regions,clean$cluster_celltype)"
   ]
  },
  {
   "cell_type": "code",
   "execution_count": null,
   "metadata": {
    "vscode": {
     "languageId": "r"
    }
   },
   "outputs": [],
   "source": [
    "umap_theme <- theme_dr()+theme(panel.grid.major = element_blank(), \n",
    "                                            panel.grid.minor = element_blank(),\n",
    "                                            panel.background = element_blank(), \n",
    "                                            axis.line = element_line(colour = \"black\"))\n",
    "p1 <- DimPlot(clean, label = T, repel = TRUE, \n",
    "              reduction = \"wnn.umap\",group.by = \"cluster_celltype\")+umap_theme+ggtitle(\"wnn.umap\")\n",
    "p2 <- DimPlot(clean, label = T, repel = TRUE, \n",
    "              reduction = \"harmony.rna.umap\",group.by = \"cluster_celltype\")+umap_theme+ggtitle(\"harmony.rna\")\n",
    "p3 <- DimPlot(clean, label = T, repel = TRUE, \n",
    "              reduction = \"harmony.atac.umap\",group.by = \"cluster_celltype\")+umap_theme+ggtitle(\"harmony.atac\")\n",
    "\n",
    "#ggsave(filename = \"./Figures/UMAP/4_clean_object_CT_ALL.pdf\",\n",
    "#    patchwork::wrap_plots(p1,p2,p3, ncol = 3),\n",
    "#      scale = 1, width = 17, height = 5)\n",
    "p1\n",
    "p2\n",
    "p3"
   ]
  },
  {
   "cell_type": "code",
   "execution_count": null,
   "metadata": {
    "vscode": {
     "languageId": "r"
    }
   },
   "outputs": [],
   "source": [
    "#######################################################\n",
    "## region umap ########################################\n",
    "#######################################################\n",
    "col1=c('#F06719','#33A65C','#23767C','#E03426','#1BA3C6',\"#A26DC2\",\"#FCB905\",\"#EB73B3\")\n",
    "names(col1)=c('Astrocyte','Excitatory','Inhibitory','Microglia','Oligodendrocyte',\"OPC\",\"Endothelial\",\"VLMC/Per\")\n",
    "cols=c(unname(col1),'grey90')\n",
    "names(cols)=c(names(col1),'other')\n",
    "cols"
   ]
  },
  {
   "cell_type": "code",
   "execution_count": null,
   "metadata": {
    "vscode": {
     "languageId": "r"
    }
   },
   "outputs": [],
   "source": [
    "umap_theme <- theme_dr()+theme(panel.grid.major = element_blank(), \n",
    "                                            panel.grid.minor = element_blank(),\n",
    "                                            panel.background = element_blank(), \n",
    "                                            axis.line = element_line(colour = \"black\"))\n",
    "\n",
    "pdf(file='./Figures/UMAP/Regions/BrainRegion_UMAP_coloredbyCelltype.pdf',width = 5,height = 5)\n",
    "meta <- clean@meta.data\n",
    "regions <- unique(clean$regions)\n",
    "for (r in regions){\n",
    "    print(r)\n",
    "    tmp1=meta[meta$regions==r,]\n",
    "    tmp1$mycol=tmp1$major.cell.type.prediction.mathy\n",
    "    tmp2=meta[meta$regions!=r,]\n",
    "    tmp2$mycol=rep('other',nrow(tmp2))\n",
    "    tmp=rbind(tmp1,tmp2)\n",
    "    tmp=tmp[rownames(meta),]\n",
    "    clean.tmp <- clean\n",
    "    clean.tmp@meta.data=tmp\n",
    "    myorder=names(cols)\n",
    "print(DimPlot(clean.tmp,reduction = 'wnn.umap',label = F,group.by = 'mycol',order=myorder,cols=cols,pt.size = 0.2)+umap_theme+NoLegend()+ggtitle(paste(r)))\n",
    "}\n",
    "\n",
    "print(DimPlot(clean,reduction = 'wnn.umap',label = F,group.by = 'cluster_celltype',cols=cols,pt.size = 0.2)+umap_theme+NoLegend()+ggtitle(\"ALL\"))\n",
    "#print(DimPlot(clean,reduction = 'wnn.umap',label = F,group.by = 'cluster_celltype',cols=cols,pt.size = 0.2)+umap_theme+ggtitle(\"ALL\"))\n",
    "print(DimPlot(clean,reduction = 'harmony.rna.umap',label = F,group.by = 'cluster_celltype',cols=cols,pt.size = 0.2)+umap_theme+NoLegend()+ggtitle(\"RNA\"))\n",
    "print(DimPlot(clean,reduction = 'harmony.atac.umap',label = F,group.by = 'cluster_celltype',cols=cols,pt.size = 0.2)+umap_theme+NoLegend()+ggtitle(\"ATAC\"))\n",
    "dev.off()"
   ]
  },
  {
   "cell_type": "code",
   "execution_count": null,
   "metadata": {
    "vscode": {
     "languageId": "r"
    }
   },
   "outputs": [],
   "source": [
    "clean$cluster_celltype <- factor(x = clean$cluster_celltype,levels = sort(levels(clean$cluster_celltype)))\n",
    "#clean$cluster_celltype <- factor(x = clean$cluster_celltype,levels = names(sort(table(clean$cluster_celltype),decreasing = T)))\n",
    "\n",
    "Idents(clean) <- clean$cluster_celltype"
   ]
  },
  {
   "cell_type": "code",
   "execution_count": null,
   "metadata": {
    "vscode": {
     "languageId": "r"
    }
   },
   "outputs": [],
   "source": [
    "saveRDS(clean, file = \"03.clean_object.10.31.rds\")"
   ]
  },
  {
   "cell_type": "code",
   "execution_count": null,
   "metadata": {
    "vscode": {
     "languageId": "r"
    }
   },
   "outputs": [],
   "source": [
    "### focus on PFC first\n",
    "PFC_object <- subset(clean, subset = regions == \"PFC\")\n",
    "DefaultAssay(PFC_object) <- \"PC\"\n",
    "################################################################################\n",
    "############################## log normalization ###############################\n",
    "################################################################################\n",
    "PFC_object <- NormalizeData(PFC_object, normalization.method = \"LogNormalize\", scale.factor = 10000)\n",
    "all.genes <- rownames(PFC_object)\n",
    "PFC_object <- ScaleData(PFC_object, features = all.genes)\n",
    "\n",
    "## find variable features \n",
    "PFC_object <- FindVariableFeatures(PFC_object, selection.method = \"vst\", nfeatures = 2000)\n",
    "\n",
    "PFC_object\n",
    "\n",
    "saveRDS(PFC_object, file = \"cellbender_PFC_object_10.31.rds\")"
   ]
  },
  {
   "cell_type": "code",
   "execution_count": null,
   "metadata": {
    "vscode": {
     "languageId": "r"
    }
   },
   "outputs": [],
   "source": [
    "### focus on PFC first\n",
    "HIP_object <- subset(clean, subset = regions == \"HIP\")\n",
    "DefaultAssay(HIP_object) <- \"PC\"\n",
    "################################################################################\n",
    "############################## log normalization ###############################\n",
    "################################################################################\n",
    "HIP_object <- NormalizeData(HIP_object, normalization.method = \"LogNormalize\", scale.factor = 10000)\n",
    "all.genes <- rownames(HIP_object)\n",
    "HIP_object <- ScaleData(HIP_object, features = all.genes)\n",
    "\n",
    "## find variable features \n",
    "HIP_object <- FindVariableFeatures(HIP_object, selection.method = \"vst\", nfeatures = 2000)\n",
    "\n",
    "HIP_object\n",
    "\n",
    "saveRDS(HIP_object, file = \"cellbender_HIP_object_10.31.rds\")"
   ]
  },
  {
   "cell_type": "code",
   "execution_count": null,
   "metadata": {
    "vscode": {
     "languageId": "r"
    }
   },
   "outputs": [],
   "source": [
    "### focus on PFC first\n",
    "EC_object <- subset(clean, subset = regions == \"EC\")\n",
    "DefaultAssay(EC_object) <- \"PC\"\n",
    "################################################################################\n",
    "############################## log normalization ###############################\n",
    "################################################################################\n",
    "EC_object <- NormalizeData(EC_object, normalization.method = \"LogNormalize\", scale.factor = 10000)\n",
    "all.genes <- rownames(EC_object)\n",
    "EC_object <- ScaleData(EC_object, features = all.genes)\n",
    "\n",
    "## find variable features \n",
    "EC_object <- FindVariableFeatures(EC_object, selection.method = \"vst\", nfeatures = 2000)\n",
    "\n",
    "EC_object\n",
    "\n",
    "saveRDS(EC_object, file = \"cellbender_EC_object_10.31.rds\")"
   ]
  },
  {
   "cell_type": "code",
   "execution_count": null,
   "metadata": {
    "vscode": {
     "languageId": "r"
    }
   },
   "outputs": [],
   "source": [
    "####################################################################\n",
    "##-- preparing for cell type proportional analysis using scCODA --##\n",
    "####################################################################\n",
    "\n",
    "##conda install numpy scipy joblib scikit-learn --force-reinstall\n",
    "## since using seurat 5, need to change some assay to seurat 3/4 for some functions\n",
    "# backup\n",
    "outobj <- clean\n",
    "outobj[[\"RNA\"]] <- as(outobj[[\"RNA\"]], \"Assay\")\n",
    "DefaultAssay(outobj) <- \"RNA\"\n",
    "outobj@assays$RNA$data <- NULL\n",
    "outobj\n",
    "## output as a h5ad format, need to install the following things\n",
    "sceasy::convertFormat(outobj, from=\"seurat\", to=\"anndata\",\n",
    "                       outFile='clean_object_for_proportional_analysis.h5ad')"
   ]
  },
  {
   "cell_type": "code",
   "execution_count": null,
   "metadata": {
    "vscode": {
     "languageId": "r"
    }
   },
   "outputs": [],
   "source": [
    "saveRDS(clean, file = \"./Analysis/03.clean_object.rds\", ascii = FALSE, version = NULL,\n",
    "        compress = TRUE, refhook = NULL)"
   ]
  },
  {
   "cell_type": "code",
   "execution_count": null,
   "metadata": {
    "vscode": {
     "languageId": "r"
    }
   },
   "outputs": [],
   "source": [
    "donor_map <- c(\n",
    "  \"UT04\" = \"UT04\",\n",
    "  \"UT09\" = \"UT09\",\n",
    "  \"UT2105\" = \"UT2105\",\n",
    "  \"NIH01\" = \"BEB18077\",\n",
    "  \"NIH02\" = \"BEB18077\",\n",
    "  \"NIH03\" = \"BEB18077\",\n",
    "  \"NIH04\" = \"BEB18110\",\n",
    "  \"NIH05\" = \"BEB18110\",\n",
    "  \"NIH06\" = \"BEB18110\",\n",
    "  \"NIH10\" = \"BEB19074\",\n",
    "  \"NIH11\" = \"BEB19074\",\n",
    "  \"NIH12\" = \"BEB19074\",\n",
    "  \"NIH13\" = \"BEB19080\",\n",
    "  \"NIH14\" = \"BEB19080\",\n",
    "  \"NIH15\" = \"BEB19080\",\n",
    "  \"NIH16\" = \"BEB20005\",\n",
    "  \"NIH17\" = \"BEB20005\",\n",
    "  \"NIH18\" = \"BEB20005\",\n",
    "  \"NIH28\" = \"HCTZD\",\n",
    "  \"NIH29\" = \"HCTZD\",\n",
    "  \"NIH30\" = \"HCTZD\"\n",
    ")\n",
    "meta = clean@meta.data\n",
    "# Apply the mapping to create a new metadata column 'donor_id'\n",
    "meta$donor_id <- donor_map[meta$individual_ID]\n",
    "table(meta$donor_id)\n",
    "meta$new_label = paste(meta$donor_id, meta$individual_ID, sep = \"_\")\n",
    "table(meta$new_label)"
   ]
  },
  {
   "cell_type": "code",
   "execution_count": null,
   "metadata": {
    "vscode": {
     "languageId": "r"
    }
   },
   "outputs": [],
   "source": [
    "clean@meta.data = meta"
   ]
  },
  {
   "cell_type": "code",
   "execution_count": null,
   "metadata": {
    "vscode": {
     "languageId": "r"
    }
   },
   "outputs": [],
   "source": [
    "colnames(clean@meta.data)\n",
    "# meta <- clean@meta.data\n",
    "\n",
    "### snRNA-seq QC plots\n",
    "# p1<- ggplot(meta, aes(x=cluster_celltype, y=nFeature_RNA, fill=diagnosis)) + \n",
    "#     geom_boxplot()+theme_classic()+ggtitle(\"PFC_major_celltype_nFeatures_by_diagnosis\")\n",
    "# p2<- ggplot(meta, aes(x=cluster_celltype, y=nFeature_RNA, fill=individual_ID)) + \n",
    "#     geom_boxplot()+theme_classic()+ggtitle(\"PFC_major_celltype_nFeatures_by_sample\")\n",
    "\n",
    "    ### snRNA-seq QC plots\n",
    "#region_colors <- c(\"PFC\" = \"#c25757ff\", \"EC\" = \"#825ca6ff\", \"HIP\" = \"#3f78c199\")\n",
    "p1 <- ggplot(meta, aes(x=new_label, y=log(nCount_RNA,base =10), fill=regions)) + \n",
    "    geom_boxplot()+theme_classic()+ggtitle(\"nCount_RNA_by_sample\") +\n",
    "    scale_fill_manual(values=c(\"#825ca6ff\", \"#3f78c199\",\"#c25757ff\")) +\n",
    "    theme(legend.position = \"none\",axis.text.x = element_text(angle = 90, vjust = 0.5, hjust=1))\n",
    "\n",
    "p2 <- ggplot(meta, aes(x=new_label, y=nFeature_RNA,base =10, fill=regions)) + \n",
    "    geom_boxplot()+theme_classic()+ggtitle(\"nFeature_RNA_by_sample\") +\n",
    "    scale_fill_manual(values=c(\"#825ca6ff\", \"#3f78c199\",\"#c25757ff\")) +\n",
    "    theme(legend.position = \"none\",axis.text.x = element_text(angle = 90, vjust = 0.5, hjust=1))\n",
    "\n",
    "p3 <- ggplot(meta, aes(x=new_label, y=log(nCount_ATAC,base =10), fill=regions)) + \n",
    "    geom_boxplot()+theme_classic()+ggtitle(\"nCount_ATAC_by_sample\") +\n",
    "    scale_fill_manual(values=c(\"#825ca6ff\", \"#3f78c199\",\"#c25757ff\")) +\n",
    "    theme(legend.position = \"none\",axis.text.x = element_text(angle = 90, vjust = 0.5, hjust=1))\n",
    "\n",
    "p4 <- ggplot(meta, aes(x=new_label, y=TSS.enrichment, fill=regions)) + \n",
    "    geom_boxplot()+theme_classic()+ggtitle(\"TSS_enrichment_by_sample\") +\n",
    "    scale_fill_manual(values=c(\"#825ca6ff\", \"#3f78c199\",\"#c25757ff\")) +\n",
    "    theme(legend.position = \"none\",axis.text.x = element_text(angle = 90, vjust = 0.5, hjust=1))\n",
    "\n",
    "    ## fragments plot\n",
    "p5 <- FragmentHistogram(object = clean, group.by = 'new_label')"
   ]
  },
  {
   "cell_type": "code",
   "execution_count": null,
   "metadata": {
    "vscode": {
     "languageId": "r"
    }
   },
   "outputs": [],
   "source": [
    "# Ensure these metadata columns exist: sample_id and cell_type\n",
    "# Adjust column names if needed\n",
    "meta <- clean@meta.data %>%\n",
    "  dplyr::select(new_label, cluster_celltype, nFeature_RNA)\n",
    "\n",
    "# Compute average number of genes per cell for each sample × cell type\n",
    "avg_gene_counts <- meta %>%\n",
    "  group_by(new_label, cluster_celltype) %>%\n",
    "  summarise(avg_nFeature = mean(nFeature_RNA), .groups = \"drop\")\n",
    "\n"
   ]
  },
  {
   "cell_type": "code",
   "execution_count": null,
   "metadata": {
    "vscode": {
     "languageId": "r"
    }
   },
   "outputs": [],
   "source": [
    "# Convert to wide matrix for heatmap (rows = cell types, columns = samples)\n",
    "heatmap_matrix <- avg_gene_counts %>%\n",
    "  tidyr::pivot_wider(names_from = new_label, values_from = avg_nFeature, values_fill = 0) %>%\n",
    "  column_to_rownames(\"cluster_celltype\") %>%\n",
    "  as.matrix()\n",
    "\n",
    "# Plot heatmap\n",
    "library(ComplexHeatmap)\n",
    "\n",
    "# Create the heatmap\n",
    "p6 = Heatmap(\n",
    "      heatmap_matrix,\n",
    "      name = \"# Genes\",\n",
    "      cluster_rows = FALSE,\n",
    "      cluster_columns = FALSE,\n",
    "      cell_fun = function(j, i, x, y, width, height, fill) {\n",
    "        grid.text(\n",
    "          label = round(heatmap_matrix[i, j], 1),\n",
    "          x = x, y = y,\n",
    "          rot = 90,  # Rotate the text vertically\n",
    "          gp = gpar(fontsize = 10, col = \"black\")\n",
    "        )\n",
    "      }\n",
    "    )\n",
    "# Save the heatmap plot\n",
    "pdf(\"./Figures/all_object_QC_plot_2.pdf\",width = 12,height = 6)\n",
    "p6\n",
    "dev.off()"
   ]
  },
  {
   "cell_type": "code",
   "execution_count": null,
   "metadata": {
    "vscode": {
     "languageId": "r"
    }
   },
   "outputs": [],
   "source": [
    "design = \"AABBCCCC\n",
    "          AABBCCCC\n",
    "          DDEECCCC\n",
    "          DDEE....\"\n",
    "\n",
    "pdf(\"./Figures/all_object_QC_plot.pdf\",width = 20,height = 12)\n",
    "patchwork::wrap_plots(A = p1,B= p3,C = p5, D = p2,E = p4,design = design)\n",
    "dev.off()"
   ]
  }
 ],
 "metadata": {
  "kernelspec": {
   "display_name": "R",
   "language": "R",
   "name": "ir"
  },
  "language_info": {
   "codemirror_mode": "r",
   "file_extension": ".r",
   "mimetype": "text/x-r-source",
   "name": "R",
   "pygments_lexer": "r",
   "version": "4.3.2"
  }
 },
 "nbformat": 4,
 "nbformat_minor": 2
}
