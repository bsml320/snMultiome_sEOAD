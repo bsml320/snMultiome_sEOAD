{
 "cells": [
  {
   "cell_type": "markdown",
   "id": "3a0532ed",
   "metadata": {
    "vscode": {
     "languageId": "r"
    }
   },
   "source": [
    "## CTPeaks annotation "
   ]
  },
  {
   "cell_type": "code",
   "execution_count": null,
   "id": "b64103a7",
   "metadata": {
    "vscode": {
     "languageId": "r"
    }
   },
   "outputs": [],
   "source": [
    "## runnning Peak to gene links analysis on each brain regions\n",
    "# loading\n",
    "library(Seurat)\n",
    "library(Signac)\n",
    "\n",
    "library(RColorBrewer)\n",
    "library(ComplexHeatmap)\n",
    "library(circlize)\n",
    "library(stringr)\n",
    "library(GenomicRanges)\n",
    "library(GenomicFeatures)\n",
    "library(EnsDb.Hsapiens.v86)\n",
    "library(BSgenome.Hsapiens.UCSC.hg38)\n",
    "\n",
    "# library for plotting\n",
    "library(ggplot2)\n",
    "library(dplyr)\n",
    "library(tidyr)\n",
    "library(viridis)\n",
    "library(tidyverse)\n",
    "library(patchwork)\n",
    "\n",
    "##\n",
    "library(ChIPseeker)\n",
    "library(TxDb.Hsapiens.UCSC.hg38.knownGene)\n",
    "# downloaded hg38 known gene annotation from UCSC: https://hgdownload.soe.ucsc.edu/goldenPath/hg38/bigZips/genes/\n",
    "# read into txdb format\n",
    "#txdb <- makeTxDbFromGFF(\"./Data/hg38.knownGene.gtf.gz\")\n",
    "txdb <- TxDb.Hsapiens.UCSC.hg38.knownGene"
   ]
  },
  {
   "cell_type": "code",
   "execution_count": null,
   "id": "d0c41116",
   "metadata": {
    "vscode": {
     "languageId": "r"
    }
   },
   "outputs": [],
   "source": [
    "## in house CT peaks annotation files\n",
    "ctpeaks <- read.csv(\"./Results/CTpeaks_annotated.csv\",row.names = 1)\n",
    "colnames(ctpeaks) <- c(\"chr\",\"start\",\"end\",\"width\",\"strand\",\"peak_called_in\")\n",
    "ctpeaks <- GRanges(ctpeaks)\n",
    "ctpeaks"
   ]
  },
  {
   "cell_type": "code",
   "execution_count": null,
   "id": "f021611e",
   "metadata": {
    "vscode": {
     "languageId": "r"
    }
   },
   "outputs": [],
   "source": [
    "## Load reference datasets\n",
    "ENCODE_cCREs <- import.bb(\"./Data/encodeCcreCombined.bb\")\n",
    "SCREEN_cCREs <- GRanges(read.delim(\"./Data/GRCh38-cCREs.bed\", header = F,\n",
    "                                   col.names = c(\"chr\",\"start\",\"end\",\"assession_ID1\",\"assession_ID2\",\"annotation\")))\n",
    "PsychSCREEN_bCREs <- GRanges(read.delim(\"./Data/all_bCREs.bed\", header = F,\n",
    "                                        col.names = c(\"chr\",\"start\",\"end\",\"assession_ID1\",\"assession_ID2\",\"annotation\")))\n",
    "neuron_bCREs <- GRanges(read.delim(\"./Data/neuron_bCREs.bed\", header = F,\n",
    "                                   col.names = c(\"chr\",\"start\",\"end\",\"assession_ID1\",\"annotation\")))\n",
    "glia_bCREs <- GRanges(read.delim(\"./Data/glia_bCREs.bed\", header = F,\n",
    "                                 col.names = c(\"chr\",\"start\",\"end\",\"assession_ID1\",\"annotation\")))\n",
    "brain_peaks_Li <- GRanges(read.delim(\"./Data/cCREs.bed\", header = F,\n",
    "                                     col.names = c(\"chr\",\"start\",\"end\",\"annotation\")))"
   ]
  },
  {
   "cell_type": "code",
   "execution_count": null,
   "id": "e2fbc909",
   "metadata": {
    "vscode": {
     "languageId": "r"
    }
   },
   "outputs": [],
   "source": [
    "# Reference peak list\n",
    "reference_sets <- list(\n",
    "  ENCODE_cCREs = ENCODE_cCREs,\n",
    "  SCREEN_cCREs = SCREEN_cCREs,\n",
    "  PsychSCREEN_bCREs = PsychSCREEN_bCREs,\n",
    "  neuron_bCREs = neuron_bCREs,\n",
    "  glia_bCREs = glia_bCREs,\n",
    "  brain_peaks_Li = brain_peaks_Li\n",
    ")\n",
    "\n",
    "# Overlap fraction function\n",
    "compute_overlap_fraction <- function(query, subject) {\n",
    "  hits <- findOverlaps(query, subject)\n",
    "  return(length(unique(queryHits(hits))) / length(query))\n",
    "}"
   ]
  },
  {
   "cell_type": "code",
   "execution_count": null,
   "id": "eea2a092",
   "metadata": {
    "vscode": {
     "languageId": "r"
    }
   },
   "outputs": [],
   "source": [
    "# Cell types from ctpeaks\n",
    "ct_list <- unique(unlist(strsplit(ctpeaks$peak_called_in, \",\")))\n",
    "\n",
    "# Initialize results\n",
    "overlap_summary <- data.frame()\n",
    "\n",
    "# Overall (all ctpeaks)\n",
    "all_row <- c(\"All\", sapply(reference_sets, function(ref) compute_overlap_fraction(ctpeaks, ref)))\n",
    "overlap_summary <- rbind(overlap_summary, all_row)\n",
    "\n",
    "# Cell type-specific (not unique-only)\n",
    "for (ct in ct_list) {\n",
    "  ct_peaks <- ctpeaks[grep(ct, ctpeaks$peak_called_in), ]\n",
    "  ct_peaks <- ct_peaks[!duplicated(ct_peaks)]\n",
    "\n",
    "  row <- c(ct, sapply(reference_sets, function(ref) compute_overlap_fraction(ct_peaks, ref)))\n",
    "  overlap_summary <- rbind(overlap_summary, row)\n",
    "}\n",
    "\n",
    "# Assign column names\n",
    "colnames(overlap_summary) <- c(\"CellType\", names(reference_sets))\n",
    "overlap_summary[ , -1] <- lapply(overlap_summary[ , -1], as.numeric)\n",
    "overlap_summary = overlap_summary[!overlap_summary$CellType %in% c(\"VLMC_Per\",\"Endothelial\"), ]\n",
    "\n",
    "# View results\n",
    "print(overlap_summary)"
   ]
  },
  {
   "cell_type": "code",
   "execution_count": null,
   "id": "f4d6c333",
   "metadata": {
    "vscode": {
     "languageId": "r"
    }
   },
   "outputs": [],
   "source": [
    "# # Convert to long format\n",
    "# col1 = c(\n",
    "#   \"All\" = \"#FCB905\",\n",
    "#   'Astrocyte' = '#F06719',\n",
    "#   'Excitatory' = '#33A65C',\n",
    "#   'Inhibitory' = '#23767C',\n",
    "#   'Microglia' = '#E03426',\n",
    "#   'Oligodendrocyte' = '#1BA3C6',\n",
    "#   'OPC' = \"#A26DC2\",\n",
    "#   'Endothelial' = \"#FCB905\",\n",
    "#   'VLMC_Per' = \"#EB73B3\"\n",
    "# )\n",
    "\n",
    "# # Step 1: reshape\n",
    "# overlap_long <- overlap_summary %>%\n",
    "#   pivot_longer(cols = -CellType, names_to = \"ReferenceSet\", values_to = \"Known_cCREs\")\n",
    "\n",
    "# # Step 2: make long with Known + Novel\n",
    "# plot_data <- overlap_long %>%\n",
    "#   mutate('Potential_Novel_cCREs' = 1 - Known_cCREs) %>%\n",
    "#   pivot_longer(cols = c(\"Known_cCREs\", \"Potential_Novel_cCREs\"), \n",
    "#                names_to = \"Category\", values_to = \"OverlapFraction\")\n",
    "\n",
    "# # Ensure stack order: Novel on bottom, Known on top\n",
    "# plot_data$Category <- factor(plot_data$Category, levels = c(\"Potential_Novel_cCREs\", \"Known_cCREs\"))\n",
    "\n",
    "# # Step 3: set fill based on Category + CellType\n",
    "# plot_data <- plot_data %>%\n",
    "#   mutate(FillKey = ifelse(Category == \"Known_cCREs\", \"Known\", CellType))\n",
    "\n",
    "# # Construct fill color map\n",
    "# fill_colors <- c(\"Known\" = \"#4d4d4d\", col1)"
   ]
  },
  {
   "cell_type": "code",
   "execution_count": null,
   "id": "7ad7b164",
   "metadata": {
    "vscode": {
     "languageId": "r"
    }
   },
   "outputs": [],
   "source": [
    "# options(repr.plot.width=6, repr.plot.height=8)\n",
    "# p = ggplot(plot_data, aes(x = \"\", y = OverlapFraction, fill = FillKey)) +\n",
    "#       geom_bar(stat = \"identity\", width = 0.6, color = \"black\") +  # ← add border\n",
    "#       geom_text(aes(label = paste0(round(OverlapFraction * 100,2), \"%\")),\n",
    "#                 position = position_stack(vjust = 0.5),\n",
    "#                 size = 5, color = \"black\") +\n",
    "#       facet_grid(CellType ~ ReferenceSet, switch = \"both\") +\n",
    "#       scale_fill_manual(values = fill_colors) +\n",
    "#       labs(x = NULL, y = \"Fraction of Peaks\", fill = NULL) +\n",
    "#       theme_minimal(base_size = 11) +\n",
    "#       theme(\n",
    "#         axis.text.x = element_blank(),\n",
    "#         axis.ticks.x = element_blank(),\n",
    "#         strip.text = element_text(size = 16),\n",
    "#         panel.grid = element_blank(),\n",
    "#         legend.position = \"none\",\n",
    "#         panel.spacing.x = unit(-1, \"lines\"),   # ← reduce horizontal space\n",
    "#         panel.spacing.y = unit(0.1, \"lines\")     # optional: vertical spacing\n",
    "#       )"
   ]
  },
  {
   "cell_type": "code",
   "execution_count": null,
   "id": "ea010b06",
   "metadata": {
    "vscode": {
     "languageId": "r"
    }
   },
   "outputs": [],
   "source": [
    "# p\n",
    "# ggsave(p,filename = \"./Results/Revision/LINK/CTpeaks_annotation.pdf\", width = 10, height = 18)"
   ]
  },
  {
   "cell_type": "code",
   "execution_count": null,
   "id": "da3fd2d8",
   "metadata": {
    "vscode": {
     "languageId": "r"
    }
   },
   "outputs": [],
   "source": [
    "# Convert to long format\n",
    "col1 = c(\n",
    "  \"All\" = \"#FCB905\",\n",
    "  'Astrocyte' = '#F06719',\n",
    "  'Excitatory' = '#33A65C',\n",
    "  'Inhibitory' = '#23767C',\n",
    "  'Microglia' = '#E03426',\n",
    "  'Oligodendrocyte' = '#1BA3C6',\n",
    "  'OPC' = \"#A26DC2\"\n",
    ")\n",
    "\n",
    "# Step 1: reshape\n",
    "overlap_long <- overlap_summary %>%\n",
    "  pivot_longer(cols = -CellType, names_to = \"ReferenceSet\", values_to = \"Known_cCREs\")\n",
    "\n",
    "# Step 2: make long with Known + Novel\n",
    "plot_data <- overlap_long %>%\n",
    "  mutate('Potential_Novel_cCREs' = 1 - Known_cCREs) %>%\n",
    "  pivot_longer(cols = c(\"Known_cCREs\", \"Potential_Novel_cCREs\"), \n",
    "               names_to = \"Category\", values_to = \"OverlapFraction\")\n",
    "plot_data = plot_data[!plot_data$CellType %in% c(\"Endothelial\",\"VLMC_Per\"),]\n",
    "\n",
    "plot_data$Category <- factor(plot_data$Category, levels = c(\"Potential_Novel_cCREs\", \"Known_cCREs\"))\n",
    "\n",
    "# Define desired bottom-to-top order\n",
    "celltype_order <- c(\"OPC\", \"Oligodendrocyte\", \n",
    "                    \"Microglia\", \"Inhibitory\", \"Excitatory\", \"Astrocyte\",\"All\")\n",
    "\n",
    "# Apply to plot_data and reorder factor\n",
    "plot_data$CellType <- factor(plot_data$CellType, levels = rev(celltype_order))\n",
    "\n",
    "# --- Use fixed color map: 1 color for novel, 1 for known\n",
    "fill_colors <- c(\"Potential_Novel_cCREs\" = \"#aa0000\", \"Known_cCREs\" = \"#4d4d4d\")"
   ]
  },
  {
   "cell_type": "code",
   "execution_count": null,
   "id": "bb83346e",
   "metadata": {
    "vscode": {
     "languageId": "r"
    }
   },
   "outputs": [],
   "source": [
    "main_plot <- ggplot(plot_data, aes(x = \"\", y = OverlapFraction, fill = Category)) +\n",
    "  geom_bar(stat = \"identity\", width = 0.6, color = \"black\") +\n",
    "  geom_text(aes(label = paste0(round(OverlapFraction * 100,2), \"%\")),\n",
    "            position = position_stack(vjust = 0.5),\n",
    "            size = 5, color = \"black\") +\n",
    "  facet_grid(CellType ~ ReferenceSet, switch = \"both\") +\n",
    "  scale_fill_manual(values = fill_colors) +\n",
    "  scale_y_continuous(\n",
    "    breaks = seq(0, 1, by = 0.25),\n",
    "    labels = scales::percent_format(accuracy = 1)\n",
    "  ) +\n",
    "  labs(x = NULL, y = \"Fraction of Peaks\", fill = NULL) +\n",
    "  theme_minimal(base_size = 14) +\n",
    "  theme(\n",
    "    axis.text.x = element_blank(),\n",
    "    axis.ticks.x = element_blank(),\n",
    "    strip.text.x = element_text(size = 17, face = \"bold\"),\n",
    "    strip.text.y.left = element_blank(),\n",
    "    panel.grid = element_blank(),\n",
    "    legend.position = \"top\",\n",
    "    panel.spacing.x = unit(0.05, \"lines\"),\n",
    "    panel.spacing.y = unit(0, \"lines\")\n",
    "  )\n",
    "\n",
    "# Build data for annotation bar with the same factor levels\n",
    "annot_bar_data <- data.frame(CellType = celltype_order, x = 1)\n",
    "\n",
    "annot_bar <- ggplot(annot_bar_data, aes(x = x, y = CellType, fill = CellType)) +\n",
    "  geom_tile(width = 0.6, height = 0.95) +\n",
    "  scale_y_discrete(limits = celltype_order) +\n",
    "  scale_fill_manual(values = col1) +\n",
    "  theme_void(base_size = 14) +\n",
    "  theme(\n",
    "    legend.position = \"none\",\n",
    "    axis.text.y = element_text(size = 16, hjust = 1),\n",
    "    plot.margin = margin(t = 5, r = 5, b = 5, l = 5)\n",
    "  )\n",
    "# Use patchwork to combine\n",
    "final_plot <- annot_bar + main_plot + \n",
    "  plot_layout(ncol = 2, widths = c(0.06, 1))"
   ]
  },
  {
   "cell_type": "code",
   "execution_count": null,
   "id": "16a53a8e",
   "metadata": {
    "vscode": {
     "languageId": "r"
    }
   },
   "outputs": [],
   "source": [
    "final_plot\n",
    "ggsave(final_plot,filename = \"./Results/Revision/LINK/CTpeaks_annotation_alt.pdf\", width = 12, height = 20)"
   ]
  },
  {
   "cell_type": "markdown",
   "id": "ed539690",
   "metadata": {
    "vscode": {
     "languageId": "r"
    }
   },
   "source": [
    "## Annotating the DEG linked peaks again"
   ]
  },
  {
   "cell_type": "code",
   "execution_count": null,
   "id": "ca6ee6af",
   "metadata": {
    "vscode": {
     "languageId": "r"
    }
   },
   "outputs": [],
   "source": [
    "pfc_linked_peaks = read.csv(\"./Results/LINK/PFC_linkpeaks_all_annotated_1.23.csv\")\n",
    "ec_linked_peaks = read.csv(\"./Results/LINK/EC_linkpeaks_all_annotated_1.23.csv\")\n",
    "hip_linked_peaks = read.csv(\"./Results/LINK/HIP_linkpeaks_all_annotated_1.23.csv\")"
   ]
  },
  {
   "cell_type": "code",
   "execution_count": null,
   "id": "2ed15eb8",
   "metadata": {
    "vscode": {
     "languageId": "r"
    }
   },
   "outputs": [],
   "source": [
    "annotate_with_SCREEN_cCRE <- function(linked_peaks_df, screen_cCREs_gr) {\n",
    "  # Convert to GRanges\n",
    "  linked_gr <- makeGRangesFromDataFrame(linked_peaks_df,\n",
    "                                         seqnames.field = \"seqnames\",\n",
    "                                         start.field = \"start\",\n",
    "                                         end.field = \"end\",\n",
    "                                         keep.extra.columns = TRUE)\n",
    "  \n",
    "  # Find overlaps\n",
    "  hits <- findOverlaps(linked_gr, screen_cCREs_gr)\n",
    "  \n",
    "  # Annotate\n",
    "  linked_peaks_df$in_SCREEN_cCREs <- FALSE\n",
    "  linked_peaks_df$in_SCREEN_cCREs[queryHits(hits)] <- TRUE\n",
    "  \n",
    "  linked_peaks_df$SCREEN_cCRE_type <- NA_character_\n",
    "  linked_peaks_df$SCREEN_cCRE_type[queryHits(hits)] <- screen_cCREs_gr$annotation[subjectHits(hits)]\n",
    "  \n",
    "  return(linked_peaks_df)\n",
    "}"
   ]
  },
  {
   "cell_type": "code",
   "execution_count": null,
   "id": "6fb43124",
   "metadata": {
    "vscode": {
     "languageId": "r"
    }
   },
   "outputs": [],
   "source": [
    "# Annotate for each region\n",
    "pfc_linked_peaks <- annotate_with_SCREEN_cCRE(pfc_linked_peaks, SCREEN_cCREs)\n",
    "ec_linked_peaks  <- annotate_with_SCREEN_cCRE(ec_linked_peaks, SCREEN_cCREs)\n",
    "hip_linked_peaks <- annotate_with_SCREEN_cCRE(hip_linked_peaks, SCREEN_cCREs)"
   ]
  },
  {
   "cell_type": "code",
   "execution_count": null,
   "id": "7c381be7",
   "metadata": {
    "vscode": {
     "languageId": "r"
    }
   },
   "outputs": [],
   "source": [
    "# Combine annotated data with region labels\n",
    "pfc_linked_peaks$Region <- \"PFC\"\n",
    "ec_linked_peaks$Region  <- \"EC\"\n",
    "hip_linked_peaks$Region <- \"HIP\"\n",
    "\n",
    "# Combine all\n",
    "combined <- rbind(hip_linked_peaks,ec_linked_peaks, pfc_linked_peaks)\n"
   ]
  },
  {
   "cell_type": "code",
   "execution_count": null,
   "id": "e9084483",
   "metadata": {
    "vscode": {
     "languageId": "r"
    }
   },
   "outputs": [],
   "source": [
    "# Clean NA and standardize annotation labels\n",
    "combined$SCREEN_cCRE_type[is.na(combined$SCREEN_cCRE_type)] <- \"Unannotated\"\n",
    "\n",
    "# Compute proportions\n",
    "plot_data <- combined %>%\n",
    "  group_by(Region, SCREEN_cCRE_type) %>%\n",
    "  summarise(Count = n(), .groups = \"drop\") %>%\n",
    "  group_by(Region) %>%\n",
    "  mutate(Proportion = Count / sum(Count))"
   ]
  },
  {
   "cell_type": "code",
   "execution_count": null,
   "id": "eff57829",
   "metadata": {
    "vscode": {
     "languageId": "r"
    }
   },
   "outputs": [],
   "source": [
    "# Order regions and annotation categories\n",
    "plot_data$Region <- factor(plot_data$Region, levels = c(\"HIP\", \"EC\", \"PFC\"))\n",
    "\n",
    "# Customize category order (can be adjusted)\n",
    "plot_data$SCREEN_cCRE_type <- factor(plot_data$SCREEN_cCRE_type,\n",
    "   levels = c(\"PLS\", \"pELS\", \"dELS\", \"CA\", \"CA-H3K4me3\", \"CA-CTCF\", \"TF\", \"CA-TF\", \"DNase-H3K4me3\", \"Other\", \"Unannotated\"))\n",
    "\n",
    "# Custom color palette (extend as needed)\n",
    "ccre_colors <- c(\n",
    "  \"PLS\" = \"#FF0000\",\n",
    "  \"pELS\" = \"#FFA700\",\n",
    "  \"dELS\" = \"#FFCD00\",\n",
    "  \"CA\" = \"#C7E9B4\",\n",
    "  \"CA-H3K4me3\" = \"#41B6C4\",\n",
    "  \"CA-CTCF\" = \"#2C7FB8\",\n",
    "  \"TF\" = \"#6A51A3\",\n",
    "  \"CA-TF\" = \"#9E9AC8\",\n",
    "  \"DNase-H3K4me3\" = \"#00B0F0\",\n",
    "  \"Other\" = \"#706f6f\",\n",
    "  \"Unannotated\" = \"#D9D9D9\"\n",
    ")\n"
   ]
  },
  {
   "cell_type": "code",
   "execution_count": null,
   "id": "a19d54f3",
   "metadata": {
    "vscode": {
     "languageId": "r"
    }
   },
   "outputs": [],
   "source": [
    "ggplot(plot_data, aes(x = Region, y = Proportion, fill = SCREEN_cCRE_type)) +\n",
    "  geom_bar(stat = \"identity\") +\n",
    "  scale_fill_manual(values = ccre_colors, name = \"SCREEN cCRE Type\") +\n",
    "  xlab(\"Region\") + ylab(\"Proportion of Linked Peaks\") +\n",
    "  theme_classic() +\n",
    "  theme(\n",
    "    legend.position = \"right\",\n",
    "    axis.text = element_text(size = 12),\n",
    "    axis.title = element_text(size = 15),\n",
    "    legend.text = element_text(size = 11),\n",
    "    legend.title = element_text(size = 13)\n",
    "  ) +\n",
    "  coord_flip()\n",
    "table(pfc_linked_peaks$SCREEN_cCRE_type,useNA = \"always\")\n",
    "table(ec_linked_peaks$SCREEN_cCRE_type,useNA = \"always\")\n",
    "table(hip_linked_peaks$SCREEN_cCRE_type,useNA = \"always\")"
   ]
  },
  {
   "cell_type": "markdown",
   "id": "52daee96",
   "metadata": {
    "vscode": {
     "languageId": "r"
    }
   },
   "source": [
    "## Annotate with PsychSCREEN_bCREs"
   ]
  },
  {
   "cell_type": "code",
   "execution_count": null,
   "id": "dd07d7bd",
   "metadata": {
    "vscode": {
     "languageId": "r"
    }
   },
   "outputs": [],
   "source": [
    "## Annotate with PsychSCREEN_bCREs\n",
    "annotate_with_PsychSCREEN_bCRE <- function(linked_peaks_df, psych_bCREs_gr) {\n",
    "  # Convert to GRanges\n",
    "  linked_gr <- makeGRangesFromDataFrame(linked_peaks_df,\n",
    "                                         seqnames.field = \"seqnames\",\n",
    "                                         start.field = \"start\",\n",
    "                                         end.field = \"end\",\n",
    "                                         keep.extra.columns = TRUE)\n",
    "  \n",
    "  # Find overlaps\n",
    "  hits <- findOverlaps(linked_gr, psych_bCREs_gr)\n",
    "  \n",
    "  # Annotate\n",
    "  linked_peaks_df$in_PsychSCREEN_bCREs <- FALSE\n",
    "  linked_peaks_df$in_PsychSCREEN_bCREs[queryHits(hits)] <- TRUE\n",
    "  \n",
    "  linked_peaks_df$PsychSCREEN_bCRE_type <- NA_character_\n",
    "  linked_peaks_df$PsychSCREEN_bCRE_type[queryHits(hits)] <- psych_bCREs_gr$annotation[subjectHits(hits)]\n",
    "  \n",
    "  return(linked_peaks_df)\n",
    "}"
   ]
  },
  {
   "cell_type": "code",
   "execution_count": null,
   "id": "fcd7e82a",
   "metadata": {
    "vscode": {
     "languageId": "r"
    }
   },
   "outputs": [],
   "source": [
    "# Annotate for each region\n",
    "pfc_linked_peaks <- annotate_with_PsychSCREEN_bCRE(pfc_linked_peaks, PsychSCREEN_bCREs)\n",
    "ec_linked_peaks  <- annotate_with_PsychSCREEN_bCRE(ec_linked_peaks, PsychSCREEN_bCREs)\n",
    "hip_linked_peaks <- annotate_with_PsychSCREEN_bCRE(hip_linked_peaks, PsychSCREEN_bCREs)\n",
    "\n",
    "table(pfc_linked_peaks$PsychSCREEN_bCRE_type,useNA = \"always\")\n",
    "table(ec_linked_peaks$PsychSCREEN_bCRE_type,useNA = \"always\")\n",
    "table(hip_linked_peaks$PsychSCREEN_bCRE_type,useNA = \"always\")"
   ]
  },
  {
   "cell_type": "markdown",
   "id": "cea3593f",
   "metadata": {
    "vscode": {
     "languageId": "r"
    }
   },
   "source": [
    "### Draw stacked plot on the PsychSCREEN_bCREs annotation"
   ]
  },
  {
   "cell_type": "code",
   "execution_count": null,
   "id": "00266dbd",
   "metadata": {
    "vscode": {
     "languageId": "r"
    }
   },
   "outputs": [],
   "source": [
    "# Combine annotated data with region labels\n",
    "pfc_linked_peaks$Region <- \"PFC\"\n",
    "ec_linked_peaks$Region  <- \"EC\"\n",
    "hip_linked_peaks$Region <- \"HIP\"\n",
    "\n",
    "# Combine all\n",
    "combined <- rbind(hip_linked_peaks,ec_linked_peaks, pfc_linked_peaks)\n"
   ]
  },
  {
   "cell_type": "code",
   "execution_count": null,
   "id": "622d07ee",
   "metadata": {
    "vscode": {
     "languageId": "r"
    }
   },
   "outputs": [],
   "source": [
    "# Clean NA and standardize annotation labels\n",
    "combined$PsychSCREEN_bCRE_type[is.na(combined$PsychSCREEN_bCRE_type)] <- \"Unannotated\"\n",
    "\n",
    "# Compute proportions\n",
    "plot_data <- combined %>%\n",
    "  group_by(Region, PsychSCREEN_bCRE_type) %>%\n",
    "  summarise(Count = n(), .groups = \"drop\") %>%\n",
    "  group_by(Region) %>%\n",
    "  mutate(Proportion = Count / sum(Count))"
   ]
  },
  {
   "cell_type": "code",
   "execution_count": null,
   "id": "c58d220d",
   "metadata": {
    "vscode": {
     "languageId": "r"
    }
   },
   "outputs": [],
   "source": [
    "unique(plot_data$PsychSCREEN_bCRE_type)"
   ]
  },
  {
   "cell_type": "code",
   "execution_count": null,
   "id": "a6f100b8",
   "metadata": {
    "vscode": {
     "languageId": "r"
    }
   },
   "outputs": [],
   "source": [
    "# Order regions and annotation categories\n",
    "plot_data$Region <- factor(plot_data$Region, levels = c(\"HIP\", \"EC\", \"PFC\"))\n",
    "\n",
    "# Customize category order (can be adjusted)\n",
    "plot_data$PsychSCREEN_bCRE_type <- factor(plot_data$PsychSCREEN_bCRE_type,\n",
    "   levels = c(\"PLS\", \"pELS\", \"dELS\", \"CA\", \"CA-H3K4me3\", \"CA-CTCF\", \"TF\", \"CA-TF\", \"DNase-H3K4me3\", \"Unannotated\"))\n",
    "\n",
    "# Custom color palette (extend as needed)\n",
    "ccre_colors <- c(\n",
    "  \"PLS\" = \"#FF0000\",\n",
    "  \"pELS\" = \"#FFA700\",\n",
    "  \"dELS\" = \"#FFCD00\",\n",
    "  \"CA\" = \"#C7E9B4\",\n",
    "  \"CA-H3K4me3\" = \"#41B6C4\",\n",
    "  \"CA-CTCF\" = \"#2C7FB8\",\n",
    "  \"TF\" = \"#6A51A3\",\n",
    "  \"CA-TF\" = \"#9E9AC8\",\n",
    "  \"DNase-H3K4me3\" = \"#00B0F0\",\n",
    "  \"Unannotated\" = \"#706f6f\"\n",
    ")\n"
   ]
  },
  {
   "cell_type": "code",
   "execution_count": null,
   "id": "fcd72886",
   "metadata": {
    "vscode": {
     "languageId": "r"
    }
   },
   "outputs": [],
   "source": [
    "p1 = ggplot(plot_data, aes(x = Region, y = Proportion, fill = PsychSCREEN_bCRE_type)) +\n",
    "      geom_bar(stat = \"identity\") +\n",
    "      scale_fill_manual(values = ccre_colors, name = \"SCREEN cCRE Type\") +\n",
    "      xlab(\"Region\") + ylab(\"Proportion of Linked Peaks\") +\n",
    "      theme_classic() +\n",
    "      theme(\n",
    "        legend.position = \"right\",\n",
    "        axis.text = element_text(size = 12),\n",
    "        axis.title = element_text(size = 15),\n",
    "        legend.text = element_text(size = 11),\n",
    "        legend.title = element_text(size = 13)\n",
    "      ) +\n",
    "      coord_flip()\n",
    "\n",
    "ggsave(p1,filename = \"./Results/Revision/LINK/psychENCODE_linked_peaks.pdf\", width = 10, height = 3.5)"
   ]
  },
  {
   "cell_type": "markdown",
   "id": "fc99a34a",
   "metadata": {
    "vscode": {
     "languageId": "r"
    }
   },
   "source": [
    "### Draw the stacked plot for each region but split by cell types. "
   ]
  },
  {
   "cell_type": "code",
   "execution_count": null,
   "id": "243a2364",
   "metadata": {
    "vscode": {
     "languageId": "r"
    }
   },
   "outputs": [],
   "source": [
    "# data_oi = pfc_linked_peaks\n",
    "# data_oi = ec_linked_peaks\n",
    "data_oi = hip_linked_peaks"
   ]
  },
  {
   "cell_type": "code",
   "execution_count": null,
   "id": "3e9ba8d9",
   "metadata": {
    "vscode": {
     "languageId": "r"
    }
   },
   "outputs": [],
   "source": [
    "# Filter for relevant cell types\n",
    "ct <- c('Astrocyte','Excitatory','Inhibitory','Microglia','Oligodendrocyte','OPC')\n",
    "data_filtered <- data_oi %>%\n",
    "  filter(celltype %in% ct) %>%\n",
    "  mutate(PsychSCREEN_bCRE_type = ifelse(is.na(PsychSCREEN_bCRE_type), \"Unannotated\", PsychSCREEN_bCRE_type))\n",
    "\n",
    "# Calculate proportions\n",
    "plot_data_ct <- data_filtered %>%\n",
    "  group_by(celltype, PsychSCREEN_bCRE_type) %>%\n",
    "  summarise(Count = n(), .groups = \"drop\") %>%\n",
    "  group_by(celltype) %>%\n",
    "  mutate(Proportion = Count / sum(Count))"
   ]
  },
  {
   "cell_type": "code",
   "execution_count": null,
   "id": "d703b94e",
   "metadata": {
    "vscode": {
     "languageId": "r"
    }
   },
   "outputs": [],
   "source": [
    "# Order regions and annotation categories\n",
    "plot_data_ct$celltype <- factor(plot_data_ct$celltype, levels = ct)\n",
    "\n",
    "# Customize category order (can be adjusted)\n",
    "plot_data_ct$PsychSCREEN_bCRE_type <- factor(plot_data_ct$PsychSCREEN_bCRE_type,\n",
    "   levels = c(\"PLS\", \"pELS\", \"dELS\", \"CA\", \"CA-H3K4me3\", \"CA-CTCF\", \"TF\", \"CA-TF\", \"DNase-H3K4me3\", \"Unannotated\"))\n",
    "\n",
    "# Custom color palette (extend as needed)\n",
    "label_colors <- c(\n",
    "  \"PLS\" = \"#FF0000\",\n",
    "  \"pELS\" = \"#FFA700\",\n",
    "  \"dELS\" = \"#FFCD00\",\n",
    "  \"CA\" = \"#C7E9B4\",\n",
    "  \"CA-H3K4me3\" = \"#41B6C4\",\n",
    "  \"CA-CTCF\" = \"#2C7FB8\",\n",
    "  \"TF\" = \"#6A51A3\",\n",
    "  \"CA-TF\" = \"#9E9AC8\",\n",
    "  \"DNase-H3K4me3\" = \"#00B0F0\",\n",
    "  \"Unannotated\" = \"#706f6f\"\n",
    ")\n",
    "\n",
    "# Plot\n",
    "p <- ggplot(plot_data_ct, aes(x = Proportion, y = celltype, fill = PsychSCREEN_bCRE_type)) +\n",
    "  geom_bar(stat = \"identity\") +\n",
    "  scale_fill_manual(values = label_colors, name = \"cCRE Type\") +\n",
    "  labs(x = \"Proportion of Linked Peaks\", y = \"Cell Type\") +\n",
    "  theme_classic(base_size = 14) +\n",
    "  theme(\n",
    "    legend.position = \"right\",\n",
    "    axis.text = element_text(size = 12),\n",
    "    axis.title = element_text(size = 15),\n",
    "    legend.text = element_text(size = 12),\n",
    "    legend.title = element_text(size = 13)\n",
    "  )"
   ]
  },
  {
   "cell_type": "code",
   "execution_count": null,
   "id": "f7a80b9c",
   "metadata": {
    "vscode": {
     "languageId": "r"
    }
   },
   "outputs": [],
   "source": [
    "ggsave(p, filename = \"./Results/Revision/LINK/CTpeaks_annotation_psychSCREEN_HIP.pdf\", width = 10, height = 4)"
   ]
  },
  {
   "cell_type": "markdown",
   "id": "81a1f6c1",
   "metadata": {
    "vscode": {
     "languageId": "r"
    }
   },
   "source": [
    "## draw stacked bar plot for ENCODE annotation"
   ]
  },
  {
   "cell_type": "code",
   "execution_count": null,
   "id": "4596c83e",
   "metadata": {
    "vscode": {
     "languageId": "r"
    }
   },
   "outputs": [],
   "source": [
    "# Compute proportions\n",
    "plot_data <- combined %>%\n",
    "  group_by(Region, encodeLabel) %>%\n",
    "  summarise(Count = n(), .groups = \"drop\") %>%\n",
    "  group_by(Region) %>%\n",
    "  mutate(Proportion = Count / sum(Count))\n",
    "  # plot_data"
   ]
  },
  {
   "cell_type": "code",
   "execution_count": null,
   "id": "c9b335fc",
   "metadata": {
    "vscode": {
     "languageId": "r"
    }
   },
   "outputs": [],
   "source": [
    "# Order regions and annotation categories\n",
    "plot_data$Region <- factor(plot_data$Region, levels = c(\"HIP\", \"EC\", \"PFC\"))\n",
    "\n",
    "# Customize category order (can be adjusted)\n",
    "plot_data$encodeLabel <- factor(plot_data$encodeLabel,\n",
    "   levels = c(\"PLS\", \"pELS\", \"dELS\", \"CTCF-only\", \"DNase-H3K4me3\", \"Other\"))\n",
    "\n",
    "# Custom color palette (extend as needed)\n",
    "ccre_colors <- c(\n",
    "  \"PLS\" = \"#FF0000\",\n",
    "  \"pELS\" = \"#FFA700\",\n",
    "  \"dELS\" = \"#FFCD00\",\n",
    "  \"CTCF-only\" = \"#00B0F0\",\n",
    "  \"DNase-H3K4me3\" = \"#FFAAAA\",\n",
    "  \"Other\" = \"#706f6f\"\n",
    ")"
   ]
  },
  {
   "cell_type": "code",
   "execution_count": null,
   "id": "faf518c1",
   "metadata": {
    "vscode": {
     "languageId": "r"
    }
   },
   "outputs": [],
   "source": [
    "p = ggplot(plot_data, aes(x = Region, y = Proportion, fill = encodeLabel)) +\n",
    "      geom_bar(stat = \"identity\") +\n",
    "      scale_fill_manual(values = ccre_colors, name = \"SCREEN cCRE Type\") +\n",
    "      xlab(\"Region\") + ylab(\"Proportion of Linked Peaks\") +\n",
    "      theme_classic() +\n",
    "      theme(\n",
    "        legend.position = \"right\",\n",
    "        axis.text = element_text(size = 12),\n",
    "        axis.title = element_text(size = 15),\n",
    "        legend.text = element_text(size = 11),\n",
    "        legend.title = element_text(size = 13)\n",
    "      )\n",
    "ggsave(p,filename = \"./Results/Revision/LINK/ENCODE_linked_peaks.pdf\", width = 5, height = 8)"
   ]
  },
  {
   "cell_type": "markdown",
   "id": "601f1ddf",
   "metadata": {
    "vscode": {
     "languageId": "r"
    }
   },
   "source": [
    "## Draw distribution of score in each region"
   ]
  },
  {
   "cell_type": "code",
   "execution_count": null,
   "id": "c457266e",
   "metadata": {
    "vscode": {
     "languageId": "r"
    }
   },
   "outputs": [],
   "source": [
    "p1 = ggplot(pfc_linked_peaks, aes(x = score)) +\n",
    "  geom_histogram(binwidth = 0.01, fill = \"#c25757ff\", color = \"#c25757ff\", alpha = 0.8, position = 'dodge',size=1) +\n",
    "  scale_fill_viridis(discrete=TRUE)+\n",
    "  labs(x = \"Score\", y = \"Count\") +\n",
    "  theme_minimal(base_size = 14) +\n",
    "  theme(\n",
    "    plot.title = element_text(face = \"bold\", hjust = 0.5),\n",
    "    axis.title = element_text(size = 14),\n",
    "    axis.text = element_text(size = 12),\n",
    "    panel.grid.major = element_blank(),  # remove major grid lines\n",
    "    panel.grid.minor = element_blank(),  # remove minor grid lines\n",
    "    axis.line = element_line(color = \"black\")  # show axes\n",
    "  )\n",
    "\n",
    "p2 = ggplot(ec_linked_peaks, aes(x = score)) +\n",
    "  geom_histogram(binwidth = 0.02, fill = \"#825ca6ff\", color = \"#825ca6ff\", alpha = 0.8, position = 'dodge',size=1) +\n",
    "  scale_fill_viridis(discrete=TRUE)+\n",
    "  labs(x = \"Score\", y = \"Count\") +\n",
    "  theme_minimal(base_size = 14) +\n",
    "  theme(\n",
    "    plot.title = element_text(face = \"bold\", hjust = 0.5),\n",
    "    axis.title = element_text(size = 14),\n",
    "    axis.text = element_text(size = 12),\n",
    "    panel.grid.major = element_blank(),  # remove major grid lines\n",
    "    panel.grid.minor = element_blank(),  # remove minor grid lines\n",
    "    axis.line = element_line(color = \"black\")  # show axes\n",
    "  )\n",
    "\n",
    "p3 = ggplot(hip_linked_peaks, aes(x = score)) +\n",
    "  geom_histogram(binwidth = 0.02, fill = \"#3f78c199\", color = \"#3f78c1\", alpha = 0.8, position = 'dodge',size=1) +\n",
    "  scale_fill_viridis(discrete=TRUE)+\n",
    "  labs(x = \"Score\", y = \"Count\") +\n",
    "  theme_minimal(base_size = 14) +\n",
    "  theme(\n",
    "    plot.title = element_text(face = \"bold\", hjust = 0.5),\n",
    "    axis.title = element_text(size = 14),\n",
    "    axis.text = element_text(size = 12),\n",
    "    panel.grid.major = element_blank(),  # remove major grid lines\n",
    "    panel.grid.minor = element_blank(),  # remove minor grid lines\n",
    "    axis.line = element_line(color = \"black\")  # show axes\n",
    "  )\n"
   ]
  },
  {
   "cell_type": "code",
   "execution_count": null,
   "id": "346db5e0",
   "metadata": {
    "vscode": {
     "languageId": "r"
    }
   },
   "outputs": [],
   "source": [
    "ggsave(patchwork::wrap_plots(p1, p2, p3, ncol = 3), \n",
    "        filename = \"./Results/Revision/LINK/peak_score_distribution.pdf\", \n",
    "        width = 13, height = 4)"
   ]
  },
  {
   "cell_type": "code",
   "execution_count": null,
   "id": "c47bb3be",
   "metadata": {
    "vscode": {
     "languageId": "r"
    }
   },
   "outputs": [],
   "source": [
    "summary(pfc_linked_peaks$score)\n",
    "summary(ec_linked_peaks$score)\n",
    "summary(hip_linked_peaks$score)"
   ]
  },
  {
   "cell_type": "code",
   "execution_count": null,
   "id": "dd6f51e7",
   "metadata": {
    "vscode": {
     "languageId": "r"
    }
   },
   "outputs": [],
   "source": [
    "ggplot(pfc_linked_peaks, aes(x = score)) +\n",
    "  geom_histogram(binwidth = 0.01, fill = \"#E69F00\", color = \"black\", alpha = 0.85) +\n",
    "  facet_wrap(~ encodeLabel, scales = \"free_y\") +\n",
    "  labs(x = \"Score\", y = \"Count\", title = \"Score Distribution by cCRE Type\") +\n",
    "  theme_light(base_size = 13)"
   ]
  },
  {
   "cell_type": "code",
   "execution_count": null,
   "id": "10565218",
   "metadata": {
    "vscode": {
     "languageId": "r"
    }
   },
   "outputs": [],
   "source": [
    "mean(pfc_linked_peaks$encodeLabel == \"dELS\")\n",
    "mean(pfc_linked_peaks$PsychSCREEN_bCRE_type == \"dELS\", na.rm = TRUE)\n",
    "\n",
    "mean(ec_linked_peaks$encodeLabel == \"dELS\")\n",
    "mean(ec_linked_peaks$PsychSCREEN_bCRE_type == \"dELS\", na.rm = TRUE)\n",
    "\n",
    "mean(hip_linked_peaks$encodeLabel == \"dELS\")\n",
    "mean(hip_linked_peaks$PsychSCREEN_bCRE_type == \"dELS\", na.rm = TRUE)"
   ]
  },
  {
   "cell_type": "code",
   "execution_count": null,
   "id": "8e448c0f",
   "metadata": {
    "vscode": {
     "languageId": "r"
    }
   },
   "outputs": [],
   "source": [
    "mean(pfc_linked_peaks$encodeLabel == \"PLS\")\n",
    "mean(pfc_linked_peaks$PsychSCREEN_bCRE_type == \"PLS\", na.rm = TRUE)\n",
    "\n",
    "mean(ec_linked_peaks$encodeLabel == \"PLS\")\n",
    "mean(ec_linked_peaks$PsychSCREEN_bCRE_type == \"PLS\", na.rm = TRUE)\n",
    "\n",
    "mean(hip_linked_peaks$encodeLabel == \"PLS\")\n",
    "mean(hip_linked_peaks$PsychSCREEN_bCRE_type == \"PLS\", na.rm = TRUE)"
   ]
  },
  {
   "cell_type": "code",
   "execution_count": null,
   "id": "5c53715c",
   "metadata": {
    "vscode": {
     "languageId": "r"
    }
   },
   "outputs": [],
   "source": [
    "write.csv(pfc_linked_peaks, file = \"./Results/LINK/PFC_linkpeaks_all_annotated_7.19.csv\", row.names = F)\n",
    "write.csv(ec_linked_peaks, file = \"./Results/LINK/EC_linkpeaks_all_annotated_7.19.csv\", row.names = F)\n",
    "write.csv(hip_linked_peaks, file = \"./Results/LINK/HIP_linkpeaks_all_annotated_7.19.csv\", row.names = F)"
   ]
  },
  {
   "cell_type": "markdown",
   "id": "0f7eb0a7",
   "metadata": {
    "vscode": {
     "languageId": "r"
    }
   },
   "source": [
    "## Annotate the linked peaks with new eQLT data"
   ]
  },
  {
   "cell_type": "code",
   "execution_count": null,
   "id": "a04e70f8",
   "metadata": {
    "vscode": {
     "languageId": "r"
    }
   },
   "outputs": [],
   "source": [
    "library(data.table)\n",
    "list.files(\"./Data\")\n",
    "\n",
    "# Load eQTL data\n",
    "beqtl = data.frame()\n",
    "\n",
    "fl = c(\"celltype-eqtl-sumstats.Exc.tsv.gz\",\n",
    "       \"celltype-eqtl-sumstats.Inh.tsv.gz\",\n",
    "       \"celltype-eqtl-sumstats.Mic.tsv.gz\",\n",
    "       \"celltype-eqtl-sumstats.Oli.tsv.gz\",\n",
    "       \"celltype-eqtl-sumstats.Ast.tsv.gz\",\n",
    "       \"celltype-eqtl-sumstats.OPC.tsv.gz\",\n",
    "       \"celltype-eqtl-sumstats.End.tsv.gz\")\n",
    "\n",
    "# Read and combine all filesbeqtl = data.frame()\n",
    "for (i in fl){\n",
    "    df = fread(paste0(\"./Data/\", i))\n",
    "    df = df[df$significant_by_2step_FDR == \"Yes\", ]\n",
    "    beqtl = rbind(beqtl, df)\n",
    "}"
   ]
  },
  {
   "cell_type": "code",
   "execution_count": null,
   "id": "5052b142",
   "metadata": {
    "vscode": {
     "languageId": "r"
    }
   },
   "outputs": [],
   "source": [
    "## Clean up the celltype names\n",
    "beqtl[beqtl$celltype == \"Ast\",]$celltype = \"Astrocyte\"\n",
    "beqtl[beqtl$celltype == \"Inh\",]$celltype = \"Inhibitory\"\n",
    "beqtl[beqtl$celltype == \"Exc\",]$celltype = \"Excitatory\"\n",
    "beqtl[beqtl$celltype == \"Mic\",]$celltype = \"Microglia\"\n",
    "beqtl[beqtl$celltype == \"Oli\",]$celltype = \"Oligodendrocyte\"\n",
    "beqtl[beqtl$celltype == \"OPC\",]$celltype = \"OPC\"\n",
    "beqtl[beqtl$celltype == \"End\",]$celltype = \"Endothelial\"\n",
    "\n",
    "table(beqtl$celltype)"
   ]
  },
  {
   "cell_type": "code",
   "execution_count": null,
   "id": "cf7984ec",
   "metadata": {
    "vscode": {
     "languageId": "r"
    }
   },
   "outputs": [],
   "source": [
    "## save the combined data\n",
    "write.csv(beqtl, \"./Data/beqtl.csv\", row.names = FALSE)\n",
    "beqtl = read.csv(\"./Data/beqtl.csv\")\n",
    "head(beqtl)"
   ]
  },
  {
   "cell_type": "code",
   "execution_count": null,
   "id": "13c9739f",
   "metadata": {
    "vscode": {
     "languageId": "r"
    }
   },
   "outputs": [],
   "source": [
    "dim(beqtl)\n",
    "length(unique(beqtl$gene_symbol))"
   ]
  },
  {
   "cell_type": "code",
   "execution_count": null,
   "id": "121d2e1a",
   "metadata": {
    "vscode": {
     "languageId": "r"
    }
   },
   "outputs": [],
   "source": [
    "# linked_peaks = read.csv(\"./Results/LINK/PFC_linkpeaks_all_annotated_7.19.csv\")\n",
    "# linked_peaks = read.csv(\"./Results/LINK/HIP_linkpeaks_all_annotated_7.19.csv\")\n",
    "table(linked_peaks$in_brain_sc_eqlt,linked_peaks$celltype)"
   ]
  },
  {
   "cell_type": "code",
   "execution_count": null,
   "id": "b03d3184",
   "metadata": {
    "vscode": {
     "languageId": "r"
    }
   },
   "outputs": [],
   "source": [
    "colnames(linked_peaks)"
   ]
  },
  {
   "cell_type": "code",
   "execution_count": null,
   "id": "9dcd3b62",
   "metadata": {
    "vscode": {
     "languageId": "r"
    }
   },
   "outputs": [],
   "source": [
    "## Organize the data into a GRanges object\n",
    "eqtl_gr <- GRanges(\n",
    "  seqnames = beqtl$chr38,\n",
    "  ranges = IRanges(start = beqtl$pos38, end = beqtl$pos38),\n",
    "  strand = \"*\",\n",
    "  gene_name = beqtl$gene_symbol,\n",
    "  RSID = beqtl$snps,\n",
    "  beta = beqtl$beta,\n",
    "  pvalue = beqtl$pvalue,\n",
    "  celltype = beqtl$celltype\n",
    ")\n",
    "\n",
    "eqtl_gr"
   ]
  },
  {
   "cell_type": "code",
   "execution_count": null,
   "id": "6b0dd4e3",
   "metadata": {
    "vscode": {
     "languageId": "r"
    }
   },
   "outputs": [],
   "source": [
    "## Find overlaps between linked peaks and eQTLs\n",
    "atac_peaks <- linked_peaks[,c(\"seqnames\",\"peak.start\",\"peak.end\")] \n",
    "atac_peaks <- GRanges(atac_peaks)\n",
    "atac_peaks\n",
    "\n",
    "overlap_eqtl <- findOverlaps(atac_peaks,eqtl_gr)"
   ]
  },
  {
   "cell_type": "code",
   "execution_count": null,
   "id": "b2c442b0",
   "metadata": {
    "vscode": {
     "languageId": "r"
    }
   },
   "outputs": [],
   "source": [
    "# ATAC-seq peaks contain SNPs\n",
    "peaks_contain_snps <- linked_peaks[queryHits(overlap_eqtl),]\n",
    "peaks_contain_snps$RSID <- eqtl_gr[subjectHits(overlap_eqtl)]$RSID\n",
    "peaks_contain_snps$eGene <- eqtl_gr[subjectHits(overlap_eqtl)]$gene_name\n",
    "peaks_contain_snps$cell_type <- eqtl_gr[subjectHits(overlap_eqtl)]$celltype\n",
    "peaks_contain_snps$beta <- eqtl_gr[subjectHits(overlap_eqtl)]$beta\n",
    "peaks_contain_snps <- peaks_contain_snps[peaks_contain_snps$gene == peaks_contain_snps$eGene & peaks_contain_snps$celltype == peaks_contain_snps$cell_type,]\n",
    "\n",
    "linked_peaks$in_brain_sc_eqlt <- ifelse(linked_peaks$comb %in% peaks_contain_snps$comb, T, F)"
   ]
  },
  {
   "cell_type": "code",
   "execution_count": null,
   "id": "74c50830",
   "metadata": {
    "vscode": {
     "languageId": "r"
    }
   },
   "outputs": [],
   "source": [
    "## Check and save the results\n",
    "head(peaks_contain_snps)\n",
    "\n",
    "table(linked_peaks$in_brain_sc_eqlt, linked_peaks$celltype)"
   ]
  },
  {
   "cell_type": "code",
   "execution_count": null,
   "id": "a50440e5",
   "metadata": {
    "vscode": {
     "languageId": "r"
    }
   },
   "outputs": [],
   "source": [
    "write.csv(peaks_contain_snps,\"./Results/Revision/LINK/peaks_contain_snps_ec.csv\", row.names = F)\n",
    "write.csv(linked_peaks,\"./Results/Revision/LINK/EC_linkpeaks_all_annotated_7.19.csv\", row.names = F)"
   ]
  },
  {
   "cell_type": "code",
   "execution_count": null,
   "id": "c4702728",
   "metadata": {
    "vscode": {
     "languageId": "r"
    }
   },
   "outputs": [],
   "source": [
    "linked_peaks = read.csv(\"./Results/Revision/LINK/EC_linkpeaks_all_annotated_7.19.csv\")\n",
    "table(linked_peaks$in_brain_sc_eqlt, linked_peaks$celltype)"
   ]
  },
  {
   "cell_type": "markdown",
   "id": "0003ee37",
   "metadata": {
    "vscode": {
     "languageId": "r"
    }
   },
   "source": [
    "## Visualize the results"
   ]
  },
  {
   "cell_type": "code",
   "execution_count": null,
   "id": "39e0b0c4",
   "metadata": {
    "vscode": {
     "languageId": "r"
    }
   },
   "outputs": [],
   "source": [
    "out_pfc <- read.csv(\"./Results/Revision/LINK/peaks_contain_snps_pfc.csv\")\n",
    "out_ec <- read.csv(\"./Results/Revision/LINK/peaks_contain_snps_ec.csv\")\n",
    "out_hip <- read.csv(\"./Results/Revision/LINK/peaks_contain_snps_hip.csv\")\n",
    "\n",
    "out_pfc$ct_rg <- paste(out_pfc$celltype,\"_PFC\",sep = \"\")\n",
    "out_ec$ct_rg <- paste(out_ec$celltype,\"_EC\",sep = \"\")\n",
    "out_hip$ct_rg <- paste(out_hip$celltype,\"_HIP\",sep = \"\")"
   ]
  },
  {
   "cell_type": "code",
   "execution_count": null,
   "id": "ff5b37cf",
   "metadata": {
    "vscode": {
     "languageId": "r"
    }
   },
   "outputs": [],
   "source": [
    "temp <- rbind(out_pfc,out_ec, out_hip)\n",
    "mat <- table(temp$ct_rg, temp$gene)\n",
    "mat <- t(mat)\n",
    "\n",
    "mat\n",
    "dim(mat)"
   ]
  },
  {
   "cell_type": "code",
   "execution_count": null,
   "id": "4232c298",
   "metadata": {
    "vscode": {
     "languageId": "r"
    }
   },
   "outputs": [],
   "source": [
    "mat[c(\"APOE\"),]"
   ]
  },
  {
   "cell_type": "code",
   "execution_count": null,
   "id": "c3af37df",
   "metadata": {
    "vscode": {
     "languageId": "r"
    }
   },
   "outputs": [],
   "source": [
    "mat = mat[rowSums(mat) > 10,]\n",
    "dim(mat)"
   ]
  },
  {
   "cell_type": "code",
   "execution_count": null,
   "id": "96028554",
   "metadata": {
    "vscode": {
     "languageId": "r"
    }
   },
   "outputs": [],
   "source": [
    "rownames(mat)"
   ]
  },
  {
   "cell_type": "code",
   "execution_count": null,
   "id": "e13dba17",
   "metadata": {
    "vscode": {
     "languageId": "r"
    }
   },
   "outputs": [],
   "source": [
    "ha<-HeatmapAnnotation(Region=colnames(mat)\n",
    "                       , col= list(Region=c(\"Astrocyte_EC\"=\"#825ca6ff\",\"Astrocyte_HIP\"=\"#3f78c1ff\",\"Astrocyte_PFC\"=\"#c25757ff\",\n",
    "                                            \"Excitatory_EC\"=\"#825ca6ff\",\"Excitatory_HIP\"=\"#3f78c1ff\",\"Excitatory_PFC\"=\"#c25757ff\",\n",
    "                                            \"Inhibitory_PFC\"=\"#c25757ff\",\"Inhibitory_EC\"=\"#825ca6ff\",\"Inhibitory_HIP\"=\"#3f78c1ff\",\n",
    "                                            \"Microglia_EC\"=\"#825ca6ff\",\"Microglia_HIP\"=\"#3f78c1ff\",\"Microglia_PFC\"=\"#c25757ff\",\n",
    "                                            \"Oligodendrocyte_PFC\"=\"#c25757ff\",\"Oligodendrocyte_EC\"=\"#825ca6ff\",\"Oligodendrocyte_HIP\"=\"#3f78c1ff\",\n",
    "                                            \"OPC_PFC\"=\"#c25757ff\",\"OPC_EC\"=\"#825ca6ff\",\"OPC_HIP\"=\"#3f78c1ff\")), show_legend=F,annotation_label=\"Brain region\")\n",
    "ha2<-HeatmapAnnotation(Celltype=colnames(mat)\n",
    "                       , col= list(Celltype=c(\"Astrocyte_EC\"=\"#F06719\",\"Astrocyte_HIP\"=\"#F06719\",\"Astrocyte_PFC\"=\"#F06719\",\n",
    "                                            \"Excitatory_EC\"=\"#33A65C\",\"Excitatory_HIP\"=\"#33A65C\",\"Excitatory_PFC\"=\"#33A65C\",\n",
    "                                            \"Inhibitory_PFC\"=\"#23767C\",\"Inhibitory_EC\"=\"#23767C\",\"Inhibitory_HIP\"=\"#23767C\",\n",
    "                                            \"Microglia_EC\"=\"#E03426\",\"Microglia_HIP\"=\"#E03426\",\"Microglia_PFC\"=\"#E03426\",\n",
    "                                            \"Oligodendrocyte_PFC\"=\"#1ba3c6ff\",\"Oligodendrocyte_EC\"=\"#1ba3c6ff\",\"Oligodendrocyte_HIP\"=\"#1ba3c6ff\",\n",
    "                                            \"OPC_EC\"=\"#A26DC2\",\"OPC_HIP\"=\"#A26DC2\",\"OPC_PFC\"=\"#A26DC2\")), show_legend=F,annotation_label=\"Cell type\")\n",
    "ha <- c(ha2,ha)\n",
    "ht <- Heatmap(mat,\n",
    "    cluster_rows = T,\n",
    "    cluster_columns = F,\n",
    "    col = colorRamp2(c(0,10,30),c(\"grey99\",\"red\",\"red4\")),\n",
    "    row_names_side = \"left\",row_names_gp = gpar(fontface=\"italic\"),\n",
    "    top_annotation=ha,show_column_names=F,show_row_dend = F,\n",
    "    )"
   ]
  },
  {
   "cell_type": "code",
   "execution_count": null,
   "id": "68ef645f",
   "metadata": {
    "vscode": {
     "languageId": "r"
    }
   },
   "outputs": [],
   "source": [
    "range(mat)"
   ]
  },
  {
   "cell_type": "code",
   "execution_count": null,
   "id": "2a5b274e",
   "metadata": {
    "vscode": {
     "languageId": "r"
    }
   },
   "outputs": [],
   "source": [
    "options(repr.plot.width=6, repr.plot.height=15)\n",
    "pdf(file = \"./Results/Revision/LINK/sceQTL_heatmap_updated.pdf\",height = 15,width = 6)   \n",
    "ht\n",
    "dev.off()"
   ]
  },
  {
   "cell_type": "markdown",
   "id": "6c9dd943",
   "metadata": {
    "vscode": {
     "languageId": "r"
    }
   },
   "source": [
    "## Check if DEG-linked peaks are also differentially assessed in the same cell type"
   ]
  },
  {
   "cell_type": "code",
   "execution_count": null,
   "id": "a71bd3ef",
   "metadata": {
    "vscode": {
     "languageId": "r"
    }
   },
   "outputs": [],
   "source": [
    "pfc_linked_peaks = read.csv(\"./Results/Revision/LINK/PFC_linkpeaks_all_annotated_7.19.csv\")\n",
    "ec_linked_peaks = read.csv(\"./Results/Revision/LINK/EC_linkpeaks_all_annotated_7.19.csv\")\n",
    "hip_linked_peaks = read.csv(\"./Results/Revision/LINK/HIP_linkpeaks_all_annotated_7.19.csv\")"
   ]
  },
  {
   "cell_type": "code",
   "execution_count": null,
   "id": "297f7fbd",
   "metadata": {
    "vscode": {
     "languageId": "r"
    }
   },
   "outputs": [],
   "source": [
    "## read in the DA analysis results\n",
    "da_pfc = read.csv(\"./Results/DA/DA_major.cell.type_PFC.csv\")\n",
    "da_ec = read.csv(\"./Results/DA/DA_major.cell.type_EC.csv\")\n",
    "da_hip = read.csv(\"./Results/DA/DA_major.cell.type_HIP.csv\")"
   ]
  },
  {
   "cell_type": "code",
   "execution_count": null,
   "id": "b24e9591",
   "metadata": {
    "vscode": {
     "languageId": "r"
    }
   },
   "outputs": [],
   "source": [
    "linked_peaks = pfc_linked_peaks\n",
    "dar_results = da_pfc"
   ]
  },
  {
   "cell_type": "code",
   "execution_count": null,
   "id": "af98c594",
   "metadata": {
    "vscode": {
     "languageId": "r"
    }
   },
   "outputs": [],
   "source": [
    "# Ensure consistent naming\n",
    "linked_peaks$peak <- as.character(linked_peaks$peak)\n",
    "dar_results$peaks <- as.character(dar_results$peaks)\n",
    "\n",
    "# Filter DARs for significance (e.g., adj p < 0.05)\n",
    "sig_dars <- dar_results %>% filter(p_val_adj < 0.05)\n",
    "\n",
    "dim(sig_dars)"
   ]
  },
  {
   "cell_type": "code",
   "execution_count": null,
   "id": "f21f456e",
   "metadata": {
    "vscode": {
     "languageId": "r"
    }
   },
   "outputs": [],
   "source": [
    "linked_peaks %>%\n",
    "  filter(peak %in% sig_dars$peaks)%>%\n",
    "  group_by(celltype) %>%\n",
    "  summarise(n_linked_da_peaks = n())"
   ]
  },
  {
   "cell_type": "code",
   "execution_count": null,
   "id": "29ad0c9c",
   "metadata": {
    "vscode": {
     "languageId": "r"
    }
   },
   "outputs": [],
   "source": [
    "# Count overlapping peaks per cell type\n",
    "overlap_counts <- linked_peaks %>%\n",
    "  filter(peak %in% sig_dars$peaks) %>%\n",
    "  group_by(celltype) %>%  # adjust this column name if needed\n",
    "  summarise(n_linked_da_peaks = n())"
   ]
  },
  {
   "cell_type": "code",
   "execution_count": null,
   "id": "67ac2023",
   "metadata": {
    "vscode": {
     "languageId": "r"
    }
   },
   "outputs": [],
   "source": [
    "# Count overlapping peaks per cell type\n",
    "overlap_counts <- linked_peaks %>%\n",
    "  filter(peak %in% sig_dars$peaks) %>%\n",
    "  group_by(celltype) %>%  # adjust this column name if needed\n",
    "  summarise(n_linked_da_peaks = n())\n",
    "\n",
    "# For total linked peaks per cell type\n",
    "total_linked <- linked_peaks %>%\n",
    "  group_by(celltype) %>%\n",
    "  summarise(n_total_linked = n())\n",
    "\n",
    "# Merge results\n",
    "overlap_summary <- left_join(total_linked, overlap_counts, by = \"celltype\") %>%\n",
    "  mutate(n_linked_da_peaks = ifelse(is.na(n_linked_da_peaks), 0, n_linked_da_peaks),\n",
    "         proportion = n_linked_da_peaks / n_total_linked)\n",
    "\n",
    "# Output\n",
    "print(overlap_summary)"
   ]
  },
  {
   "cell_type": "code",
   "execution_count": null,
   "id": "f11624d7",
   "metadata": {
    "vscode": {
     "languageId": "r"
    }
   },
   "outputs": [],
   "source": [
    "# pfc_summary = overlap_summary\n",
    "# ec_summary = overlap_summary\n",
    "hip_summary = overlap_summary"
   ]
  },
  {
   "cell_type": "code",
   "execution_count": null,
   "id": "2e76879d",
   "metadata": {
    "vscode": {
     "languageId": "r"
    }
   },
   "outputs": [],
   "source": [
    "df = rbind(pfc_summary, ec_summary, hip_summary)"
   ]
  },
  {
   "cell_type": "code",
   "execution_count": null,
   "id": "e0a74b5b",
   "metadata": {
    "vscode": {
     "languageId": "r"
    }
   },
   "outputs": [],
   "source": [
    "pfc_summary$region <- \"PFC\"\n",
    "ec_summary$region <- \"EC\"\n",
    "hip_summary$region <- \"HIP\""
   ]
  },
  {
   "cell_type": "code",
   "execution_count": null,
   "id": "e6987936",
   "metadata": {
    "vscode": {
     "languageId": "r"
    }
   },
   "outputs": [],
   "source": [
    "p = ggplot(df, aes(x = region, y = celltype)) +\n",
    "          geom_point(aes(size = n_linked_da_peaks, color = proportion)) +\n",
    "          scale_color_viridis_c() +\n",
    "          scale_size_continuous(range = c(3, 10)) +\n",
    "          labs(size = \"Number of significant DARs\", color = \"Proportion\",\n",
    "               x = \"Brain Region\", y = \"Cell Type\") +\n",
    "          theme_minimal()\n",
    "options(repr.plot.width=6, repr.plot.height=4)\n",
    "p\n",
    "ggsave(p,filename = \"./Results/Revision/LINK/linked_peaks_DARs_summary.pdf\", width = 6, height = 4)"
   ]
  },
  {
   "cell_type": "code",
   "execution_count": null,
   "id": "48a2b17e",
   "metadata": {
    "vscode": {
     "languageId": "r"
    }
   },
   "outputs": [],
   "source": [
    "linked_peaks$comb = paste(linked_peaks$peak, linked_peaks$celltype, sep = \"_\")\n",
    "da_pfc_sig$comb = paste(da_pfc_sig$peaks, da_pfc_sig$cell.type, sep = \"_\")\n",
    "\n",
    "table(linked_peaks$comb %in% da_pfc_sig$comb)"
   ]
  },
  {
   "cell_type": "code",
   "execution_count": null,
   "id": "a1dc393c",
   "metadata": {
    "vscode": {
     "languageId": "r"
    }
   },
   "outputs": [],
   "source": [
    "da_pfc_sig = da_pfc[da_pfc$p_val_adj < 0.05,]"
   ]
  },
  {
   "cell_type": "code",
   "execution_count": null,
   "id": "6a2951c2",
   "metadata": {
    "vscode": {
     "languageId": "r"
    }
   },
   "outputs": [],
   "source": [
    "table(pfc_linked_peaks$peak %in% da_pfc_sig$peaks & pfc_linked_peaks$celltype == da_pfc_sig$cell.type)"
   ]
  }
 ],
 "metadata": {
  "kernelspec": {
   "display_name": "R",
   "language": "R",
   "name": "ir"
  },
  "language_info": {
   "codemirror_mode": "r",
   "file_extension": ".r",
   "mimetype": "text/x-r-source",
   "name": "R",
   "pygments_lexer": "r",
   "version": "4.3.2"
  }
 },
 "nbformat": 4,
 "nbformat_minor": 5
}
