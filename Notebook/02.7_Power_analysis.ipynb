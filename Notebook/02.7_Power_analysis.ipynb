{
 "cells": [
  {
   "cell_type": "markdown",
   "id": "f5dfec53",
   "metadata": {},
   "source": [
    "# To run \"hierarchicell\" package. The version \"Matrix\" of package must be lower than 1.6.3. If higher than that, need to remove and reinstall. \n",
    "## link <- \"https://cran.r-project.org/src/contrib/Archive/Matrix/Matrix_1.6-3.tar.gz\"\n",
    "## install.packages(link, repos=NULL, type=\"source\")"
   ]
  },
  {
   "cell_type": "code",
   "execution_count": null,
   "id": "2c1c3554",
   "metadata": {
    "vscode": {
     "languageId": "r"
    }
   },
   "outputs": [],
   "source": [
    "# To run \"hierarchicell\" package. The version \"Matrix\" of package must be lower than 1.6.3. If higher than that, need to remove and reinstall. \n",
    "link <- \"https://cran.r-project.org/src/contrib/Archive/Matrix/Matrix_1.6-3.tar.gz\"\n",
    "link <- \"https://cran.r-project.org/src/contrib/Archive/Matrix/Matrix_1.6-4.tar.gz\"\n",
    "install.packages(link, repos=NULL, type=\"source\")"
   ]
  },
  {
   "cell_type": "code",
   "execution_count": null,
   "id": "f63b2566",
   "metadata": {
    "vscode": {
     "languageId": "r"
    }
   },
   "outputs": [],
   "source": [
    "### Extract the cell barcodes of interest, and generate 40 (customized n) barcodes in a text file to accelerate the speed of step 2\n",
    "# packages\n",
    "library(utils)\n",
    "library(stats)\n",
    "library(Seurat)\n",
    "library(Signac)\n",
    "library(tidyr)\n",
    "library(dplyr)\n",
    "library(hierarchicell)\n",
    "library(stringr)\n",
    "\n",
    "\n",
    "gc()"
   ]
  },
  {
   "cell_type": "code",
   "execution_count": null,
   "id": "202f557f",
   "metadata": {
    "vscode": {
     "languageId": "r"
    }
   },
   "outputs": [],
   "source": [
    "sessionInfo(\"Matrix\")"
   ]
  },
  {
   "cell_type": "code",
   "execution_count": null,
   "id": "be9b1572",
   "metadata": {
    "vscode": {
     "languageId": "r"
    }
   },
   "outputs": [],
   "source": [
    "## load in metadata for each dataset\n",
    "sample.meta <- read.csv(\"./Merge_multi_b2345.csv\")\n",
    "#sample.meta"
   ]
  },
  {
   "cell_type": "code",
   "execution_count": null,
   "id": "2865ba4c",
   "metadata": {
    "vscode": {
     "languageId": "r"
    }
   },
   "outputs": [],
   "source": [
    "## read in the object. The method is simulation based, then will need reference matrix for each cell type in each region. \n",
    "obj <- readRDS(\"./cellbender_EC_object_10.31.rds\")\n",
    "obj"
   ]
  },
  {
   "cell_type": "code",
   "execution_count": null,
   "id": "198b2a7e",
   "metadata": {
    "vscode": {
     "languageId": "r"
    }
   },
   "outputs": [],
   "source": [
    "table(obj$diagnosis,obj$individual_ID)\n",
    "table(obj$diagnosis,obj$cluster_celltype)"
   ]
  },
  {
   "cell_type": "code",
   "execution_count": null,
   "id": "cfa2f644",
   "metadata": {
    "vscode": {
     "languageId": "r"
    }
   },
   "outputs": [],
   "source": [
    "## get parameters for the simulation and powere analysis\n",
    "DefaultAssay(obj) <- \"PC\"\n",
    "ct <- \"Oligodendrocyte\"\n",
    "\n",
    "# get number of cells in each condition\n",
    "meta <- obj@meta.data\n",
    "meta_eoad <- meta[meta$diagnosis == \"EOAD\",]\n",
    "meta_ctl <- meta[meta$diagnosis == \"NCI\",]\n",
    "\n",
    "n_cell_case = ceiling(mean(table(meta_eoad[meta_eoad$cluster_celltype == ct,]$individual_ID)))\n",
    "n_cell_ctl = ceiling(mean(table(meta_ctl[meta_ctl$cluster_celltype == ct,]$individual_ID)))\n",
    "\n",
    "# subsetting\n",
    "obj1 <- subset(obj, subset = cluster_celltype == ct)\n",
    "obj1\n",
    "\n",
    "## filter genes\n",
    "# calculating the number of expressed genes: genes expressed in more than 25% of cells.\n",
    "counts <- LayerData(obj1,assay = \"PC\",layer = \"counts\")# code in seurat 5.0+\n",
    "genes.percent.expression <- rowMeans(counts>0 )*100   \n",
    "genes.filter <- names(genes.percent.expression[genes.percent.expression>25])\n",
    "\n",
    "# number of expressed genes. \n",
    "n_genes = length(genes.filter)\n",
    "\n",
    "###################################\n",
    "##-- building reference matrix --##\n",
    "###################################\n",
    "exp <- as.data.frame(t(counts))\n",
    "\n",
    "## adding columns\n",
    "exp$CellID <- rownames(exp)\n",
    "exp$individualID <- str_split_fixed(rownames(exp),pattern = \"_\",n = 2)[,1]\n",
    "\n",
    "## rearrange\n",
    "exp <- exp[,c(14928:14929,1:14927)]"
   ]
  },
  {
   "cell_type": "code",
   "execution_count": null,
   "id": "7ce3efe1",
   "metadata": {
    "vscode": {
     "languageId": "r"
    }
   },
   "outputs": [],
   "source": [
    "## Estimate parameters from the simulated data\n",
    "clean_exp <- filter_counts(exp)\n",
    "data_summaries <- compute_data_summaries(clean_exp,type = \"Raw\")"
   ]
  },
  {
   "cell_type": "code",
   "execution_count": null,
   "id": "881ddaef",
   "metadata": {
    "vscode": {
     "languageId": "r"
    }
   },
   "outputs": [],
   "source": [
    "approximate_gene_mean(data_summaries,plot= T)\n",
    "model_dispersion(data_summaries, plot = T)\n",
    "model_inter(data_summaries, plot = T)\n",
    "approximate_gene_drop(data_summaries,plot = T)\n",
    "model_drop_sd(data_summaries,plot = T)"
   ]
  },
  {
   "cell_type": "code",
   "execution_count": null,
   "id": "8cff782f",
   "metadata": {
    "vscode": {
     "languageId": "r"
    }
   },
   "outputs": [],
   "source": [
    "#print(n_genes)\n",
    "print(n_cell_case)\n",
    "print(n_cell_ctl)\n",
    "print(n_genes)\n",
    "### Estimate power with a two-part hurdle mixed model\n",
    "options(warn=-1)\n",
    "res <- power_hierarchicell(data_summaries,n_genes=3000,cells_per_case = n_cell_case,cells_per_control = n_cell_ctl, n_per_group = 3,foldchange = 1.5,pval = 0.05)\n",
    "options(warn=0)\n",
    "\n",
    "# printing results\n",
    "print(res)"
   ]
  },
  {
   "cell_type": "code",
   "execution_count": null,
   "id": "4a166547",
   "metadata": {
    "vscode": {
     "languageId": "r"
    }
   },
   "outputs": [],
   "source": [
    "#print(n_genes)\n",
    "print(n_cell_case)\n",
    "print(n_cell_ctl)\n",
    "print(n_genes)\n",
    "### Estimate power with a two-part hurdle mixed model\n",
    "options(warn=-1)\n",
    "res <- power_hierarchicell(data_summaries,n_genes=3000,cells_per_case = n_cell_case,cells_per_control = n_cell_ctl, n_per_group = 3,foldchange = 2,pval = 0.05)\n",
    "options(warn=0)\n",
    "\n",
    "# printing results\n",
    "print(res)"
   ]
  },
  {
   "cell_type": "code",
   "execution_count": null,
   "id": "88d6e77f",
   "metadata": {
    "vscode": {
     "languageId": "r"
    }
   },
   "outputs": [],
   "source": [
    "clean_expr_data <- filter_counts()\n",
    "data_summaries <- compute_data_summaries(clean_expr_data)\n",
    "simulated_counts <- simulate_hierarchicell(data_summaries)\n",
    "\n",
    "#power_hierarchicell(data_summaries)"
   ]
  }
 ],
 "metadata": {
  "kernelspec": {
   "display_name": "R",
   "language": "R",
   "name": "ir"
  },
  "language_info": {
   "codemirror_mode": "r",
   "file_extension": ".r",
   "mimetype": "text/x-r-source",
   "name": "R",
   "pygments_lexer": "r",
   "version": "4.4.2"
  }
 },
 "nbformat": 4,
 "nbformat_minor": 5
}
