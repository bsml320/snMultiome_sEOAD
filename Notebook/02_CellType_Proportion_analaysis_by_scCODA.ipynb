{
 "cells": [
  {
   "cell_type": "code",
   "execution_count": null,
   "id": "21ef5b60-152f-4e8a-a343-4005548f5fe5",
   "metadata": {
    "scrolled": true
   },
   "outputs": [],
   "source": [
    "# conda update -n base -c defaults conda\n",
    "import warnings\n",
    "warnings.filterwarnings(\"ignore\")\n",
    "import os\n",
    "import scanpy as sc\n",
    "\n",
    "import mudata as mu\n",
    "import matplotlib.pyplot as plt\n",
    "import arviz as az\n",
    "\n",
    "import pertpy as pt"
   ]
  },
  {
   "cell_type": "code",
   "execution_count": null,
   "id": "cefaf2f8-d8ac-424b-a554-258676ff85da",
   "metadata": {},
   "outputs": [],
   "source": [
    "adata_path = os.path.join(\"./clean_object_for_proportional_analysis.h5ad\")\n",
    "adata = sc.read(adata_path)\n",
    "#adata"
   ]
  },
  {
   "cell_type": "code",
   "execution_count": null,
   "id": "57f6c639",
   "metadata": {},
   "outputs": [],
   "source": [
    "#organize data\n",
    "sccoda_model = pt.tl.Sccoda()\n",
    "sccoda_data = sccoda_model.load(adata, type=\"cell_level\", \n",
    "                                generate_sample_level=True, \n",
    "                                cell_type_identifier=\"cluster_celltype\", \n",
    "                                sample_identifier=\"individual_ID\", \n",
    "                                covariate_obs=[\"diagnosis\",\"sex\",\"age\",\"PMI\",\"regions\",\"batch\"])\n",
    "print(sccoda_data)\n",
    "print(sccoda_data[\"coda\"].X)\n",
    "print(sccoda_data[\"coda\"].obs)"
   ]
  },
  {
   "cell_type": "markdown",
   "id": "30c1bfba",
   "metadata": {},
   "source": [
    "## Try on running between regions first"
   ]
  },
  {
   "cell_type": "code",
   "execution_count": null,
   "id": "d512e364",
   "metadata": {},
   "outputs": [],
   "source": [
    "# Select control and eoad data focusing on specific region\n",
    "sccoda_data.mod[\"coda_eoad\"] = sccoda_data[\"coda\"][sccoda_data[\"coda\"].obs[\"regions\"].isin([\"HIP\",\"EC\",\"PFC\"])].copy()"
   ]
  },
  {
   "cell_type": "code",
   "execution_count": null,
   "id": "64c8d993",
   "metadata": {},
   "outputs": [],
   "source": [
    "pt.pl.coda.boxplots(sccoda_data, modality_key=\"coda_eoad\", feature_name=\"regions\", \n",
    "                    add_dots=True,dpi=500,figsize=(14, 6))\n",
    "\n",
    "plt.savefig('./Figures/Brain_regions.pdf',dpi=500)\n",
    "plt.show()\n"
   ]
  },
  {
   "cell_type": "code",
   "execution_count": null,
   "id": "64d07285",
   "metadata": {},
   "outputs": [],
   "source": [
    "# Stacked barplot for each sample\n",
    "pt.pl.coda.stacked_barplot(sccoda_data, modality_key=\"coda_eoad\", feature_name=\"individual_ID\")\n",
    "plt.show()\n",
    "\n",
    "# Stacked barplot for the levels of \"Condition\"\n",
    "pt.pl.coda.stacked_barplot(sccoda_data, modality_key=\"coda_eoad\", feature_name=\"diagnosis\")\n",
    "plt.show()\n",
    "\n",
    "# Stacked barplot for the levels of \"Brain regions\"\n",
    "pt.pl.coda.stacked_barplot(sccoda_data, modality_key=\"coda_eoad\", feature_name=\"regions\")\n",
    "plt.show()"
   ]
  },
  {
   "cell_type": "code",
   "execution_count": null,
   "id": "872e17b3",
   "metadata": {},
   "outputs": [],
   "source": [
    "pt.pl.coda.rel_abundance_dispersion_plot(sccoda_data, modality_key=\"coda_eoad\", abundant_threshold=0.9)"
   ]
  },
  {
   "cell_type": "code",
   "execution_count": null,
   "id": "83b87a63",
   "metadata": {},
   "outputs": [],
   "source": [
    "sccoda_data = sccoda_model.prepare(sccoda_data, \n",
    "                                   modality_key=\"coda_eoad\", \n",
    "                                   formula=\"C(regions, Treatment('PFC')) + C(diagnosis, Treatment('NCI'))\", \n",
    "                                   reference_cell_type=\"OPC\")\n",
    "sccoda_data[\"coda_eoad\"]"
   ]
  },
  {
   "cell_type": "code",
   "execution_count": null,
   "id": "73fec099",
   "metadata": {},
   "outputs": [],
   "source": [
    "# Run MCMC\n",
    "sccoda_model.run_nuts(sccoda_data, modality_key=\"coda_eoad\")\n",
    "sccoda_data[\"coda_eoad\"]\n",
    "sccoda_model.summary(sccoda_data, modality_key=\"coda_eoad\")\n",
    "sccoda_model.credible_effects(sccoda_data, modality_key=\"coda_eoad\")"
   ]
  },
  {
   "cell_type": "code",
   "execution_count": null,
   "id": "6f63fe3c",
   "metadata": {},
   "outputs": [],
   "source": [
    "sccoda_model.set_fdr(sccoda_data, modality_key=\"coda_eoad\", est_fdr=0.05)\n",
    "sccoda_model.summary(sccoda_data, modality_key=\"coda_eoad\")"
   ]
  },
  {
   "cell_type": "code",
   "execution_count": null,
   "id": "a1973377",
   "metadata": {},
   "outputs": [],
   "source": [
    "# saving\n",
    "path = \"test\"\n",
    "sccoda_data.write_h5mu(path)\n",
    "\n",
    "# loading\n",
    "sccoda_data_2 = mu.read_h5mu(path)\n",
    "\n",
    "sccoda_model.summary(sccoda_data_2, modality_key=\"coda_eoad\")"
   ]
  },
  {
   "cell_type": "code",
   "execution_count": null,
   "id": "a51e913c",
   "metadata": {},
   "outputs": [],
   "source": [
    "test_model = pt.tl.Sccoda()\n",
    "test_model.get_intercept_df(sccoda_data_2, modality_key=\"coda_eoad\")\n",
    "test_model.get_effect_df(sccoda_data, modality_key=\"coda_eoad\")\n",
    "test_model.get_effect_df(sccoda_data, modality_key=\"coda_eoad\").to_csv(\"./Results/Peopoetional_analysis_regions_restuls.csv\")"
   ]
  },
  {
   "cell_type": "markdown",
   "id": "8feaea6f",
   "metadata": {},
   "source": [
    "## run the analysis on each brain region, between EOAD and control"
   ]
  },
  {
   "cell_type": "code",
   "execution_count": null,
   "id": "68fbdbfe",
   "metadata": {},
   "outputs": [],
   "source": [
    "# Select control and eoad data focusing on specific region\n",
    "reion_oi=\"EC\"\n",
    "sccoda_data.mod[\"coda_eoad\"] = sccoda_data[\"coda\"][sccoda_data[\"coda\"].obs[\"regions\"].isin([reion_oi])].copy()\n",
    "print(sccoda_data[\"coda_eoad\"])"
   ]
  },
  {
   "cell_type": "code",
   "execution_count": null,
   "id": "1a261311",
   "metadata": {},
   "outputs": [],
   "source": [
    "#pt.pl.coda.boxplots(sccoda_data, modality_key=\"coda_eoad\", feature_name=\"regions\", \n",
    "#                    add_dots=True,dpi=500,figsize=(14, 6))\n",
    "\n",
    "pt.pl.coda.boxplots(sccoda_data, modality_key=\"coda_eoad\", feature_name=\"diagnosis\", \n",
    "                    add_dots=True,dpi=500,figsize=(6, 4))\n",
    "\n",
    "plt.savefig('./Figures/HIP.pdf',dpi=500)\n",
    "\n",
    "plt.show()"
   ]
  },
  {
   "cell_type": "code",
   "execution_count": null,
   "id": "0885e8ab",
   "metadata": {},
   "outputs": [],
   "source": [
    "pt.pl.coda.rel_abundance_dispersion_plot(sccoda_data, modality_key=\"coda_eoad\", abundant_threshold=0.9)\n",
    "sccoda_data = sccoda_model.prepare(sccoda_data, \n",
    "                                   modality_key=\"coda_eoad\", \n",
    "                                   formula=\"C(diagnosis, Treatment('NCI'))\", \n",
    "                                   reference_cell_type=\"OPC\")\n",
    "\n",
    "#sccoda_data = sccoda_model.prepare(sccoda_data, \n",
    "#                                   modality_key=\"coda_eoad\", \n",
    "#                                   formula=\"C(regions, Treatment('PFC')) + C(diagnosis, Treatment('NCI'))\", \n",
    "#                                   reference_cell_type=\"OPC\")\n",
    "sccoda_data[\"coda_eoad\"]"
   ]
  },
  {
   "cell_type": "code",
   "execution_count": null,
   "id": "8030c99f",
   "metadata": {},
   "outputs": [],
   "source": [
    "# Run MCMC\n",
    "sccoda_model.run_nuts(sccoda_data, modality_key=\"coda_eoad\")\n",
    "sccoda_data[\"coda_eoad\"]"
   ]
  },
  {
   "cell_type": "code",
   "execution_count": null,
   "id": "3ed27ffe",
   "metadata": {},
   "outputs": [],
   "source": [
    "sccoda_model.summary(sccoda_data, modality_key=\"coda_eoad\")\n",
    "sccoda_model.credible_effects(sccoda_data, modality_key=\"coda_eoad\")\n",
    "sccoda_model.set_fdr(sccoda_data, modality_key=\"coda_eoad\", est_fdr=0.05)\n",
    "sccoda_model.summary(sccoda_data, modality_key=\"coda_eoad\")"
   ]
  },
  {
   "cell_type": "code",
   "execution_count": null,
   "id": "dd549feb",
   "metadata": {},
   "outputs": [],
   "source": [
    "# saving\n",
    "path = \"test\"\n",
    "sccoda_data.write_h5mu(path)\n",
    "\n",
    "# loading\n",
    "sccoda_data_2 = mu.read_h5mu(path)\n",
    "\n",
    "sccoda_model.summary(sccoda_data_2, modality_key=\"coda_eoad\")"
   ]
  },
  {
   "cell_type": "code",
   "execution_count": null,
   "id": "e1cc0b66",
   "metadata": {},
   "outputs": [],
   "source": [
    "test_model = pt.tl.Sccoda()\n",
    "test_model.get_intercept_df(sccoda_data_2, modality_key=\"coda_eoad\")\n",
    "test_model.get_effect_df(sccoda_data, modality_key=\"coda_eoad\")\n",
    "test_model.get_effect_df(sccoda_data, modality_key=\"coda_eoad\").to_csv(\"./Results/Peopoetional_analysis_HIP_restuls.csv\")"
   ]
  }
 ],
 "metadata": {
  "kernelspec": {
   "display_name": "py39",
   "language": "python",
   "name": "python3"
  },
  "language_info": {
   "codemirror_mode": {
    "name": "ipython",
    "version": 3
   },
   "file_extension": ".py",
   "mimetype": "text/x-python",
   "name": "python",
   "nbconvert_exporter": "python",
   "pygments_lexer": "ipython3",
   "version": "3.9.15"
  }
 },
 "nbformat": 4,
 "nbformat_minor": 5
}
